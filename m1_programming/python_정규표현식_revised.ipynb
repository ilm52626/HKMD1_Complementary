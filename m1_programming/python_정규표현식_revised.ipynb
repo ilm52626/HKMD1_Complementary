{
  "cells": [
    {
      "cell_type": "markdown",
      "source": [
        "# 정규표현식 기본 개념\n",
        "\n",
        "한 영화관에서는 예매 시 사용자의 휴대폰 번호를 입력받아야 합니다. 예매 정보는 해당 번호와 함께 저장됩니다. 그러나 종종 잘못된 번호가 입력되어 예매 정보가 유실되는 문제가 발생했습니다.\n",
        "\n",
        "이런 문제를 해결하기 위해, 영화관은 **정규표현식**을 사용해 휴대폰 번호를 검증하기로 결정했습니다. 이제 사용자가 휴대폰 번호를 입력할 때, 정확한 형식으로 입력되었는지 확인하고, 유효한 번호만 저장할 수 있습니다."
      ],
      "metadata": {
        "id": "Sd3z6fsjqn5P"
      },
      "id": "Sd3z6fsjqn5P"
    },
    {
      "cell_type": "markdown",
      "source": [
        "## 정규표현식이란?\n",
        "\n",
        "정규표현식(Regular Expression)은 문자열에서 특정한 패턴을 찾거나, 대체하거나, 추출하는데 사용되는 문자열입니다. 즉, 문자열에서 원하는 문자를 찾거나 바꾸기 위한 일종의 패턴이라고 생각할 수 있습니다.\n",
        "\n",
        "\n",
        "예를 들어, 정규표현식에서 '.'은 어떤 문자 하나를 의미하고, '*'는 바로 앞의 문자가 0번 이상 반복됨을 의미합니다. 또한, '|'는 OR 조건을 의미하고, '^'는 문자열의 시작을 의미합니다.\n",
        "\n",
        "파이썬에서는 정규표현식을 처리하기 위해 're' 모듈을 제공합니다. 're' 모듈을 사용하면 문자열에서 패턴을 찾거나, 추출하거나, 대체할 수 있습니다.\n",
        "\n"
      ],
      "metadata": {
        "id": "YE6FY4brrOA7"
      },
      "id": "YE6FY4brrOA7"
    },
    {
      "cell_type": "code",
      "source": [
        "# 문자열에서 숫자만 추출하는 예시\n",
        "\n",
        "import re\n",
        "\n",
        "text = \"Hello, my number is 12345.\"\n",
        "\n",
        "# text 문자열에서 숫자만을 추출\n",
        "# '\\d+'는 하나 이상의 숫자를 의미하는 정규표현식\n",
        "numbers = re.findall('\\d+', text)\n",
        "print(numbers)"
      ],
      "metadata": {
        "colab": {
          "base_uri": "https://localhost:8080/"
        },
        "id": "txiLRTFyuCOd",
        "outputId": "a2bb02b8-0a72-43be-ac7d-ba5ffaf312da"
      },
      "id": "txiLRTFyuCOd",
      "execution_count": 1,
      "outputs": [
        {
          "output_type": "stream",
          "name": "stdout",
          "text": [
            "['12345']\n"
          ]
        }
      ]
    },
    {
      "cell_type": "markdown",
      "source": [
        "## 정규표현식의 장단점\n",
        "\n",
        "[장점]\n",
        "1.\t유연성: 정규표현식을 사용하면 다양한 패턴을 표현할 수 있습니다. 예를 들어, 특정 문자열이 특정 패턴을 따르는지 여부를 확인하거나, 특정 패턴을 가진 문자열을 찾아내는 등 다양한 용도로 사용할 수 있습니다.\n",
        "2.\t간결성: 문자열에서 원하는 정보를 추출하는 데에는 정규표현식이 다른 방법에 비해 더 간단하고 직관적입니다.\n",
        "3.\t속도: 정규표현식은 문자열을 일일이 검색하는 것보다 더 빠른 속도로 패턴을 찾아낼 수 있습니다.\n",
        "\n",
        "[단점]\n",
        "1.\t복잡성: 정규표현식은 다양한 패턴을 표현할 수 있지만, 그만큼 문법이 복잡합니다. 특히 초보자에게는 익숙해지기까지 시간이 걸릴 수 있습니다.\n",
        "2.\t이식성: 언어나 툴마다 문법이 조금씩 다르기 때문에, 한 번 익힌 정규표현식이 다른 환경에서는 작동하지 않을 수도 있습니다.\n",
        "3.\t가독성: 정규표현식을 사용하면 코드의 가독성이 떨어질 수 있습니다. 특히, 매우 복잡한 정규표현식을 작성하면 코드가 길어지고 가독성이 나빠질 수 있습니다.\n",
        "위와 같이, 정규표현식은 다양한 장단점을 가지고 있습니다. 그러나 정규표현식은 파이썬을 비롯한 다양한 프로그래밍 언어에서 사용되는 유용한 도구입니다. 아래는 파이썬 코드로 정규표현식을 사용한 문자열 패턴 매칭 예시입니다.\n",
        "\n",
        "\n"
      ],
      "metadata": {
        "id": "DaLBTJszrVUN"
      },
      "id": "DaLBTJszrVUN"
    },
    {
      "cell_type": "code",
      "source": [
        "# 정규표현식을 이용하여 전화번호를 추출하는 예시\n",
        "import re\n",
        "\n",
        "# 정규표현식 패턴 설정\n",
        "pattern = r\"\\d{3}-\\d{4}-\\d{4}\"\n",
        "\n",
        "# 문자열에서 패턴 매칭\n",
        "phone_numbers = [\"010-1234-5678\", \"02-555-1234\", \"031-222-3333\"]\n",
        "matched_numbers = []\n",
        "for number in phone_numbers:\n",
        "    if re.match(pattern, number):\n",
        "      matched_numbers.append(number)\n",
        "      print(matched_numbers)"
      ],
      "metadata": {
        "colab": {
          "base_uri": "https://localhost:8080/"
        },
        "id": "zYD50orLut3D",
        "outputId": "20917d44-989e-4e02-db28-3d663cd61fcf"
      },
      "id": "zYD50orLut3D",
      "execution_count": 2,
      "outputs": [
        {
          "output_type": "stream",
          "name": "stdout",
          "text": [
            "['010-1234-5678']\n"
          ]
        }
      ]
    },
    {
      "cell_type": "markdown",
      "source": [
        "## 정규표현식의 구성 요소\n",
        "\n",
        "정규표현식은 다음과 같은 구성 요소를 가집니다.\n",
        "\n",
        "- 문자: 특정 문자를 표현합니다. 예를 들어, 'a'는 문자 'a'를 의미합니다.\n",
        "- 메타 문자: 특별한 의미를 가지는 문자입니다. 예를 들어, '.'은 어떤 문자에도 매치되는 문자입니다.\n",
        "- 문자 클래스: 여러 개의 문자 중 하나를 선택합니다. 대괄호([])로 표현합니다. 예를 들어, '[abc]'는 'a', 'b', 'c' 중 하나에 매치됩니다.\n",
        "- 반복: 문자 또는 메타 문자가 반복되는 횟수를 지정합니다. '', '+', '?', '{m}', '{m,n}' 등으로 표현합니다. 예를 들어, 'a'는 'a'가 0번 이상 반복되는 문자열에 매치됩니다.\n",
        "- 그룹: 하나의 문자 또는 메타 문자의 집합을 그룹화합니다. 괄호()로 표현합니다. 예를 들어, '(abc)+'는 'abc'가 1번 이상 반복되는 문자열에 매치됩니다."
      ],
      "metadata": {
        "id": "wfnRmh85rtcp"
      },
      "id": "wfnRmh85rtcp"
    },
    {
      "cell_type": "code",
      "source": [
        "import re\n",
        "\n",
        "# 문자 패턴\n",
        "pattern1 = r'a'\n",
        "text1 = 'apple'\n",
        "print(re.findall(pattern1, text1))  # 결과: ['a']\n",
        "\n",
        "# 메타 문자 패턴\n",
        "pattern2 = r'.'\n",
        "text2 = 'apple'\n",
        "print(re.findall(pattern2, text2))  # 결과: ['a', 'p', 'p', 'l', 'e']\n",
        "\n",
        "# 문자 클래스 패턴\n",
        "pattern3 = r'[aeiou]'\n",
        "text3 = 'apple'\n",
        "print(re.findall(pattern3, text3))  # 결과: ['a', 'e']\n",
        "\n",
        "# 반복 패턴\n",
        "pattern4 = r'ba*na'\n",
        "text4 = 'banaana'\n",
        "print(re.findall(pattern4, text4))  # 결과: ['banaa', 'na']\n",
        "\n",
        "# 그룹 패턴\n",
        "pattern5 = r'(ba)*na'\n",
        "text5 = 'banaana'\n",
        "print(re.findall(pattern5, text5))  # 결과: ['bana', 'na']\n"
      ],
      "metadata": {
        "colab": {
          "base_uri": "https://localhost:8080/"
        },
        "id": "OEOlm5UPqik6",
        "outputId": "df0aa82f-2522-4738-c5f9-4969444e271d"
      },
      "id": "OEOlm5UPqik6",
      "execution_count": 3,
      "outputs": [
        {
          "output_type": "stream",
          "name": "stdout",
          "text": [
            "['a']\n",
            "['a', 'p', 'p', 'l', 'e']\n",
            "['a', 'e']\n",
            "['bana']\n",
            "['ba', '']\n"
          ]
        }
      ]
    },
    {
      "cell_type": "markdown",
      "source": [
        "### 정규표현식의 기초, 메타문자"
      ],
      "metadata": {
        "id": "YuQSq0iNq6HN"
      },
      "id": "YuQSq0iNq6HN"
    },
    {
      "cell_type": "markdown",
      "id": "f212fea8",
      "metadata": {
        "id": "f212fea8"
      },
      "source": [
        "- . ^ $ * + ? {} [] \\ | ()\n",
        "- [] 문자 클래스\n",
        " - \\d 숫자와 매치, [0-9]와 동일한 표현식\n",
        " - \\D 숫자가 아닌 것과 매치, [^0-9]와 동일한 표현식\n",
        " - \\s whitespace 문자와 매치, [ \\t\\n\\r\\f\\v]와 동일한 표현식\n",
        " - \\S whitespace 문자가 아닌 것과 매치, [^ \\t\\n\\r\\f\\v]와 동일한 표현식\n",
        " - \\w 문자 + 숫자와 매치, [a-zA-Z0-9]와 동일한 표현식\n",
        " - \\W 문자 + 숫자가 아닌 문자와 매치, [^a-zA-Z0-9]와 동일한 표현식\n",
        "- whitespace\n",
        " -  스페이스 바 (아스키코드 32)\n",
        " -  ＼b  뒤로 한 칸 이동 (Backspace) (아스키코드 8)\n",
        " -  ＼t  수평탭 간격 띄우기 (아스키코드 9)\n",
        " -  ＼n  줄바꿈 (Linefeed) (아스키코드 10)\n",
        " -  ＼v  수직탭 간격 띄우기 (아스키코드 11)\n",
        " -  ＼f  프린트 출력 용지를 한 페이지 넘김 (Form feed) (아스키코드 12)\n",
        " -  ＼r  동일한 줄의 맨 앞으로 커서 이동 (Carriage Return) (아스키코드 13)\n",
        "- Dot(.) 메타 문자는 줄바꿈 문자인 \\n를 제외한 모든 문자와 매치됨을 의미\n",
        "- 반복(\\*) ca*t 0부터 무한대로 반복\n",
        "- 반복(\\+) ca+t 최소 1번 이상 반복\n",
        "- ca{m,n} a 반복 횟수가 m부터 n까지인 것을 매치\n",
        "- ca{2}t는 c+a(2번 반복)+t의 의미\n",
        "- 반복횟수가 {1,}은 1 이상, {0,}은 0 이상인 경우로 각각 +, *와 동일하며 {,1}은 반복횟수가 1 이하를 의미.\n",
        "- ab?c b가 0~1번 사용되면 매치되는 것으로 ?은 앞의 b가 있어도 되고 없어도 된다 \n",
        "\n",
        "re 모듈 : 파이썬은 정규표현식을 지원하기 위해 기본으로 제공\n",
        "- re.compile의 결과로 리턴되는 객체를 이용하여 그 이후 작업 수행\n",
        "\n",
        "정규식을 이용한 문자열 검색\n",
        "- match(): 문자열의 처음부터 정규식과 매치되는지 조사\n",
        "- search(): 문자열의 전체를 검색하여 정규식과 매치되는지 조사\n",
        "- findall(): 정규식과 매치되는 모든 문자열을 리스트로 리턴\n",
        "- finditer(): 정규식과 매치되는 모든 문자열을 반복 가능한 객체로 리턴"
      ]
    },
    {
      "cell_type": "code",
      "execution_count": null,
      "id": "a7383d43",
      "metadata": {
        "id": "a7383d43",
        "outputId": "0ee3170a-2da3-42ec-e9ac-c37487e11130"
      },
      "outputs": [
        {
          "data": {
            "text/plain": [
              "<re.Match object; span=(0, 7), match='python '>"
            ]
          },
          "execution_count": 1,
          "metadata": {},
          "output_type": "execute_result"
        }
      ],
      "source": [
        "import re\n",
        "p = re.compile('[a-z]+\\s')\n",
        "m = p.match('python python')\n",
        "m"
      ]
    },
    {
      "cell_type": "code",
      "execution_count": null,
      "id": "a2024e56",
      "metadata": {
        "id": "a2024e56",
        "outputId": "a9875ff6-e017-4a36-ca9d-5838de715a48"
      },
      "outputs": [
        {
          "data": {
            "text/plain": [
              "<re.Match object; span=(0, 7), match='python '>"
            ]
          },
          "execution_count": 2,
          "metadata": {},
          "output_type": "execute_result"
        }
      ],
      "source": [
        "re.match('[a-z]+\\s', 'python python')"
      ]
    },
    {
      "cell_type": "code",
      "execution_count": null,
      "id": "6417b8da",
      "metadata": {
        "id": "6417b8da",
        "outputId": "6b95e9f5-de3d-4f4f-aa08-addfa3f0bad0"
      },
      "outputs": [
        {
          "data": {
            "text/plain": [
              "['python ', 'python ']"
            ]
          },
          "execution_count": 6,
          "metadata": {},
          "output_type": "execute_result"
        }
      ],
      "source": [
        "p.findall('python python ')"
      ]
    },
    {
      "cell_type": "code",
      "execution_count": null,
      "id": "aa12803e",
      "metadata": {
        "id": "aa12803e",
        "outputId": "3164fc08-da67-4d32-9c80-7d68403885c3"
      },
      "outputs": [
        {
          "data": {
            "text/plain": [
              "['python ']"
            ]
          },
          "execution_count": 7,
          "metadata": {},
          "output_type": "execute_result"
        }
      ],
      "source": [
        "p.findall('python python')"
      ]
    },
    {
      "cell_type": "code",
      "execution_count": null,
      "id": "d50419e2",
      "metadata": {
        "id": "d50419e2",
        "outputId": "d814251d-2436-4b91-e335-d47c61e0f365"
      },
      "outputs": [
        {
          "name": "stdout",
          "output_type": "stream",
          "text": [
            "None\n"
          ]
        }
      ],
      "source": [
        "m = p.match('3python ')\n",
        "print(m)"
      ]
    },
    {
      "cell_type": "code",
      "execution_count": null,
      "id": "cfc58151",
      "metadata": {
        "id": "cfc58151",
        "outputId": "bceae1e3-2679-44cc-f814-86a5ac0743fe"
      },
      "outputs": [
        {
          "name": "stdout",
          "output_type": "stream",
          "text": [
            "<re.Match object; span=(1, 8), match='python '>\n"
          ]
        }
      ],
      "source": [
        "m = p.search('3python ')\n",
        "print(m)"
      ]
    },
    {
      "cell_type": "code",
      "execution_count": null,
      "id": "f1a45f01",
      "metadata": {
        "id": "f1a45f01",
        "outputId": "3661362f-2310-46c6-b58f-a0c29ba32227"
      },
      "outputs": [
        {
          "name": "stdout",
          "output_type": "stream",
          "text": [
            "<re.Match object; span=(1, 6), match='anker'>\n",
            "<re.Match object; span=(0, 6), match='banker'>\n"
          ]
        }
      ],
      "source": [
        "# 문자 클래스 : []\n",
        "pattern = re.compile('[a-z]+')\n",
        "p1 = pattern.search('Banker')\n",
        "p2 = pattern.search('banker')\n",
        "print(p1)\n",
        "print(p2)"
      ]
    },
    {
      "cell_type": "code",
      "execution_count": null,
      "id": "57c44d61",
      "metadata": {
        "id": "57c44d61",
        "outputId": "ce557ccf-0a85-40e2-9152-472b016394d1"
      },
      "outputs": [
        {
          "data": {
            "text/plain": [
              "'a'"
            ]
          },
          "execution_count": 2,
          "metadata": {},
          "output_type": "execute_result"
        }
      ],
      "source": [
        "# group() 매치된 문자열을 리턴\n",
        "# Q. '12345abc'에서 'a'만 출력하세요.\n",
        "import re\n",
        "regex = re.compile('[a]')\n",
        "text = '12345abc'\n",
        "m = regex.search(text)\n",
        "m.group()"
      ]
    },
    {
      "cell_type": "code",
      "execution_count": null,
      "id": "8a4e7245",
      "metadata": {
        "id": "8a4e7245",
        "outputId": "ad558a01-6991-48c4-927d-efe41101de92"
      },
      "outputs": [
        {
          "data": {
            "text/plain": [
              "'A'"
            ]
          },
          "execution_count": 13,
          "metadata": {},
          "output_type": "execute_result"
        }
      ],
      "source": [
        "# Q. 'abc12345Abc'에서 'A'만 출력하세요.\n",
        "import re\n",
        "regex = re.compile('[A-Z]')\n",
        "text = 'abc12345Abc'\n",
        "m = regex.search(text)\n",
        "m.group()"
      ]
    },
    {
      "cell_type": "code",
      "execution_count": null,
      "id": "03eb82be",
      "metadata": {
        "id": "03eb82be",
        "outputId": "4cbbdb6c-a0b0-43da-8fc0-24631de92fd4"
      },
      "outputs": [
        {
          "data": {
            "text/plain": [
              "'아'"
            ]
          },
          "execution_count": 26,
          "metadata": {},
          "output_type": "execute_result"
        }
      ],
      "source": [
        "# Q. 'KOREA 대한민국'에서 '대'만 출력하세요.\n",
        "import re\n",
        "regex = re.compile('[가-하]')\n",
        "text = 'KOREA 아대한민국'\n",
        "m = regex.search(text)\n",
        "m.group()"
      ]
    },
    {
      "cell_type": "code",
      "execution_count": null,
      "id": "e70c0e16",
      "metadata": {
        "id": "e70c0e16",
        "outputId": "710d71ba-cc3d-44a3-abf6-d23c71d548a2"
      },
      "outputs": [
        {
          "data": {
            "text/plain": [
              "'122333c'"
            ]
          },
          "execution_count": 21,
          "metadata": {},
          "output_type": "execute_result"
        }
      ],
      "source": [
        "# search는 문자열 전체를 검색하여 정규식과 매칭되는 패턴을 찾는다.\n",
        "# a{2}는 a를 2회 반복하여 사용\n",
        "# Q. '122333c'를 모두 출력하세요.\n",
        "import re\n",
        "regex = re.compile('12{2}3{3}c')\n",
        "text = '122333c'\n",
        "m = regex.search(text)\n",
        "m.group()"
      ]
    },
    {
      "cell_type": "code",
      "execution_count": null,
      "id": "ebc77c55",
      "metadata": {
        "id": "ebc77c55",
        "outputId": "a12b9f7a-50fe-427e-eecd-51866254c5c6"
      },
      "outputs": [
        {
          "data": {
            "text/plain": [
              "'aaaaBBBcccDDDeee'"
            ]
          },
          "execution_count": 26,
          "metadata": {},
          "output_type": "execute_result"
        }
      ],
      "source": [
        "# Q. 'aaaaBBBcccDDDeee'을 모두 출력하세요.\n",
        "import re\n",
        "regex = re.compile('a{4}B{3}c{3}D{3}e{3}')\n",
        "text = 'aaaaBBBcccDDDeee'\n",
        "\n",
        "li = regex.search(text)\n",
        "li.group()"
      ]
    },
    {
      "cell_type": "code",
      "execution_count": null,
      "id": "8bead53c",
      "metadata": {
        "id": "8bead53c"
      },
      "outputs": [],
      "source": [
        "# Q. BC, CC, ABC 모두 C가 출력되는 정규 표현식을 ( )에 작성하세요.\n",
        "pattern = re.compile(   )\n",
        "text1 = 'BC'\n",
        "text2 = 'CC'\n",
        "text3 = 'ABC'\n",
        "p1 = pattern.search(text1)\n",
        "p2 = pattern.search(text2)\n",
        "p3 = pattern.search(text3)\n",
        "print(p1)\n",
        "print(p2)\n",
        "print(p3)"
      ]
    },
    {
      "cell_type": "code",
      "execution_count": null,
      "id": "252b92b9",
      "metadata": {
        "id": "252b92b9",
        "outputId": "d21f672a-4752-4e9b-b1be-590572d3db54"
      },
      "outputs": [
        {
          "name": "stdout",
          "output_type": "stream",
          "text": [
            "<re.Match object; span=(1, 2), match='C'>\n",
            "<re.Match object; span=(0, 1), match='C'>\n",
            "<re.Match object; span=(2, 3), match='C'>\n"
          ]
        }
      ],
      "source": [
        "# A\n",
        "import re\n",
        "pattern = re.compile('A?C')\n",
        "text1 = 'BC'\n",
        "text2 = 'CC'\n",
        "text3 = 'ABC'\n",
        "p1 = pattern.search(text1)\n",
        "p2 = pattern.search(text2)\n",
        "p3 = pattern.search(text3)\n",
        "print(p1)\n",
        "print(p2)\n",
        "print(p3)"
      ]
    },
    {
      "cell_type": "code",
      "execution_count": null,
      "id": "7837fdc9",
      "metadata": {
        "id": "7837fdc9",
        "outputId": "bec77f9c-a5cc-4ce2-f7be-2b61abd4b2a0"
      },
      "outputs": [
        {
          "name": "stdout",
          "output_type": "stream",
          "text": [
            "<re.Match object; span=(1, 5), match='life'>\n"
          ]
        }
      ],
      "source": [
        "p = re.compile('[a-z]+')\n",
        "# result = p.findall('life is too short')\n",
        "result = p.search('life is too short')\n",
        "print(result)"
      ]
    },
    {
      "cell_type": "code",
      "execution_count": null,
      "id": "d643abd4",
      "metadata": {
        "id": "d643abd4",
        "outputId": "c5c81ae0-9892-4296-8847-50911f004bd1"
      },
      "outputs": [
        {
          "name": "stdout",
          "output_type": "stream",
          "text": [
            "life\n",
            "is\n",
            "too\n",
            "short\n"
          ]
        }
      ],
      "source": [
        "# finditer는 findall과 동일하지만 그 결과로 반복 가능한 객체(iterator object)를 돌려준다.\n",
        "# 반복 가능한 객체가 포함하는 각각의 요소는 match 객체이다.\n",
        "result = p.finditer('life is too short')\n",
        "# print(list(result))\n",
        "for r in result:print(r.group())"
      ]
    },
    {
      "cell_type": "code",
      "execution_count": null,
      "id": "650c4d51",
      "metadata": {
        "id": "650c4d51",
        "outputId": "ff153ca6-86f1-4d6a-8e5e-e75bf415c333"
      },
      "outputs": [
        {
          "data": {
            "text/plain": [
              "['1', '2', '3', '4', '1', '2', '3', '4']"
            ]
          },
          "execution_count": 34,
          "metadata": {},
          "output_type": "execute_result"
        }
      ],
      "source": [
        "# Q. '1234a1234'에서  '1', '2', '3', '4'를 모두 출력하세요.\n",
        "import re\n",
        "regex = re.compile('[1234]')\n",
        "text = '1234a1234'\n",
        "\n",
        "regex.findall(text)"
      ]
    },
    {
      "cell_type": "code",
      "execution_count": null,
      "id": "96a4f922",
      "metadata": {
        "id": "96a4f922",
        "outputId": "1535909c-243c-491a-c8d7-6eab6546b13d"
      },
      "outputs": [
        {
          "data": {
            "text/plain": [
              "['Python', 'is', 'very', 'good', 'programming', 'language']"
            ]
          },
          "execution_count": 7,
          "metadata": {},
          "output_type": "execute_result"
        }
      ],
      "source": [
        "# Q. ' Python3 is very good programming language!'에서  ['Python', 'is', 'very', 'good', 'programming', 'language']를 \n",
        "# 모두 출력하세요.\n",
        "pattern = re.compile('[a-zA-Z]+')\n",
        "pattern.findall(' Python3 is very good programming language!')"
      ]
    },
    {
      "cell_type": "code",
      "execution_count": null,
      "id": "142a5899",
      "metadata": {
        "id": "142a5899",
        "outputId": "3e9b6cdb-7ccc-4732-9fd6-654f89734953"
      },
      "outputs": [
        {
          "name": "stdout",
          "output_type": "stream",
          "text": [
            "life \n",
            "is \n",
            "too \n"
          ]
        }
      ],
      "source": [
        "# match 객체\n",
        "l = p.match('life ')\n",
        "i = p.match( 'is ' )\n",
        "t = p.match('too ')\n",
        "print(l.group())\n",
        "print(i.group())\n",
        "print(t.group())"
      ]
    },
    {
      "cell_type": "code",
      "execution_count": null,
      "id": "5ff15424",
      "metadata": {
        "id": "5ff15424",
        "outputId": "ac7c6184-5250-47f4-9f4b-4b3d7cfaca43"
      },
      "outputs": [
        {
          "name": "stdout",
          "output_type": "stream",
          "text": [
            "python\n",
            "0\n",
            "6\n",
            "(0, 6)\n"
          ]
        }
      ],
      "source": [
        "# match 객체의 메소드\n",
        "import re\n",
        "p = re.compile('[a-z]+')\n",
        "m = p.match('python')\n",
        "print(m.group())\n",
        "print(m.start())\n",
        "print(m.end())\n",
        "print(m.span())"
      ]
    },
    {
      "cell_type": "code",
      "execution_count": null,
      "id": "c401b71c",
      "metadata": {
        "id": "c401b71c",
        "outputId": "1fae4621-d269-4c15-8d86-f1c02bba9478"
      },
      "outputs": [
        {
          "name": "stdout",
          "output_type": "stream",
          "text": [
            "python\n",
            "2\n",
            "8\n",
            "(2, 8)\n"
          ]
        }
      ],
      "source": [
        "m = p.search('3 python')\n",
        "print(m.group())\n",
        "print(m.start())\n",
        "print(m.end())\n",
        "print(m.span())"
      ]
    },
    {
      "cell_type": "code",
      "execution_count": null,
      "id": "4a093400",
      "metadata": {
        "id": "4a093400",
        "outputId": "7421df1d-1877-41fd-e1e2-55e1ca46a3ff"
      },
      "outputs": [
        {
          "name": "stdout",
          "output_type": "stream",
          "text": [
            "python\n"
          ]
        }
      ],
      "source": [
        "# 모듈 단위로 수행하기\n",
        "m = re.match('[a-z]+', 'python')\n",
        "print(m.group())"
      ]
    },
    {
      "cell_type": "code",
      "execution_count": null,
      "id": "8a91dcec",
      "metadata": {
        "id": "8a91dcec",
        "outputId": "758fa93a-40f1-453c-ad8c-d17e48f483ab"
      },
      "outputs": [
        {
          "name": "stdout",
          "output_type": "stream",
          "text": [
            "None\n",
            "<re.Match object; span=(0, 3), match='acb'>\n",
            "<re.Match object; span=(0, 6), match='a12?Ab'>\n"
          ]
        }
      ],
      "source": [
        "# Dot(.) 메타 문자는 줄바꿈 문자(\\n)을 제외한 모든 문자와 매치\n",
        "import re\n",
        "p = re.compile('a.+b')\n",
        "m1 = p.match('a\\nb')\n",
        "m2 = p.match('acb')\n",
        "m3 = p.match('a12?Ab')\n",
        "print(m1)\n",
        "print(m2)\n",
        "print(m3)"
      ]
    },
    {
      "cell_type": "code",
      "execution_count": null,
      "id": "7f576e5e",
      "metadata": {
        "id": "7f576e5e",
        "outputId": "0cac4693-774f-4f8c-f227-9ea7fc3159ae"
      },
      "outputs": [
        {
          "name": "stdout",
          "output_type": "stream",
          "text": [
            "<re.Match object; span=(0, 3), match='a\\nb'>\n"
          ]
        }
      ],
      "source": [
        "# re.DOTALL 옵션은 여러 줄로 이루어진 문자열에서 \\n에 상관없이 검색시 사용\n",
        "p = re.compile('a.b', re.DOTALL)\n",
        "m = p.match('a\\nb')\n",
        "print(m)"
      ]
    },
    {
      "cell_type": "code",
      "execution_count": null,
      "id": "19c08fb3",
      "metadata": {
        "id": "19c08fb3",
        "outputId": "81a7657c-0d73-43ff-b31e-fdee810d9ff8"
      },
      "outputs": [
        {
          "ename": "IndentationError",
          "evalue": "unexpected indent (Temp/ipykernel_8596/1681242705.py, line 7)",
          "output_type": "error",
          "traceback": [
            "\u001b[1;36m  File \u001b[1;32m\"C:\\Users\\kevin\\AppData\\Local\\Temp/ipykernel_8596/1681242705.py\"\u001b[1;36m, line \u001b[1;32m7\u001b[0m\n\u001b[1;33m    '\\nwe need to hurry up'\u001b[0m\n\u001b[1;37m    ^\u001b[0m\n\u001b[1;31mIndentationError\u001b[0m\u001b[1;31m:\u001b[0m unexpected indent\n"
          ]
        }
      ],
      "source": [
        "# 줄바꿈 문자의 조작. 일반적으로 . 도트(모든 것) * 별(0개 이상)을 컴파일하면 \n",
        "# 줄바꿈 문자 \\n 전까지 매치한다. 줄바꿈 문자가 있는 파일의 모든 범위를 \n",
        "# 매치하려면 compile 메소드에 두번째 매개변수를 re.DOTALL 로 지정한다. \n",
        "\n",
        "# Q. text에서 what are you doing?만 출력하세요 \n",
        "text = 'what are you doing?\\nit is going to be late for school'\n",
        "             '\\nwe need to hurry up'\n",
        "regex = re.compile('.*')\n",
        "mo = regex.search(text)\n",
        "print(mo.group())"
      ]
    },
    {
      "cell_type": "code",
      "execution_count": null,
      "id": "b865a6b3",
      "metadata": {
        "id": "b865a6b3",
        "outputId": "fe842a5c-f568-42c8-cccf-37567ab32719"
      },
      "outputs": [
        {
          "name": "stdout",
          "output_type": "stream",
          "text": [
            "what are you doing?\n",
            "it is going to be late for school\n",
            "we need to hurry up\n"
          ]
        }
      ],
      "source": [
        "# Q. text에서 전체문장 모두 출력하세요 \n",
        "regex = re.compile('.*',re.DOTALL)\n",
        "mo = regex.search('what are you doing?\\nit is going to be late for school'\n",
        "             '\\nwe need to hurry up')\n",
        "print(mo.group())"
      ]
    },
    {
      "cell_type": "code",
      "execution_count": null,
      "id": "ac39c4e6",
      "metadata": {
        "id": "ac39c4e6",
        "outputId": "9c9f24a3-ef2b-46e4-ef89-82696fda2dfd"
      },
      "outputs": [
        {
          "name": "stdout",
          "output_type": "stream",
          "text": [
            "<re.Match object; span=(0, 6), match='python'>\n",
            "<re.Match object; span=(0, 6), match='Python'>\n",
            "<re.Match object; span=(0, 6), match='PYTHON'>\n"
          ]
        }
      ],
      "source": [
        "# re.IGNORECASE 또는 re.I 옵션은 대소문자 구분 없이 매치를 수행시 사용\n",
        "p = re.compile('[a-z]+',re.I)\n",
        "print(p.match('python'))\n",
        "print(p.match('Python'))\n",
        "print(p.match('PYTHON'))"
      ]
    },
    {
      "cell_type": "code",
      "execution_count": null,
      "id": "53868da9",
      "metadata": {
        "id": "53868da9",
        "outputId": "623be925-f3e6-45c8-f23d-144bf2ed821e"
      },
      "outputs": [
        {
          "name": "stdout",
          "output_type": "stream",
          "text": [
            "<re.Match object; span=(2, 8), match='python'>\n",
            "<re.Match object; span=(2, 8), match='Python'>\n",
            "<re.Match object; span=(2, 8), match='PYTHON'>\n"
          ]
        }
      ],
      "source": [
        "print(p.search('3 python'))\n",
        "print(p.search('3 Python'))\n",
        "print(p.search('3 PYTHON'))"
      ]
    },
    {
      "cell_type": "code",
      "execution_count": null,
      "id": "afbc982f",
      "metadata": {
        "id": "afbc982f",
        "outputId": "1ac6f85c-861b-47d6-8c33-277579b75771"
      },
      "outputs": [
        {
          "name": "stdout",
          "output_type": "stream",
          "text": [
            "Friend\n",
            "fRiend\n",
            "friEnd\n",
            "FRIEND\n"
          ]
        }
      ],
      "source": [
        "# 대소문자를 구분하지 않고 매치시키려면 compile 메소드의 두번째 매개변수를 re.I로 넘겨준다. (re 모듈의 상수다)\n",
        "# Q. text에서 대소문자 구분없이 전체문장 모두 출력하세요 \n",
        "\n",
        "text = 'Friend fRiend friEnd FRIEND'\n",
        "regex = re.compile(r'friend',re.I)\n",
        "list = regex.findall(text)\n",
        "for i in list:\n",
        "    print(i)"
      ]
    },
    {
      "cell_type": "code",
      "execution_count": null,
      "id": "0cf099e8",
      "metadata": {
        "id": "0cf099e8",
        "outputId": "c818f066-ea66-4022-d851-a0854ba8e646"
      },
      "outputs": [
        {
          "name": "stdout",
          "output_type": "stream",
          "text": [
            "['python one']\n"
          ]
        }
      ],
      "source": [
        "# python이라는 문자열로 시작하고 그 뒤에 whitespace, 그뒤에 단어가 오는 경우\n",
        "import re\n",
        "p = re.compile('^python\\s\\w+')\n",
        "\n",
        "data = \"\"\"python one \n",
        "life is too short\n",
        "python  two\n",
        "you need python\n",
        "python three\"\"\"\n",
        "print(p.findall(data))"
      ]
    },
    {
      "cell_type": "code",
      "execution_count": null,
      "id": "f24e3e34",
      "metadata": {
        "id": "f24e3e34",
        "outputId": "60a7925b-5fc8-456b-a7f3-12e40207ebcf"
      },
      "outputs": [
        {
          "name": "stdout",
          "output_type": "stream",
          "text": [
            "['python one', 'python two', 'python three']\n"
          ]
        }
      ],
      "source": [
        "# re.MULTILINE 또는 re.M옵션으로 ^메타 문자를 각 라인의 처음으로 인식시킴\n",
        "import re\n",
        "p = re.compile(\"^python\\s\\w+\",re.M)\n",
        "\n",
        "data = \"\"\"python one \n",
        "life is too short\n",
        "python two\n",
        "you need python\n",
        "python three\"\"\"\n",
        "print(p.findall(data))"
      ]
    },
    {
      "cell_type": "code",
      "execution_count": null,
      "id": "463ac7ca",
      "metadata": {
        "id": "463ac7ca"
      },
      "outputs": [],
      "source": [
        "# re.VERBOSE 또는 re.X : 이해하기 어려운 정규식을 주석 또는 라인 단위로 구분\n",
        "# charref = re.compile(r'&[#](0[0-7]+|[0-9]+|x[0-9a-fA-F]+);')\n",
        "\n",
        "charref = re.compile(r\"\"\"\n",
        "&[#]               # Start of a numeric entity reference\n",
        "(\n",
        "    0[0-7]+        # Octal form\n",
        "  | [0-9]+         # Decimal form \n",
        "  | x[0-9a-fA-F]+  # Hexadecimal form\n",
        ")\n",
        ";                  # Trailing semicolon \n",
        "\"\"\",re.VERBOSE)"
      ]
    },
    {
      "cell_type": "code",
      "execution_count": null,
      "id": "326b0830",
      "metadata": {
        "id": "326b0830",
        "outputId": "50ffd8ee-0e6b-4afd-9760-7f652317bb54"
      },
      "outputs": [
        {
          "name": "stdout",
          "output_type": "stream",
          "text": [
            "<re.Match object; span=(0, 8), match='\\\\section'>\n"
          ]
        },
        {
          "data": {
            "text/plain": [
              "['\\\\section', '\\\\section']"
            ]
          },
          "execution_count": 40,
          "metadata": {},
          "output_type": "execute_result"
        }
      ],
      "source": [
        "# 정규식 문자열 앞에 r문자를 삽입하면 Raw String 규칙에 의하여 백슬래시 2개 대신 1개 사용\n",
        "# 파이썬 문자열 리터럴 규칙에 의하여 \\\\이 \\으로 변경되어 \\section이 전달\n",
        "p = re.compile(r'\\\\section')\n",
        "\n",
        "print(p.match('\\section'))\n",
        "p.findall('\\section\\section')"
      ]
    },
    {
      "cell_type": "code",
      "execution_count": null,
      "id": "797ddaf4",
      "metadata": {
        "id": "797ddaf4",
        "outputId": "12a6879d-418a-4fd8-98f2-de9b595f2559"
      },
      "outputs": [
        {
          "name": "stdout",
          "output_type": "stream",
          "text": [
            "<re.Match object; span=(0, 4), match='Crow'>\n",
            "\n",
            "<re.Match object; span=(0, 4), match='Life'>\n",
            "None\n",
            "\n",
            "None\n",
            "<re.Match object; span=(3, 7), match='Life'>\n"
          ]
        }
      ],
      "source": [
        "# 메타 문자\n",
        "# |(or와 동일한 의미), ^(문자열의 맨처음), $(문자열의 끝과 매치)\n",
        "import re\n",
        "p = re.compile('Crow|Servo')\n",
        "m = p.match('CrowHello')\n",
        "print(m)\n",
        "print()\n",
        "print(re.search('^Life', 'Life is too short'))\n",
        "print(re.search('^Life', 'My Life'))\n",
        "print()\n",
        "print(re.search('Life$', 'Life is too short'))\n",
        "print(re.search('Life$', 'My Life'))"
      ]
    },
    {
      "cell_type": "code",
      "execution_count": null,
      "id": "e8c65c0f",
      "metadata": {
        "id": "e8c65c0f",
        "outputId": "c27d3b90-3a9c-4bd9-85a5-bc9dd396d660"
      },
      "outputs": [
        {
          "name": "stdout",
          "output_type": "stream",
          "text": [
            "['Life']\n",
            "\n",
            "['Life', 'Life', 'Life']\n",
            "\n",
            "['good']\n",
            "\n",
            "['good', 'good']\n"
          ]
        }
      ],
      "source": [
        "# \\A(문자열의 처음과 매치. 단, re.MULTILINE 옵션 사용시 ^와은 달리 전체 문자열의 처음하고만 매치)\n",
        "# \\Z(문자열의 끝과 매치. 단, re.MULTILINE 옵션 사용시 ^와은 달리 전체 문자열의 끝하고만 매치)\n",
        "import re\n",
        "p = re.compile('\\ALife', re.MULTILINE)\n",
        "data = \"\"\"Life is too short\n",
        "Life is good\n",
        "Life is valuable\"\"\"\n",
        "print(p.findall(data))\n",
        "print()\n",
        "q = re.compile('^Life', re.MULTILINE)\n",
        "data = \"\"\"Life is too short\n",
        "Life is good\n",
        "Life is valuable\"\"\"\n",
        "print(q.findall(data))\n",
        "print()\n",
        "p1 = re.compile('good\\Z', re.MULTILINE)\n",
        "data1 = \"\"\"Life is too short\n",
        "Life is good\n",
        "Life is very good\"\"\"\n",
        "print(p1.findall(data1))\n",
        "print()\n",
        "q1 = re.compile('good$', re.MULTILINE)\n",
        "data1 = \"\"\"Life is too short\n",
        "Life is good\n",
        "Life is very good\"\"\"\n",
        "print(q1.findall(data1))"
      ]
    },
    {
      "cell_type": "code",
      "execution_count": null,
      "id": "787b5dd3",
      "metadata": {
        "id": "787b5dd3",
        "outputId": "8c7f73fe-1a28-42dc-9ad4-ac2a853094d1"
      },
      "outputs": [
        {
          "data": {
            "text/plain": [
              "'home'"
            ]
          },
          "execution_count": 13,
          "metadata": {},
          "output_type": "execute_result"
        }
      ],
      "source": [
        "# Q. 'we are going home'에서 home만 출력하세요.\n",
        "regex = re.compile(r'home$')\n",
        "mo1 = regex.search('we are going home')\n",
        "mo1.group()"
      ]
    },
    {
      "cell_type": "code",
      "execution_count": null,
      "id": "c6957362",
      "metadata": {
        "id": "c6957362",
        "outputId": "571d7a02-103a-471c-96b2-cc9c94b88d62"
      },
      "outputs": [
        {
          "data": {
            "text/plain": [
              "'home'"
            ]
          },
          "execution_count": 14,
          "metadata": {},
          "output_type": "execute_result"
        }
      ],
      "source": [
        "# Q. 'home sweet'에서 home만 출력하세요.\n",
        "regex = re.compile(r'^home')\n",
        "mo2 = regex.search('home sweet')\n",
        "mo2.group()"
      ]
    },
    {
      "cell_type": "code",
      "execution_count": null,
      "id": "6091d5eb",
      "metadata": {
        "id": "6091d5eb",
        "outputId": "37644999-8fb1-4968-a5ab-5317884ad0a9"
      },
      "outputs": [
        {
          "data": {
            "text/plain": [
              "'199305'"
            ]
          },
          "execution_count": 15,
          "metadata": {},
          "output_type": "execute_result"
        }
      ],
      "source": [
        "# Q. '199305, 1923A, a93247'에서 '199305'만 출력하세요.\n",
        "regex = re.compile(r'^\\d+')\n",
        "mo = regex.search('199305, 1923A, a93247')\n",
        "mo.group()"
      ]
    },
    {
      "cell_type": "code",
      "execution_count": null,
      "id": "ff1998eb",
      "metadata": {
        "id": "ff1998eb",
        "outputId": "6afcb733-0610-4106-d4ea-5be85212fada"
      },
      "outputs": [
        {
          "data": {
            "text/plain": [
              "['99food234']"
            ]
          },
          "execution_count": 16,
          "metadata": {},
          "output_type": "execute_result"
        }
      ],
      "source": [
        "# Q. '99food234, a93456\\n, a9356ba '에서 '99food234'만 출력하세요.\n",
        "regex = re.compile(r'^\\w+\\d')\n",
        " \n",
        "regex.findall('99food234, a93456\\n, a9356ba ')"
      ]
    },
    {
      "cell_type": "code",
      "execution_count": null,
      "id": "1c541640",
      "metadata": {
        "id": "1c541640",
        "outputId": "4ae59dbe-023c-4abb-9c31-f5a063f7f5d5"
      },
      "outputs": [
        {
          "name": "stdout",
          "output_type": "stream",
          "text": [
            "<re.Match object; span=(3, 8), match='class'>\n",
            "None\n",
            "\n",
            "None\n",
            "<re.Match object; span=(6, 11), match='class'>\n"
          ]
        }
      ],
      "source": [
        "# \\b whitespace에 의해 구분\n",
        "# \\B whitespace로 구분된 단어가 아닌 경우에만 매치\n",
        "p = re.compile(r'\\bclass\\b')\n",
        "print(p.search('no class at all'))\n",
        "print(p.search('the declassified algorithim'))\n",
        "print()\n",
        "q = re.compile(r'\\Bclass\\B')\n",
        "print(q.search('no class at all'))\n",
        "print(q.search('the declassified algorithim'))"
      ]
    },
    {
      "cell_type": "code",
      "execution_count": null,
      "id": "032082d9",
      "metadata": {
        "id": "032082d9",
        "outputId": "c978fbf5-337a-47ad-98e5-8f829f5f8dac"
      },
      "outputs": [
        {
          "name": "stdout",
          "output_type": "stream",
          "text": [
            "032-232-3245\n"
          ]
        }
      ],
      "source": [
        "# Q. 정규표현식을 사용하여 test에서 전화번호만  출력하세요\n",
        "# text = \"문의사항이 있으면 032-232-3245 으로 연락주시기 바랍니다.\"\n",
        "import re\n",
        " \n",
        "text = \"문의사항이 있으면 032-232-3245 으로 연락주시기 바랍니다.\"\n",
        " \n",
        "# regex = re.compile(r'\\d+-\\d+-\\d+')\n",
        "regex = re.compile(r'(\\d+)-(\\d+)-(\\d+)')\n",
        "matchobj = regex.search(text)\n",
        "phonenumber = matchobj.group()\n",
        "print(phonenumber) "
      ]
    },
    {
      "cell_type": "code",
      "execution_count": null,
      "id": "2fc2ec48",
      "metadata": {
        "id": "2fc2ec48",
        "outputId": "b4c92717-30c0-4ab9-ad0e-63456afc2243"
      },
      "outputs": [
        {
          "name": "stdout",
          "output_type": "stream",
          "text": [
            "['에러 1122', '에러 1033', '에러 xxx']\n"
          ]
        }
      ],
      "source": [
        "# Q. 정규표현식을 사용하여 text에서 에러가 들어간 부분만 포함하는 리스트를 출력하세요. \n",
        "# text = \"에러 1122, 레퍼런스 오류, 에러 1033, 아규먼트 오류, 에러 xxx\"\n",
        "\n",
        "import re\n",
        "text = \"에러 1122, 레퍼런스 오류, 에러 1033, 아규먼트 오류, 에러 xxx\"\n",
        "regex = re.compile(\"에러\\s\\w+\")\n",
        "mc = regex.findall(text)\n",
        "print(mc)"
      ]
    },
    {
      "cell_type": "code",
      "execution_count": null,
      "id": "97fa1a8d",
      "metadata": {
        "id": "97fa1a8d"
      },
      "outputs": [],
      "source": [
        "# Q. (     )에 정규표현식을 작성하여 아래와 같이 출력하세요.\n",
        "# ['1 apple', '5 oranges', '3 boys', '4 girls', '10 army', '11 mr']\n",
        "\n",
        "import re\n",
        "li = '1 apple, 5 oranges, 3 boys, 4 girls; 10 army| 11 mr'\n",
        "regex = re.compile(      )\n",
        "list = regex.findall(li)\n",
        "print(list)"
      ]
    },
    {
      "cell_type": "code",
      "execution_count": null,
      "id": "dd156825",
      "metadata": {
        "id": "dd156825",
        "outputId": "30928f15-2b8f-4c1e-e5c0-58f977a61293"
      },
      "outputs": [
        {
          "name": "stdout",
          "output_type": "stream",
          "text": [
            "['1 apple', '5 oranges', '3 boys', '4 girls', '10 army', '11 mr']\n"
          ]
        }
      ],
      "source": [
        "# A.\n",
        "import re\n",
        "li = '1 apple, 5 oranges, 3 boys, 4 girls; 10 army| 11 mr'\n",
        "regex = re.compile(r'\\d+\\s\\w+')\n",
        "list = regex.findall(li)\n",
        "print(list)"
      ]
    },
    {
      "cell_type": "code",
      "execution_count": null,
      "id": "ef360ca7",
      "metadata": {
        "id": "ef360ca7",
        "outputId": "b7c61bec-250f-47aa-b1d6-1b9d98c1b910"
      },
      "outputs": [
        {
          "name": "stdout",
          "output_type": "stream",
          "text": [
            "['H', 'h', 'h']\n"
          ]
        }
      ],
      "source": [
        "# Q. text에서 'H,h'만 출력하세요.\n",
        "text = 'Hello my friend! Life is short you need Python!'\n",
        "\n",
        "customRegex = re.compile(r'[Hh]')\n",
        "list = customRegex.findall(text)\n",
        "print(list)"
      ]
    },
    {
      "cell_type": "code",
      "execution_count": null,
      "id": "d59b0d6e",
      "metadata": {
        "id": "d59b0d6e",
        "outputId": "b33e8a72-2084-4bf5-fafe-208afdfe4734"
      },
      "outputs": [
        {
          "name": "stdout",
          "output_type": "stream",
          "text": [
            "['e', 'l', 'l', 'o', ' ', 'm', 'y', ' ', 'f', 'r', 'i', 'e', 'n', 'd', '!', ' ', 'L', 'i', 'f', 'e', ' ', 'i', 's', ' ', 's', 'o', 'r', 't', ' ', 'y', 'o', 'u', ' ', 'n', 'e', 'e', 'd', ' ', 'P', 'y', 't', 'o', 'n', '!']\n"
          ]
        }
      ],
      "source": [
        "# Q. text에서 'H,h'가 아닌 것 모두를 출력하세요.\n",
        "text = 'Hello my friend! Life is short you need Python!'\n",
        "customRegex = re.compile(r'[^Hh]')\n",
        "list = customRegex.findall(text)\n",
        "print(list)"
      ]
    },
    {
      "cell_type": "code",
      "execution_count": null,
      "id": "ab638b72",
      "metadata": {
        "id": "ab638b72",
        "outputId": "e6fb7f3a-958e-4191-ff77-0af6bee74ddd"
      },
      "outputs": [
        {
          "name": "stdout",
          "output_type": "stream",
          "text": [
            "<re.Match object; span=(0, 9), match='ABCABCABC'>\n",
            "ABCABCABC\n",
            "ABC\n"
          ]
        }
      ],
      "source": [
        "# 그룹핑 : 매치된 문자열 중에서 특정 부분의 문자열만 뽑아내는 경우 ()으로 만들어 준다.\n",
        "# group(0) 매치된 전체 문자열, 1 첫번째 그룹, 2 두번째 그룹, n n번째 그룹\n",
        "p = re.compile('(ABC)+')\n",
        "m = p.search('ABCABCABC OK?')\n",
        "print(m)\n",
        "print(m.group(0))\n",
        "print(m.group(1))"
      ]
    },
    {
      "cell_type": "code",
      "execution_count": null,
      "id": "3af4cac3",
      "metadata": {
        "id": "3af4cac3",
        "outputId": "18547414-be91-44a4-cbe7-28e4e171cd11"
      },
      "outputs": [
        {
          "name": "stdout",
          "output_type": "stream",
          "text": [
            "<re.Match object; span=(3, 9), match='ABCDEF'>\n",
            "ABCDEF\n",
            "ABCDEF\n",
            "AB\n",
            "CD\n",
            "EF\n"
          ]
        }
      ],
      "source": [
        "p = re.compile('((AB)(CD)(EF))+')\n",
        "m = p.search('DEFABCDEFDEF OK?')\n",
        "print(m)\n",
        "print(m.group(0))\n",
        "print(m.group(1))\n",
        "print(m.group(2))\n",
        "print(m.group(3))\n",
        "print(m.group(4))"
      ]
    },
    {
      "cell_type": "code",
      "execution_count": null,
      "id": "61cb9b8f",
      "metadata": {
        "id": "61cb9b8f",
        "outputId": "32104368-b50f-4ac1-a185-c4c2a86d43c8"
      },
      "outputs": [
        {
          "name": "stdout",
          "output_type": "stream",
          "text": [
            "<re.Match object; span=(0, 6), match='ABCDEF'>\n",
            "ABCDEF\n",
            "ABCDEF\n",
            "AB\n",
            "CD\n",
            "EF\n"
          ]
        }
      ],
      "source": [
        "p = re.compile('((AB)(CD)(EF))+')\n",
        "m = p.match('ABCDEFDEF OK?')\n",
        "print(m)\n",
        "print(m.group(0))\n",
        "print(m.group(1))\n",
        "print(m.group(2))\n",
        "print(m.group(3))\n",
        "print(m.group(4))"
      ]
    },
    {
      "cell_type": "code",
      "execution_count": null,
      "id": "d2ca8f7b",
      "metadata": {
        "id": "d2ca8f7b",
        "outputId": "81c30cb4-43aa-409b-af11-40b2374b3069"
      },
      "outputs": [
        {
          "name": "stdout",
          "output_type": "stream",
          "text": [
            "032\n"
          ]
        }
      ],
      "source": [
        "# Q. 정규표현식을 사용하여 text에서 지역코드만 출력하세요.\n",
        "import re\n",
        " \n",
        "text = \"문의사항이 있으면 032-232-3245 으로 연락주시기 바랍니다.\"\n",
        " \n",
        "regex = re.compile(r'(\\d{3})-(\\d{3}-\\d{4})')\n",
        "matchobj = regex.search(text)\n",
        "areaCode = matchobj.group(1)\n",
        "# num = matchobj.group(2)\n",
        "# fullNum = matchobj.group()\n",
        "print(areaCode) # 032 232-3245"
      ]
    },
    {
      "cell_type": "code",
      "execution_count": null,
      "id": "61442a6e",
      "metadata": {
        "id": "61442a6e",
        "outputId": "c2d39e6b-fe95-435e-cbab-b3e71418a05e"
      },
      "outputs": [
        {
          "name": "stdout",
          "output_type": "stream",
          "text": [
            "032\n"
          ]
        }
      ],
      "source": [
        "text = \"문의사항이 있으면 032-232-3245 으로 연락주시기 바랍니다.\"\n",
        "p = re.compile('(\\d{3})-(\\d{3})-(\\d{4})')\n",
        "obj = p.search(text)\n",
        "print(obj.group(1))"
      ]
    },
    {
      "cell_type": "code",
      "execution_count": null,
      "id": "3c42f5c8",
      "metadata": {
        "id": "3c42f5c8",
        "outputId": "3904e6cd-5036-4805-a4c1-01a3e92ca0db"
      },
      "outputs": [
        {
          "name": "stdout",
          "output_type": "stream",
          "text": [
            "232-3245\n"
          ]
        }
      ],
      "source": [
        "# Q. 정규표현식을 사용하여 text에서 지역코드 제외한 번호만 출력하세요.\n",
        "\n",
        "import re\n",
        " \n",
        "text = \"문의사항이 있으면 032-232-3245 으로 연락주시기 바랍니다.\"\n",
        " \n",
        "regex = re.compile(r'(\\d{3})-(\\d{3}-\\d{4})')\n",
        "matchobj = regex.search(text)\n",
        "# areaCode = matchobj.group(1)\n",
        "num = matchobj.group(2)\n",
        "# fullNum = matchobj.group()\n",
        "print(num) # 032 232-3245"
      ]
    },
    {
      "cell_type": "code",
      "execution_count": null,
      "id": "ce8959e8",
      "metadata": {
        "id": "ce8959e8",
        "outputId": "ec7f162c-117c-4e36-d81a-f0040325cfdb"
      },
      "outputs": [
        {
          "name": "stdout",
          "output_type": "stream",
          "text": [
            "<re.Match object; span=(0, 18), match='park 010-1234-1234'>\n",
            "park\n",
            "010-1234-1234\n",
            "010\n",
            "('park', '010-1234-1234', '010')\n"
          ]
        }
      ],
      "source": [
        "# 그룹이 중첩되어 있는 경우는 바깥쪽부터 시작하여 안쪽으로 들어갈수록 인덱스 증가\n",
        "# Q. 정규표현식을 사용하여 'park 010-1234-1234'에서 지역코드만 출력하세요.\n",
        "\n",
        "p = re.compile(r'(\\w+)\\s+((\\d+)[-]\\d+[-]\\d+)')\n",
        "m = p.search('park 010-1234-1234')\n",
        "print(m)\n",
        "print(m.group(1))\n",
        "print(m.group(2))\n",
        "print(m.group(3))\n",
        "print(m.groups())"
      ]
    },
    {
      "cell_type": "code",
      "execution_count": null,
      "id": "52370eb5",
      "metadata": {
        "id": "52370eb5",
        "outputId": "a02b3690-e26c-4c49-f186-8c255d22aa3a"
      },
      "outputs": [
        {
          "data": {
            "text/plain": [
              "'the the the '"
            ]
          },
          "execution_count": 54,
          "metadata": {},
          "output_type": "execute_result"
        }
      ],
      "source": [
        "# 그룹핑된 문자열 재참조\n",
        "# \\1은 재참조 메타 문자로서 정규식의 첫번째 그룹을 지칭 - 2개의 동일한 단어가 연속적으로 사용되어야 매치\n",
        "p = re.compile(r'(\\w+)\\s+\\1+\\s+\\1+\\s')\n",
        "p.search('Paris in the the the spring').group()"
      ]
    },
    {
      "cell_type": "code",
      "execution_count": null,
      "id": "8ddc4eb3",
      "metadata": {
        "id": "8ddc4eb3",
        "outputId": "523a0708-5dce-4cd5-c972-083f2a94ad43"
      },
      "outputs": [
        {
          "data": {
            "text/plain": [
              "'very very'"
            ]
          },
          "execution_count": 16,
          "metadata": {},
          "output_type": "execute_result"
        }
      ],
      "source": [
        "# Q. 'Paris is very very beautiful.'에서 'very very'를 출력하세요.\n",
        "\n",
        "p = re.compile(r'\\b(\\w+)\\s+\\1')\n",
        "p.search('Paris is very very beautiful.').group()"
      ]
    },
    {
      "cell_type": "code",
      "execution_count": null,
      "id": "bfb06bef",
      "metadata": {
        "id": "bfb06bef",
        "outputId": "40f3bebf-d929-43be-ca0e-9601660095f1"
      },
      "outputs": [
        {
          "data": {
            "text/plain": [
              "' very very'"
            ]
          },
          "execution_count": 21,
          "metadata": {},
          "output_type": "execute_result"
        }
      ],
      "source": [
        "text = 'Paris is very very beautiful.'\n",
        "p = re.compile(r'\\s(\\w+)\\s+\\1')\n",
        "p.search(text).group()"
      ]
    },
    {
      "cell_type": "code",
      "execution_count": null,
      "id": "28803573",
      "metadata": {
        "id": "28803573",
        "outputId": "683621cd-bef1-4e00-e30b-735867a39c4b"
      },
      "outputs": [
        {
          "name": "stdout",
          "output_type": "stream",
          "text": [
            "abcdefghi\n"
          ]
        },
        {
          "data": {
            "text/plain": [
              "'e'"
            ]
          },
          "execution_count": 22,
          "metadata": {},
          "output_type": "execute_result"
        }
      ],
      "source": [
        "# Q.'abcdefghij' 에 대하여 중첩을 적용한 서브그룹 5개로 컴파일하여 group()함수를 이용하여 \n",
        "# 'abcdefghi'와 e'를 출력하세요\n",
        "\n",
        "p = re.compile('(a(b(c(d(e)f)g)h)i)j')\n",
        "m = p.match('abcdefghij')\n",
        "# print(m.group(0))\n",
        "print(m.group(1))\n",
        "m.group(5)"
      ]
    },
    {
      "cell_type": "code",
      "execution_count": null,
      "id": "5d929315",
      "metadata": {
        "id": "5d929315",
        "outputId": "b408da28-ea5b-4f72-e582-ea9b6fb6b8e7"
      },
      "outputs": [
        {
          "data": {
            "text/plain": [
              "('abcdefghi', 'bcdefgh', 'cdefg', 'def', 'e')"
            ]
          },
          "execution_count": 23,
          "metadata": {},
          "output_type": "execute_result"
        }
      ],
      "source": [
        "# Q. 위 문제에서 모든 서브 그룹에 대한 문자열을 포함하는 튜플을 출력하세요.\n",
        "m.groups()"
      ]
    },
    {
      "cell_type": "code",
      "execution_count": null,
      "id": "f991c986",
      "metadata": {
        "id": "f991c986",
        "outputId": "3a47ca1d-276b-40a1-b3e2-e5d44d30246a"
      },
      "outputs": [
        {
          "name": "stdout",
          "output_type": "stream",
          "text": [
            "park\n"
          ]
        }
      ],
      "source": [
        "# 그룹핑된 문자열에 이름 붙이기 : 확장 구문 (?P<name>\\w+)\n",
        "p = re.compile(r'(?P<name>\\w+)\\s+((\\d+)[-]\\d+[-]\\d+)')\n",
        "m = p.search('park 010-1234-1234')\n",
        "print(m.group('name'))"
      ]
    },
    {
      "cell_type": "code",
      "execution_count": null,
      "id": "502786b3",
      "metadata": {
        "id": "502786b3",
        "outputId": "4c7d2b8b-cb6e-42e4-f4ae-e91e7dc15edd"
      },
      "outputs": [
        {
          "data": {
            "text/plain": [
              "'the the'"
            ]
          },
          "execution_count": 55,
          "metadata": {},
          "output_type": "execute_result"
        }
      ],
      "source": [
        "# 그룹명을 이용하여 정규식 내에서 재참조\n",
        "p = re.compile(r'(?P<word>\\w+)\\s+(?P=word)')\n",
        "p.search('Paris in the the spring').group()"
      ]
    },
    {
      "cell_type": "code",
      "execution_count": null,
      "id": "a2c1f545",
      "metadata": {
        "id": "a2c1f545",
        "outputId": "4d5e9ec7-c598-4bb9-9893-831f8697e860"
      },
      "outputs": [
        {
          "name": "stdout",
          "output_type": "stream",
          "text": [
            "Lots\n"
          ]
        }
      ],
      "source": [
        "# Q. 이름으로 그룹을 참조하여 'Lots of punctuation 에서 Lots를 출력하세요.\n",
        "p = re.compile(r'(?P<word>\\b\\w+\\b)')\n",
        "m = p.search( '(((( Lots of punctuation Lots of punctuation)))' )\n",
        "print(m.group('word'))"
      ]
    },
    {
      "cell_type": "code",
      "execution_count": null,
      "id": "1111d66e",
      "metadata": {
        "id": "1111d66e",
        "outputId": "fa874473-d9d0-40ea-e620-4ac9ba278367"
      },
      "outputs": [
        {
          "data": {
            "text/plain": [
              "'Lots'"
            ]
          },
          "execution_count": 38,
          "metadata": {},
          "output_type": "execute_result"
        }
      ],
      "source": [
        "p = re.compile(r'(\\b\\w+\\b)')\n",
        "m = p.search( '(((( Lots of punctuation )))' )\n",
        "m.group()"
      ]
    },
    {
      "cell_type": "code",
      "execution_count": null,
      "id": "b9e8381e",
      "metadata": {
        "id": "b9e8381e",
        "outputId": "fa8b72c4-347c-48b9-b884-7c72d17d4a92"
      },
      "outputs": [
        {
          "data": {
            "text/plain": [
              "['Lots', 'of', 'punctuation']"
            ]
          },
          "execution_count": 34,
          "metadata": {},
          "output_type": "execute_result"
        }
      ],
      "source": [
        "p = re.compile(r'(\\b\\w+\\b)')\n",
        "m = p.findall( '(((( Lots of punctuation )))' )\n",
        "m"
      ]
    },
    {
      "cell_type": "code",
      "execution_count": null,
      "id": "cc5558ab",
      "metadata": {
        "id": "cc5558ab",
        "outputId": "bcdca606-3d2e-4322-9d86-9889ea4bd89f"
      },
      "outputs": [
        {
          "name": "stdout",
          "output_type": "stream",
          "text": [
            "http:\n",
            "\n",
            "http\n",
            "\n"
          ]
        }
      ],
      "source": [
        "# 전방 탐색\n",
        "# 긍정(?=...) ...에 해당되는 정규식과 매치되어야 하며 조건이 통과되어도 문자열이 소모되지 않음\n",
        "# 부정(?!...) ...에 해당되는 정규식과 매치되지 않아야 하며 조건이 통과되어도 문자열이 소모되지 않음\n",
        "\n",
        "p = re.compile(r'.+:')\n",
        "m = p.search('http://google.com')\n",
        "print(m.group())\n",
        "print()\n",
        "p = re.compile(r'.+(?=:)')  # :에 해당되는 문자열이 정규식 엔진에 의해 소모되지 않음(검색에는 포함되지만 결과에는 제외)\n",
        "m = p.search('http://google.com')\n",
        "print(m.group())\n",
        "print()"
      ]
    },
    {
      "cell_type": "code",
      "execution_count": null,
      "id": "6fe27565",
      "metadata": {
        "id": "6fe27565",
        "outputId": "806dfaa2-2770-431a-ab58-5861985396de"
      },
      "outputs": [
        {
          "name": "stdout",
          "output_type": "stream",
          "text": [
            "foo.exe\n",
            "autoexec.bat\n",
            "sendmail.cf\n"
          ]
        }
      ],
      "source": [
        "# 파일명+.+확장자를 나타내는 정규식\n",
        "p =re.compile('.*[.].*$')\n",
        "list = ['foo.exe', 'autoexec.bat', 'sendmail.cf']\n",
        "for i in list:\n",
        "    if p.match(i):\n",
        "        print(i)"
      ]
    },
    {
      "cell_type": "code",
      "execution_count": null,
      "id": "c32ef029",
      "metadata": {
        "id": "c32ef029",
        "outputId": "fb6f0848-bb0f-4811-f55b-7f70a66dbdc6"
      },
      "outputs": [
        {
          "name": "stdout",
          "output_type": "stream",
          "text": [
            "sendmail.cf\n"
          ]
        }
      ],
      "source": [
        "# 확장자가 bat 혹은 exe가 아닌 경우만 통과된다는 부정적 전방탐색\n",
        "p =re.compile('.*[.](?!bat$|exe$).*$')\n",
        "list = ['foo.exe', 'autoexec.bat', 'sendmail.cf']\n",
        "for i in list:\n",
        "    if p.match(i):\n",
        "        print(i)"
      ]
    },
    {
      "cell_type": "code",
      "execution_count": null,
      "id": "dc2205ce",
      "metadata": {
        "id": "dc2205ce",
        "outputId": "656e7c40-c108-4782-cd9d-396a27aa4bf0"
      },
      "outputs": [
        {
          "name": "stdout",
          "output_type": "stream",
          "text": [
            "colour socks and colour shoes\n",
            "colour socks and red shoes\n",
            "('colour socks and colour shoes', 2)\n"
          ]
        }
      ],
      "source": [
        "# 문자열 바꾸기\n",
        "# sub 메서드를 사용하면 정규식과 매치되는 부분을 다른 문자로 쉽게 바꿀 수 있음\n",
        "# 바꾸기 횟수를 제어하려면 세 번째 매개변수로 count 값을 넘기면 됨\n",
        "# subn 역시 sub와 동일한 기능을 하지만 반환 결과를 튜플로 돌려줌. 두 번째 요소는 바꾸기 발생 횟수\n",
        "p = re.compile('(blue|white|red)')\n",
        "print(p.sub('colour', 'blue socks and red shoes'))\n",
        "print(p.sub('colour', 'blue socks and red shoes', count=1)) # 바꾸기 횟수를 제어\n",
        "print(p.subn( 'colour', 'blue socks and red shoes'))"
      ]
    },
    {
      "cell_type": "code",
      "execution_count": null,
      "id": "9dd4e044",
      "metadata": {
        "id": "9dd4e044",
        "outputId": "804d6572-d007-4c39-d573-f9bb0e0095e2"
      },
      "outputs": [
        {
          "data": {
            "text/plain": [
              "'abc'"
            ]
          },
          "execution_count": 17,
          "metadata": {},
          "output_type": "execute_result"
        }
      ],
      "source": [
        "# Q. '12345abc'에서 'abc'만 출력하세요.\n",
        "import re\n",
        "str = '12345abc'\n",
        "re.sub('\\d','',str)"
      ]
    },
    {
      "cell_type": "code",
      "execution_count": null,
      "id": "c886dee8",
      "metadata": {
        "id": "c886dee8",
        "outputId": "60436b7b-3ff2-4de5-d43d-1fded81f4ddf"
      },
      "outputs": [
        {
          "data": {
            "text/plain": [
              "'abc'"
            ]
          },
          "execution_count": 47,
          "metadata": {},
          "output_type": "execute_result"
        }
      ],
      "source": [
        "import re\n",
        "p = re.compile('\\d')\n",
        "p.sub('','12345abc')"
      ]
    },
    {
      "cell_type": "code",
      "execution_count": null,
      "id": "579692ba",
      "metadata": {
        "id": "579692ba",
        "outputId": "42698674-9e07-4cd3-8850-ee80fa08ab11"
      },
      "outputs": [
        {
          "data": {
            "text/plain": [
              "'12345'"
            ]
          },
          "execution_count": 18,
          "metadata": {},
          "output_type": "execute_result"
        }
      ],
      "source": [
        "# Q. '12345abc'에서 '12345'만 출력하세요.\n",
        "import re\n",
        "str = '12345abc'\n",
        "re.sub('[^0-9]','',str) "
      ]
    },
    {
      "cell_type": "code",
      "execution_count": null,
      "id": "4a305567",
      "metadata": {
        "id": "4a305567",
        "outputId": "18cfb70d-37b0-43d1-e65e-ece95d4e0880"
      },
      "outputs": [
        {
          "name": "stdout",
          "output_type": "stream",
          "text": [
            "010-1234-1234 park\n"
          ]
        }
      ],
      "source": [
        "# sub 메서드를 사용할 때 참조 구문을 사용\n",
        "# 이름 + 전화번호의 문자열을 전화번호 + 이름으로 바꾸는 예\n",
        "# sub의 바꿀 문자열 부분에 \\g<그룹이름>을 사용하면 정규식의 그룹 이름을 참조\n",
        "p = re.compile(r\"(?P<name>\\w+)\\s+(?P<phone>(\\d+)[-]\\d+[-]\\d+)\")\n",
        "print(p.sub(\"\\g<phone> \\g<name>\", \"park 010-1234-1234\"))"
      ]
    },
    {
      "cell_type": "code",
      "execution_count": null,
      "id": "34798fe7",
      "metadata": {
        "id": "34798fe7",
        "outputId": "aa6b3222-7c3f-4ac5-feb5-f0233fd4938d"
      },
      "outputs": [
        {
          "name": "stdout",
          "output_type": "stream",
          "text": [
            "010-1234-1234 park\n"
          ]
        }
      ],
      "source": [
        "# 그룹 이름 대신 참조 번호를 사용할 수 있음\n",
        "p = re.compile(r\"(?P<name>\\w+)\\s+(?P<phone>(\\d+)[-]\\d+[-]\\d+)\")\n",
        "print(p.sub(\"\\g<2> \\g<1>\", \"park 010-1234-1234\"))"
      ]
    },
    {
      "cell_type": "code",
      "execution_count": null,
      "id": "930cab76",
      "metadata": {
        "id": "930cab76",
        "outputId": "927ac7cd-9b01-4eda-cda0-c5f9b042a1a7"
      },
      "outputs": [
        {
          "data": {
            "text/plain": [
              "'Call 0xffd2 for printing, 0xc000 for user code.'"
            ]
          },
          "execution_count": 25,
          "metadata": {},
          "output_type": "execute_result"
        }
      ],
      "source": [
        "# sub 메서드의 매개변수로 함수 넣기\n",
        "# hexrepl 함수는 match 객체(위에서 숫자에 매치되는)를 입력으로 받아 16진수로 변환하여 돌려주는 함수 \n",
        "# sub의 첫 번째 매개변수로 함수를 사용할 경우 해당 함수의 첫 번째 매개변수에는 정규식과 매치된 match 객체가 입력 \n",
        "# 매치되는 문자열은 함수의 반환 값으로 변환\n",
        "\n",
        "def hexrepl(match):\n",
        "    value = int(match.group())\n",
        "    return hex(value)\n",
        "\n",
        "p = re.compile(r'\\d+')\n",
        "p.sub(hexrepl, 'Call 65490 for printing, 49152 for user code.')"
      ]
    },
    {
      "cell_type": "code",
      "execution_count": null,
      "id": "ebaa2471",
      "metadata": {
        "id": "ebaa2471",
        "outputId": "a90c5371-d095-453a-c176-eb0195be401a"
      },
      "outputs": [
        {
          "name": "stdout",
          "output_type": "stream",
          "text": [
            "<html><head><title>Title</title>\n",
            "\n",
            "32\n",
            "\n",
            "(0, 32)\n",
            "\n",
            "<html><head><title>Title</title>\n",
            "\n",
            "<html>\n",
            "\n",
            "(0, 6)\n"
          ]
        }
      ],
      "source": [
        "# Greedy vs Non-Greedy\n",
        "# * 메타 문자는 매우 탐욕스러워서 매치할 수 있는 최대한의 문자열인 <html><head><title>Title</title> 문자열을 모두 소비\n",
        "# non-greedy 문자인 ?는 *의 탐욕을 제한하여 최소한의 반복을 수행. *?, +?, ??, {m,n}?와 같이 사용\n",
        "s = '<html><head><title>Title</title>'\n",
        "print(s)\n",
        "print()\n",
        "print(len(s))\n",
        "print()\n",
        "print(re.match('<.*>', s).span())\n",
        "print()\n",
        "print(re.match('<.*>', s).group())\n",
        "print()\n",
        "print(re.match('<.*?>', s).group())\n",
        "print()\n",
        "print(re.match('<.*?>', s).span())"
      ]
    }
  ],
  "metadata": {
    "kernelspec": {
      "display_name": "Python 3 (ipykernel)",
      "language": "python",
      "name": "python3"
    },
    "language_info": {
      "codemirror_mode": {
        "name": "ipython",
        "version": 3
      },
      "file_extension": ".py",
      "mimetype": "text/x-python",
      "name": "python",
      "nbconvert_exporter": "python",
      "pygments_lexer": "ipython3",
      "version": "3.8.13"
    },
    "colab": {
      "provenance": [],
      "toc_visible": true
    }
  },
  "nbformat": 4,
  "nbformat_minor": 5
}