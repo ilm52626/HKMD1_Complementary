{
  "nbformat": 4,
  "nbformat_minor": 0,
  "metadata": {
    "colab": {
      "provenance": [],
      "toc_visible": true,
      "authorship_tag": "ABX9TyOm5WQK693fLhcQrOMsT3AM"
    },
    "kernelspec": {
      "name": "python3",
      "display_name": "Python 3"
    },
    "language_info": {
      "name": "python"
    }
  },
  "cells": [
    {
      "cell_type": "markdown",
      "metadata": {
        "id": "jmMMCWjzQdUJ"
      },
      "source": [
        "## 로지스틱 회귀(Logistic Regression)\n",
        "\n",
        "![image.png](data:image/png;base64,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)\n",
        "https://pywind.github.io/Logistic-Regression/\n",
        "\n",
        "로지스틱 회귀(Logistic Regression)는 종속 변수가 이항 분포를 따를 때 사용되는 통계적인 회귀 분석 기법입니다. 이진 분류 문제를 다루는데 주로 사용되며, 예측하고자 하는 변수가 0 또는 1과 같은 이진 값으로 표현되는 경우에 적합한 알고리즘입니다.\n",
        "\n",
        "로지스틱 회귀는 선형 회귀와 달리 종속 변수의 값을 0과 1 사이의 값으로 변환하는 로지스틱 함수 또는 시그모이드 함수를 사용합니다. 이 함수는 입력 값에 대해 S자 형태의 곡선을 그리는데, 이를 통해 이진 분류를 수행하는데 적합한 확률 값을 얻을 수 있습니다.\n",
        "\n",
        "로지스틱 회귀 모델은 독립 변수와 가중치의 선형 조합을 로지스틱 함수에 입력으로 사용하여 확률을 계산합니다. 확률은 0과 1 사이의 값으로 표현되며, 보통 0.5를 기준으로 0.5보다 크면 1로 분류하고 0.5보다 작으면 0으로 분류합니다.\n",
        "\n",
        "로지스틱 회귀는 최적화 알고리즘을 사용하여 모델을 학습시킵니다. 학습 과정에서는 가중치를 조정하여 로지스틱 함수의 출력이 실제 데이터와 최대한 일치하도록 합니다. 일반적으로 최대 우도 추정(Maximum Likelihood Estimation)을 사용하여 모델을 적합시키는데, 이는 주어진 데이터에서 발생 가능성이 가장 높은 가중치 값을 찾는 것을 의미합니다.\n",
        "\n",
        "로지스틱 회귀는 단순하면서도 강력한 모델로, 이해하기 쉽고 해석하기도 용이합니다. 또한, 계수의 해석을 통해 독립 변수들의 영향력을 파악할 수 있어 유용합니다. 파이썬의 Scikit-learn 라이브러리를 통해 로지스틱 회귀 모델을 구현하고 사용할 수 있습니다."
      ]
    },
    {
      "cell_type": "code",
      "execution_count": null,
      "metadata": {
        "id": "UBFw7znOQdUM"
      },
      "outputs": [],
      "source": [
        "import pandas as pd\n",
        "import matplotlib.pyplot as plt\n",
        "import warnings\n",
        "warnings.filterwarnings('ignore')\n",
        "\n",
        "from sklearn.datasets import load_breast_cancer\n",
        "from sklearn.linear_model import LogisticRegression\n",
        "\n",
        "cancer = load_breast_cancer()"
      ]
    },
    {
      "cell_type": "code",
      "execution_count": null,
      "metadata": {
        "id": "B51GqdrcQdUN"
      },
      "outputs": [],
      "source": [
        "from sklearn.preprocessing import StandardScaler\n",
        "from sklearn.model_selection import train_test_split\n",
        "\n",
        "# StandardScaler( )로 평균이 0, 분산 1로 데이터 분포도 변환\n",
        "scaler = StandardScaler()\n",
        "data_scaled = scaler.fit_transform(cancer.data)\n",
        "\n",
        "X_train , X_test, y_train , y_test = train_test_split(data_scaled, cancer.target, test_size=0.3, random_state=0)"
      ]
    },
    {
      "cell_type": "code",
      "execution_count": null,
      "metadata": {
        "id": "I4VdZRBZQdUO",
        "outputId": "358513a1-b704-42bc-a396-86be147733a1"
      },
      "outputs": [
        {
          "name": "stdout",
          "output_type": "stream",
          "text": [
            "accuracy: 0.977\n",
            "roc_auc: 0.995\n"
          ]
        }
      ],
      "source": [
        "from sklearn.metrics import accuracy_score, roc_auc_score\n",
        "\n",
        "# 로지스틱 회귀를 이용하여 학습 및 예측 수행. \n",
        "lr_clf = LogisticRegression()\n",
        "lr_clf.fit(X_train, y_train)\n",
        "lr_preds = lr_clf.predict(X_test)\n",
        "lr_pred_proba = lr_clf.predict_proba(X_test)[:,1]\n",
        "\n",
        "# accuracy와 roc_auc 측정\n",
        "print('accuracy: {:0.3f}'.format(accuracy_score(y_test, lr_preds)))\n",
        "print('roc_auc: {:0.3f}'.format(roc_auc_score(y_test , lr_pred_proba)))"
      ]
    },
    {
      "cell_type": "code",
      "execution_count": null,
      "metadata": {
        "id": "tIl4jAxFQdUP",
        "outputId": "35258311-8892-409f-93b0-5c9b659559a4"
      },
      "outputs": [
        {
          "name": "stdout",
          "output_type": "stream",
          "text": [
            "최적 하이퍼 파라미터:{'C': 1, 'penalty': 'l2'}, 최적 평균 정확도:0.975\n"
          ]
        }
      ],
      "source": [
        "from sklearn.model_selection import GridSearchCV\n",
        "\n",
        "params={'penalty':['l2', 'l1'],\n",
        "        'C':[0.01, 0.1, 1, 1, 5, 10]}\n",
        "\n",
        "grid_clf = GridSearchCV(lr_clf, param_grid=params, scoring='accuracy', cv=3 )\n",
        "grid_clf.fit(data_scaled, cancer.target)\n",
        "print('최적 하이퍼 파라미터:{0}, 최적 평균 정확도:{1:.3f}'.format(grid_clf.best_params_, \n",
        "                                                  grid_clf.best_score_))"
      ]
    },
    {
      "cell_type": "markdown",
      "metadata": {
        "id": "kTYujwPTQdUP"
      },
      "source": [
        "# 로지스틱 회귀 트리(Logistic Regression Tree)\n",
        "로지스틱 회귀 트리(Logistic Regression Tree)는 회귀 분석과 결정 트리를 결합한 알고리즘입니다. 이 모델은 회귀 분석에서 사용되는 로지스틱 회귀 방법을 각 결정 트리의 리프 노드에서 적용하여 예측을 수행합니다.\n",
        "\n",
        "로지스틱 회귀는 이진 분류 문제에서 확률 값을 예측하는 모델입니다. 이 모델은 입력 변수의 선형 결합에 로지스틱 함수를 적용하여 예측 확률을 계산합니다. 로지스틱 회귀 트리는 이 로지스틱 회귀 방법을 결정 트리의 리프 노드에 적용합니다.\n",
        "\n",
        "로지스틱 회귀 트리의 동작은 다음과 같습니다:\n",
        "\n",
        "1. 데이터를 사용하여 결정 트리를 생성합니다.\n",
        "2. 각 리프 노드에 대해 로지스틱 회귀 모델을 학습합니다. 이 모델은 해당 리프 노드에 속한 데이터 포인트의 라벨(0 또는 1)을 예측하는 데 사용됩니다.\n",
        "3. 새로운 데이터 포인트가 주어지면 결정 트리를 통해 해당 리프 노드를 찾고, 해당 리프 노드에 연결된 로지스틱 회귀 모델을 사용하여 예측 확률을 계산합니다.\n",
        "\n",
        "로지스틱 회귀 트리는 결정 트리의 장점과 로지스틱 회귀의 장점을 결합한 모델입니다. 결정 트리의 장점인 해석력과 특성 중요도 평가를 할 수 있는 기능을 가지고 있으며, 로지스틱 회귀의 장점인 이진 분류 문제에 대한 확률 예측을 수행할 수 있는 능력을 가지고 있습니다.\n",
        "\n",
        "로지스틱 회귀 트리는 데이터가 복잡하고 비선형적인 관계를 가지는 경우에 유용하게 사용될 수 있습니다. 결정 트리의 분할 기준으로는 주로 지니 불순도나 엔트로피를 사용하며, 로지스틱 회귀 모델은 리프 노드에서 학습되므로 선형 결합에 로지스틱 함수를 적용할 수 있습니다.\n",
        "\n",
        "로지스틱 회귀 트리는 다양한 응용 분야에서 사용될 수 있습니다. 예를 들어, 의학 분야에서는 환자의 진단 결과를 기반으로 질병의 발생 확률을 예측하는 데 사용될 수 있습니다. 또한, 마케팅 분야에서는 고객의 특성을 기반으로 제품 구매 확률을 예측하는 데 활용될 수 있습니다.\n",
        "\n",
        "로지스틱 회귀 트리는 데이터의 특성과 목표에 따라 적합한 분석 방법일 수 있으며, 트리의 깊이나 분할 기준 등을 조정하여 모델의 복잡도를 제어할 수 있습니다. 이를 통해 모델의 일반화 성능을 향상시킬 수 있습니다."
      ]
    },
    {
      "cell_type": "code",
      "execution_count": null,
      "metadata": {
        "id": "l3-egO57QdUQ",
        "outputId": "d61d74a2-bc5c-4c54-82a9-c25674f0aaa9"
      },
      "outputs": [
        {
          "name": "stdout",
          "output_type": "stream",
          "text": [
            " 5 교차 검증의 개별 Negative MSE scores:  [ -7.88 -13.14 -20.57 -46.23 -18.88]\n",
            " 5 교차 검증의 개별 RMSE scores :  [2.81 3.63 4.54 6.8  4.34]\n",
            " 5 교차 검증의 평균 RMSE : 4.423 \n"
          ]
        }
      ],
      "source": [
        "from sklearn.datasets import load_boston\n",
        "from sklearn.model_selection import cross_val_score\n",
        "from sklearn.ensemble import RandomForestRegressor\n",
        "import pandas as pd\n",
        "import numpy as np\n",
        "\n",
        "# 보스턴 데이터 세트 로드\n",
        "boston = load_boston()\n",
        "bostonDF = pd.DataFrame(boston.data, columns = boston.feature_names)\n",
        "\n",
        "bostonDF['PRICE'] = boston.target\n",
        "y_target = bostonDF['PRICE']\n",
        "X_data = bostonDF.drop(['PRICE'], axis=1,inplace=False)\n",
        "\n",
        "rf = RandomForestRegressor(random_state=0, n_estimators=1000)\n",
        "neg_mse_scores = cross_val_score(rf, X_data, y_target, scoring=\"neg_mean_squared_error\", cv = 5)\n",
        "rmse_scores  = np.sqrt(-1 * neg_mse_scores)\n",
        "avg_rmse = np.mean(rmse_scores)\n",
        "\n",
        "print(' 5 교차 검증의 개별 Negative MSE scores: ', np.round(neg_mse_scores, 2))\n",
        "print(' 5 교차 검증의 개별 RMSE scores : ', np.round(rmse_scores, 2))\n",
        "print(' 5 교차 검증의 평균 RMSE : {0:.3f} '.format(avg_rmse))\n"
      ]
    },
    {
      "cell_type": "code",
      "execution_count": null,
      "metadata": {
        "id": "9CrjlODCQdUQ"
      },
      "outputs": [],
      "source": [
        "def get_model_cv_prediction(model, X_data, y_target):\n",
        "    neg_mse_scores = cross_val_score(model, X_data, y_target, scoring=\"neg_mean_squared_error\", cv = 5)\n",
        "    rmse_scores  = np.sqrt(-1 * neg_mse_scores)\n",
        "    avg_rmse = np.mean(rmse_scores)\n",
        "    print('##### ',model.__class__.__name__ , ' #####')\n",
        "    print(' 5 교차 검증의 평균 RMSE : {0:.3f} '.format(avg_rmse))"
      ]
    },
    {
      "cell_type": "code",
      "execution_count": null,
      "metadata": {
        "id": "AH67KWMfQdUR",
        "outputId": "67ae7844-1f37-4ad2-f556-50ed8734daab"
      },
      "outputs": [
        {
          "name": "stdout",
          "output_type": "stream",
          "text": [
            "#####  DecisionTreeRegressor  #####\n",
            " 5 교차 검증의 평균 RMSE : 5.978 \n",
            "#####  RandomForestRegressor  #####\n",
            " 5 교차 검증의 평균 RMSE : 4.423 \n",
            "#####  GradientBoostingRegressor  #####\n",
            " 5 교차 검증의 평균 RMSE : 4.269 \n",
            "[20:46:28] WARNING: src/objective/regression_obj.cu:152: reg:linear is now deprecated in favor of reg:squarederror.\n",
            "[20:46:28] WARNING: src/objective/regression_obj.cu:152: reg:linear is now deprecated in favor of reg:squarederror.\n",
            "[20:46:29] WARNING: src/objective/regression_obj.cu:152: reg:linear is now deprecated in favor of reg:squarederror.\n",
            "[20:46:29] WARNING: src/objective/regression_obj.cu:152: reg:linear is now deprecated in favor of reg:squarederror.\n",
            "[20:46:29] WARNING: src/objective/regression_obj.cu:152: reg:linear is now deprecated in favor of reg:squarederror.\n",
            "#####  XGBRegressor  #####\n",
            " 5 교차 검증의 평균 RMSE : 4.089 \n",
            "#####  LGBMRegressor  #####\n",
            " 5 교차 검증의 평균 RMSE : 4.646 \n"
          ]
        }
      ],
      "source": [
        "from sklearn.tree import DecisionTreeRegressor\n",
        "from sklearn.ensemble import GradientBoostingRegressor\n",
        "from xgboost import XGBRegressor\n",
        "from lightgbm import LGBMRegressor\n",
        "\n",
        "dt_reg = DecisionTreeRegressor(random_state=0, max_depth=4)\n",
        "rf_reg = RandomForestRegressor(random_state=0, n_estimators=1000)\n",
        "gb_reg = GradientBoostingRegressor(random_state=0, n_estimators=1000)\n",
        "xgb_reg = XGBRegressor(n_estimators=1000)\n",
        "lgb_reg = LGBMRegressor(n_estimators=1000)\n",
        "\n",
        "# 트리 기반의 회귀 모델을 반복하면서 평가 수행 \n",
        "models = [dt_reg, rf_reg, gb_reg, xgb_reg, lgb_reg]\n",
        "for model in models:  \n",
        "    get_model_cv_prediction(model, X_data, y_target)"
      ]
    },
    {
      "cell_type": "code",
      "execution_count": null,
      "metadata": {
        "id": "1LrzBPe6QdUS",
        "outputId": "4f44fec4-e08c-4b53-e459-7ad713ab63b4"
      },
      "outputs": [
        {
          "name": "stdout",
          "output_type": "stream",
          "text": [
            "RM         0.436311\n",
            "LSTAT      0.367971\n",
            "DIS        0.066330\n",
            "CRIM       0.037331\n",
            "NOX        0.023618\n",
            "PTRATIO    0.016565\n",
            "TAX        0.014784\n",
            "AGE        0.013345\n",
            "B          0.011788\n",
            "INDUS      0.006097\n",
            "RAD        0.003780\n",
            "ZN         0.001129\n",
            "CHAS       0.000951\n",
            "dtype: float64\n"
          ]
        },
        {
          "data": {
            "text/plain": [
              "<AxesSubplot:>"
            ]
          },
          "execution_count": 56,
          "metadata": {},
          "output_type": "execute_result"
        },
        {
          "data": {
            "image/png": "[encoded data removed]",
            "text/plain": [
              "<Figure size 432x288 with 1 Axes>"
            ]
          },
          "metadata": {
            "needs_background": "light"
          },
          "output_type": "display_data"
        }
      ],
      "source": [
        "import seaborn as sns\n",
        "%matplotlib inline\n",
        "\n",
        "rf_reg = RandomForestRegressor(n_estimators=1000)\n",
        "\n",
        "# 앞 예제에서 만들어진 X_data, y_target 데이터 셋을 적용하여 학습합니다.   \n",
        "rf_reg.fit(X_data, y_target)\n",
        "\n",
        "feature_series = pd.Series(data=rf_reg.feature_importances_, index=X_data.columns )\n",
        "feature_series = feature_series.sort_values(ascending=False)\n",
        "print(feature_series)\n",
        "sns.barplot(x= feature_series, y=feature_series.index)\n"
      ]
    },
    {
      "cell_type": "code",
      "execution_count": null,
      "metadata": {
        "id": "EgRpOytUQdUS",
        "outputId": "bb871882-c97f-4fe3-dff0-689eadfb5e96"
      },
      "outputs": [
        {
          "name": "stdout",
          "output_type": "stream",
          "text": [
            "(100, 2)\n"
          ]
        },
        {
          "data": {
            "text/plain": [
              "<matplotlib.collections.PathCollection at 0x1e99091da08>"
            ]
          },
          "execution_count": 14,
          "metadata": {},
          "output_type": "execute_result"
        },
        {
          "data": {
            "image/png": "[encoded data removed]",
            "text/plain": [
              "<Figure size 432x288 with 1 Axes>"
            ]
          },
          "metadata": {
            "needs_background": "light"
          },
          "output_type": "display_data"
        }
      ],
      "source": [
        "import matplotlib.pyplot as plt\n",
        "\n",
        "bostonDF_sample = bostonDF[['RM','PRICE']]\n",
        "bostonDF_sample = bostonDF_sample.sample(n=100,random_state=0)\n",
        "print(bostonDF_sample.shape)\n",
        "plt.figure()\n",
        "plt.scatter(bostonDF_sample.RM , bostonDF_sample.PRICE,c=\"darkorange\")"
      ]
    },
    {
      "cell_type": "code",
      "execution_count": null,
      "metadata": {
        "id": "lwyMjfKsQdUS"
      },
      "outputs": [],
      "source": [
        "import numpy as np\n",
        "from sklearn.linear_model import LinearRegression\n",
        "\n",
        "# 선형 회귀와 결정 트리 기반의 Regressor 생성. DecisionTreeRegressor의 max_depth는 각각 2, 7\n",
        "lr_reg = LinearRegression()\n",
        "rf_reg2 = DecisionTreeRegressor(max_depth=2)\n",
        "rf_reg7 = DecisionTreeRegressor(max_depth=7)\n",
        "\n",
        "# 실제 예측을 적용할 테스트용 데이터 셋을 4.5 ~ 8.5 까지 100개 데이터 셋 생성. \n",
        "X_test = np.arange(4.5, 8.5, 0.04).reshape(-1, 1)\n",
        "\n",
        "# 보스턴 주택가격 데이터에서 시각화를 위해 피처는 RM만, 그리고 결정 데이터인 PRICE 추출\n",
        "X_feature = bostonDF_sample['RM'].values.reshape(-1,1)\n",
        "y_target = bostonDF_sample['PRICE'].values.reshape(-1,1)\n",
        "\n",
        "# 학습과 예측 수행. \n",
        "lr_reg.fit(X_feature, y_target)\n",
        "rf_reg2.fit(X_feature, y_target)\n",
        "rf_reg7.fit(X_feature, y_target)\n",
        "\n",
        "pred_lr = lr_reg.predict(X_test)\n",
        "pred_rf2 = rf_reg2.predict(X_test)\n",
        "pred_rf7 = rf_reg7.predict(X_test)\n"
      ]
    },
    {
      "cell_type": "code",
      "execution_count": null,
      "metadata": {
        "id": "fwEnpct1QdUT",
        "outputId": "ceea5338-bf9f-4996-f128-f52ac73106f6"
      },
      "outputs": [
        {
          "data": {
            "text/plain": [
              "[<matplotlib.lines.Line2D at 0x1e9909f42c8>]"
            ]
          },
          "execution_count": 16,
          "metadata": {},
          "output_type": "execute_result"
        },
        {
          "data": {
            "image/png": "[encoded data removed]",
            "text/plain": [
              "<Figure size 1008x288 with 3 Axes>"
            ]
          },
          "metadata": {
            "needs_background": "light"
          },
          "output_type": "display_data"
        }
      ],
      "source": [
        "fig , (ax1, ax2, ax3) = plt.subplots(figsize=(14,4), ncols=3)\n",
        "\n",
        "# X축값을 4.5 ~ 8.5로 변환하며 입력했을 때, 선형 회귀와 결정 트리 회귀 예측 선 시각화\n",
        "# 선형 회귀로 학습된 모델 회귀 예측선 \n",
        "ax1.set_title('Linear Regression')\n",
        "ax1.scatter(bostonDF_sample.RM, bostonDF_sample.PRICE, c=\"darkorange\")\n",
        "ax1.plot(X_test, pred_lr,label=\"linear\", linewidth=2 )\n",
        "\n",
        "# DecisionTreeRegressor의 max_depth를 2로 했을 때 회귀 예측선 \n",
        "ax2.set_title('Decision Tree Regression: \\n max_depth=2')\n",
        "ax2.scatter(bostonDF_sample.RM, bostonDF_sample.PRICE, c=\"darkorange\")\n",
        "ax2.plot(X_test, pred_rf2, label=\"max_depth:3\", linewidth=2 )\n",
        "\n",
        "# DecisionTreeRegressor의 max_depth를 7로 했을 때 회귀 예측선 \n",
        "ax3.set_title('Decision Tree Regression: \\n max_depth=7')\n",
        "ax3.scatter(bostonDF_sample.RM, bostonDF_sample.PRICE, c=\"darkorange\")\n",
        "ax3.plot(X_test, pred_rf7, label=\"max_depth:7\", linewidth=2)"
      ]
    },
    {
      "cell_type": "code",
      "execution_count": null,
      "metadata": {
        "id": "UmD1hj0LQdUT",
        "outputId": "4ef2852f-2b2c-4245-e9a6-f32023ff1e25"
      },
      "outputs": [
        {
          "name": "stdout",
          "output_type": "stream",
          "text": [
            "26.6228440113059\n"
          ]
        }
      ],
      "source": [
        "# SVM 회귀\n",
        "from sklearn.svm import SVR\n",
        "from sklearn.metrics import mean_squared_error, explained_variance_score\n",
        "from sklearn.metrics import mean_squared_error\n",
        "\n",
        "boston = load_boston()\n",
        "bostonDF = pd.DataFrame(boston.data, columns = boston.feature_names)\n",
        "\n",
        "bostonDF['PRICE'] = boston.target\n",
        "y_target = bostonDF['PRICE']\n",
        "X_data = bostonDF.drop(['PRICE'], axis=1,inplace=False)\n",
        "\n",
        "X_train,X_test,y_train,y_test = train_test_split(X_data,y_target,test_size=0.2,random_state=11)\n",
        "\n",
        "svr = SVR(kernel='linear',C=1,epsilon=0.1) # epsilon은 도로의 폭을 조절하며 작을수록 마진을 작게한다.\n",
        "svr.fit(X_train,y_train)\n",
        "y_pred = svr.predict(X_test)\n",
        "mse = mean_squared_error(y_test,y_pred)\n",
        "print(mse)"
      ]
    },
    {
      "cell_type": "code",
      "execution_count": null,
      "metadata": {
        "id": "zwoFIf51QdUT",
        "outputId": "04016ae6-5a59-4f26-e722-7880938448e0"
      },
      "outputs": [
        {
          "data": {
            "text/plain": [
              "Index(['CRIM', 'ZN', 'INDUS', 'CHAS', 'NOX', 'RM', 'AGE', 'DIS', 'RAD', 'TAX',\n",
              "       'PTRATIO', 'B', 'LSTAT'],\n",
              "      dtype='object')"
            ]
          },
          "execution_count": 37,
          "metadata": {},
          "output_type": "execute_result"
        }
      ],
      "source": [
        "X_data.columns"
      ]
    },
    {
      "cell_type": "code",
      "execution_count": null,
      "metadata": {
        "id": "cAlCXbM3QdUU",
        "outputId": "7ef7eb8b-ee78-415c-872e-0b84c5627e6d"
      },
      "outputs": [
        {
          "name": "stdout",
          "output_type": "stream",
          "text": [
            "[18.70692863]\n"
          ]
        }
      ],
      "source": [
        "# 예측\n",
        "test_data = [3.7, 0, 18.4, 1, 0.87, 5.95, 91, 2.5052, 26, 666, 20.2, 351.34, 15.27]\n",
        "print(svr.predict([test_data]))"
      ]
    },
    {
      "cell_type": "code",
      "execution_count": null,
      "metadata": {
        "id": "-jgjmVsDQdUU",
        "outputId": "4ea1d6db-36ee-4375-d93c-2a317e87193f"
      },
      "outputs": [
        {
          "name": "stdout",
          "output_type": "stream",
          "text": [
            " 5 교차 검증의 개별 Negative MSE scores:  [ -7.84 -24.79 -35.13 -74.51 -24.4 ]\n",
            " 5 교차 검증의 개별 RMSE scores :  [2.8  4.98 5.93 8.63 4.94]\n",
            " 5 교차 검증의 평균 RMSE : 5.456 \n"
          ]
        }
      ],
      "source": [
        "neg_mse_scores = cross_val_score(svr, X, y, scoring=\"neg_mean_squared_error\", cv = 5)\n",
        "rmse_scores  = np.sqrt(-1 * neg_mse_scores)\n",
        "avg_rmse = np.mean(rmse_scores)\n",
        "\n",
        "print(' 5 교차 검증의 개별 Negative MSE scores: ', np.round(neg_mse_scores, 2))\n",
        "print(' 5 교차 검증의 개별 RMSE scores : ', np.round(rmse_scores, 2))\n",
        "print(' 5 교차 검증의 평균 RMSE : {0:.3f} '.format(avg_rmse))"
      ]
    },
    {
      "cell_type": "code",
      "execution_count": null,
      "metadata": {
        "id": "I7qrwIQtQdUU",
        "outputId": "f5de49ea-460b-4e0b-b626-14c5e2f1e5a5"
      },
      "outputs": [
        {
          "data": {
            "text/plain": [
              "RM         5.03\n",
              "CHAS       1.51\n",
              "RAD        0.20\n",
              "ZN         0.03\n",
              "B          0.01\n",
              "TAX       -0.01\n",
              "AGE       -0.02\n",
              "INDUS     -0.02\n",
              "CRIM      -0.14\n",
              "LSTAT     -0.38\n",
              "PTRATIO   -0.64\n",
              "DIS       -0.84\n",
              "NOX       -2.78\n",
              "dtype: float64"
            ]
          },
          "execution_count": 53,
          "metadata": {},
          "output_type": "execute_result"
        }
      ],
      "source": [
        "coef = np.ravel(svr.coef_,order='C') # 다차원 배열을 1차원 배열로 변환\n",
        "coeff = pd.Series(data=np.round(coef,2), index=X_data.columns)\n",
        "feature_series = coeff.sort_values(ascending=False)\n",
        "feature_series"
      ]
    },
    {
      "cell_type": "code",
      "execution_count": null,
      "metadata": {
        "id": "gEn7xPdEQdUU",
        "outputId": "7bc35ade-531f-4376-e146-f02546d2cd06"
      },
      "outputs": [
        {
          "data": {
            "text/plain": [
              "<AxesSubplot:>"
            ]
          },
          "execution_count": 54,
          "metadata": {},
          "output_type": "execute_result"
        },
        {
          "data": {
            "image/png": "[encoded data removed]",
            "text/plain": [
              "<Figure size 432x288 with 1 Axes>"
            ]
          },
          "metadata": {
            "needs_background": "light"
          },
          "output_type": "display_data"
        }
      ],
      "source": [
        "sns.barplot(x= feature_series, y=feature_series.index)"
      ]
    }
  ]
}