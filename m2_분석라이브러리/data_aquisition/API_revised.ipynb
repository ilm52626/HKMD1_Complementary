{
  "cells": [
    {
      "cell_type": "markdown",
      "source": [
        "# API (Application Programming Interface)\n",
        "\n",
        "API는 서로 다른 애플리케이션(프로그램) 간에 데이터를 주고받을 수 있는 창구입니다.\n",
        "\n",
        "현대 사회에서 우리가 사용하는 많은 서비스들은 다양한 애플리케이션으로 구성되어 있습니다.\n",
        "\n",
        "예를 들어, 음악 스트리밍 서비스를 이용한다면, 서비스는 당신의 플레이리스트와 재생 정보를 저장하는 애플리케이션과 음악 데이터를 제공하는 애플리케이션으로 구성되어 있을 것입니다.\n",
        "\n",
        "이때, 두 애플리케이션 간에 데이터를 주고 받기 위해서는, 서로가 이해할 수 있는 형태로 데이터를 전달해야 합니다. 이를 위해 API는 필수적인 요소입니다.\n",
        "\n",
        "API는 마치 서로 다른 언어를 사용하는 사람들이 의사소통할 때 필요한 번역기와 같습니다. 각각의 애플리케이션이 사용하는 데이터와 문법을 API가 이해하고, 다른 애플리케이션으로 전달할 수 있는 형태로 변환해주는 것입니다.\n",
        "\n",
        "API를 사용하면, 여러 애플리케이션 간의 데이터 전송이 더욱 효율적이고 원활하게 이루어질 수 있습니다. 이를 통해 우리는 더 많은 기능과 서비스를 사용할 수 있습니다.\n",
        "\n",
        "\n",
        "\n",
        "\n",
        "\n"
      ],
      "metadata": {
        "id": "dthptMkG8Jzi"
      }
    },
    {
      "cell_type": "markdown",
      "metadata": {
        "id": "WNg2MR7qJNVI"
      },
      "source": [
        "## OpenWeatherMap 날씨정보 출력\n",
        "* https://openweathermap.org/api 사이트에서 Current Weather data에 대한 API doc 내용을 파악\n",
        "* 개발자 등록을 하고 API 키 발급 받음(https://home.openweathermap.org/users/sign_up)\n",
        "* New Account 등록 후 API Keys라는 탭에서 API Key 확인 가능\n",
        "* 기본적으로 유료 사이트이지만 현재 날씨, 5일까지의 날씨는 무료로 사용할 수 있음(단 1분에 60번만 호출 가능)\n",
        "* 서울, 토쿄, 뉴욕의 날씨를 가져오는 프로그램 작성(text로 가져와서 json으로 변환하여 일차 출력)\n",
        "  - cities = [\"Seoul,KR\", \"Tokyo,JP\", \"New York,US\"]\n",
        "  - 가져올 정보 : 도시별 날씨(description), 최저 기온(temp_min), 최고 기온(temp_max), 습도(humidity), 기압(pressure), 풍속(speed)\n",
        "  - 기온 데이터는 켈빈 온도로 되어 있으며 섭씨 온도로 변환해서 출력\n",
        "* json 포멧으로 출력 데이터를 아래와 같이 가독력 있게 출력(소수점 2번째에서 반올림 처리)\n",
        "\n",
        "+ 도시 = Seoul\n",
        "| 날씨 = broken clouds\n",
        "| 최저 기온 = -1.0 2\n",
        "| 최고 기온 = 2.0 2\n",
        "| 습도 = 74\n",
        "| 기압 = 1023\n",
        "| 풍속 = 0.5"
      ]
    },
    {
      "cell_type": "code",
      "source": [
        "import requests\n",
        "\n",
        "# API Key 저장\n",
        "api_key = \"dace8640b2279c6914a50940b60e837a\"\n",
        "\n",
        "# API 호출 및 응답 받아오기\n",
        "city = \"Seoul\"\n",
        "url = f\"http://api.openweathermap.org/data/2.5/weather?q={city}&appid={api_key}&units=metric\"\n",
        "response = requests.get(url)\n",
        "\n",
        "# 응답 코드 확인\n",
        "if response.status_code == 200:\n",
        "  print(\"Success!\")\n",
        "else:\n",
        "  print(\"Error:\", response.status_code)\n",
        "\n",
        "# 응답 데이터 가져오기\n",
        "data = response.json()\n",
        "\n",
        "# 가져온 데이터 출력하기\n",
        "print(f\"도시: {data['name']}\")\n",
        "print(f\"현재 온도: {data['main']['temp']}℃\")\n",
        "print(f\"최고 기온: {data['main']['temp_max']}℃\")\n",
        "print(f\"최저 기온: {data['main']['temp_min']}℃\")\n",
        "print(f\"습도: {data['main']['humidity']}%\")\n",
        "print(f\"날씨: {data['weather'][0]['description']}\")\n"
      ],
      "metadata": {
        "colab": {
          "base_uri": "https://localhost:8080/"
        },
        "id": "8KpZ43ND7s1B",
        "outputId": "96dd62ff-6063-448a-8192-12cd09b5a877"
      },
      "execution_count": 2,
      "outputs": [
        {
          "output_type": "stream",
          "name": "stdout",
          "text": [
            "Success!\n",
            "도시: Seoul\n",
            "현재 온도: 23.74℃\n",
            "최고 기온: 23.76℃\n",
            "최저 기온: 21.69℃\n",
            "습도: 17%\n",
            "날씨: clear sky\n"
          ]
        }
      ]
    },
    {
      "cell_type": "code",
      "execution_count": 1,
      "metadata": {
        "id": "ECcDzlhAJNVT",
        "outputId": "ef4f3bb4-7f45-4c7e-8a85-00063e85d1a3",
        "colab": {
          "base_uri": "https://localhost:8080/"
        }
      },
      "outputs": [
        {
          "output_type": "stream",
          "name": "stdout",
          "text": [
            "{'cod': '200', 'message': 0, 'cnt': 40, 'list': [{'dt': 1683007200, 'main': {'temp': 279.29, 'feels_like': 277.72, 'temp_min': 279.29, 'temp_max': 281.77, 'pressure': 1025, 'sea_level': 1025, 'grnd_level': 1007, 'humidity': 44, 'temp_kf': -2.48}, 'weather': [{'id': 800, 'main': 'Clear', 'description': 'clear sky', 'icon': '01d'}], 'clouds': {'all': 0}, 'wind': {'speed': 2.13, 'deg': 265, 'gust': 3.11}, 'visibility': 10000, 'pop': 0, 'sys': {'pod': 'd'}, 'dt_txt': '2023-05-02 06:00:00'}, {'dt': 1683018000, 'main': {'temp': 281.43, 'feels_like': 279.9, 'temp_min': 281.43, 'temp_max': 285.72, 'pressure': 1025, 'sea_level': 1025, 'grnd_level': 1007, 'humidity': 39, 'temp_kf': -4.29}, 'weather': [{'id': 800, 'main': 'Clear', 'description': 'clear sky', 'icon': '01d'}], 'clouds': {'all': 3}, 'wind': {'speed': 2.55, 'deg': 259, 'gust': 3.76}, 'visibility': 10000, 'pop': 0, 'sys': {'pod': 'd'}, 'dt_txt': '2023-05-02 09:00:00'}, {'dt': 1683028800, 'main': {'temp': 284.9, 'feels_like': 283.02, 'temp_min': 284.9, 'temp_max': 287.7, 'pressure': 1024, 'sea_level': 1024, 'grnd_level': 1006, 'humidity': 34, 'temp_kf': -2.8}, 'weather': [{'id': 801, 'main': 'Clouds', 'description': 'few clouds', 'icon': '02d'}], 'clouds': {'all': 24}, 'wind': {'speed': 3.27, 'deg': 233, 'gust': 4.12}, 'visibility': 10000, 'pop': 0, 'sys': {'pod': 'd'}, 'dt_txt': '2023-05-02 12:00:00'}, {'dt': 1683039600, 'main': {'temp': 287.37, 'feels_like': 285.76, 'temp_min': 287.37, 'temp_max': 287.37, 'pressure': 1023, 'sea_level': 1023, 'grnd_level': 1005, 'humidity': 35, 'temp_kf': 0}, 'weather': [{'id': 803, 'main': 'Clouds', 'description': 'broken clouds', 'icon': '04d'}], 'clouds': {'all': 59}, 'wind': {'speed': 4.69, 'deg': 216, 'gust': 5.69}, 'visibility': 10000, 'pop': 0, 'sys': {'pod': 'd'}, 'dt_txt': '2023-05-02 15:00:00'}, {'dt': 1683050400, 'main': {'temp': 284.3, 'feels_like': 282.8, 'temp_min': 284.3, 'temp_max': 284.3, 'pressure': 1023, 'sea_level': 1023, 'grnd_level': 1005, 'humidity': 51, 'temp_kf': 0}, 'weather': [{'id': 803, 'main': 'Clouds', 'description': 'broken clouds', 'icon': '04n'}], 'clouds': {'all': 69}, 'wind': {'speed': 4.13, 'deg': 198, 'gust': 9.73}, 'visibility': 10000, 'pop': 0, 'sys': {'pod': 'n'}, 'dt_txt': '2023-05-02 18:00:00'}, {'dt': 1683061200, 'main': {'temp': 282.5, 'feels_like': 280.02, 'temp_min': 282.5, 'temp_max': 282.5, 'pressure': 1023, 'sea_level': 1023, 'grnd_level': 1005, 'humidity': 59, 'temp_kf': 0}, 'weather': [{'id': 804, 'main': 'Clouds', 'description': 'overcast clouds', 'icon': '04n'}], 'clouds': {'all': 99}, 'wind': {'speed': 4.77, 'deg': 200, 'gust': 12.23}, 'visibility': 10000, 'pop': 0, 'sys': {'pod': 'n'}, 'dt_txt': '2023-05-02 21:00:00'}, {'dt': 1683072000, 'main': {'temp': 281.61, 'feels_like': 278.71, 'temp_min': 281.61, 'temp_max': 281.61, 'pressure': 1023, 'sea_level': 1023, 'grnd_level': 1004, 'humidity': 61, 'temp_kf': 0}, 'weather': [{'id': 804, 'main': 'Clouds', 'description': 'overcast clouds', 'icon': '04n'}], 'clouds': {'all': 98}, 'wind': {'speed': 5.26, 'deg': 206, 'gust': 14.67}, 'visibility': 10000, 'pop': 0, 'sys': {'pod': 'n'}, 'dt_txt': '2023-05-03 00:00:00'}, {'dt': 1683082800, 'main': {'temp': 281.34, 'feels_like': 278.22, 'temp_min': 281.34, 'temp_max': 281.34, 'pressure': 1022, 'sea_level': 1022, 'grnd_level': 1004, 'humidity': 61, 'temp_kf': 0}, 'weather': [{'id': 803, 'main': 'Clouds', 'description': 'broken clouds', 'icon': '04d'}], 'clouds': {'all': 51}, 'wind': {'speed': 5.66, 'deg': 208, 'gust': 15.25}, 'visibility': 10000, 'pop': 0, 'sys': {'pod': 'd'}, 'dt_txt': '2023-05-03 03:00:00'}, {'dt': 1683093600, 'main': {'temp': 285.31, 'feels_like': 283.91, 'temp_min': 285.31, 'temp_max': 285.31, 'pressure': 1022, 'sea_level': 1022, 'grnd_level': 1004, 'humidity': 51, 'temp_kf': 0}, 'weather': [{'id': 803, 'main': 'Clouds', 'description': 'broken clouds', 'icon': '04d'}], 'clouds': {'all': 61}, 'wind': {'speed': 6.35, 'deg': 215, 'gust': 10.7}, 'visibility': 10000, 'pop': 0, 'sys': {'pod': 'd'}, 'dt_txt': '2023-05-03 06:00:00'}, {'dt': 1683104400, 'main': {'temp': 288.65, 'feels_like': 287.43, 'temp_min': 288.65, 'temp_max': 288.65, 'pressure': 1021, 'sea_level': 1021, 'grnd_level': 1004, 'humidity': 45, 'temp_kf': 0}, 'weather': [{'id': 804, 'main': 'Clouds', 'description': 'overcast clouds', 'icon': '04d'}], 'clouds': {'all': 97}, 'wind': {'speed': 7.17, 'deg': 208, 'gust': 10.76}, 'visibility': 10000, 'pop': 0, 'sys': {'pod': 'd'}, 'dt_txt': '2023-05-03 09:00:00'}, {'dt': 1683115200, 'main': {'temp': 289.96, 'feels_like': 288.77, 'temp_min': 289.96, 'temp_max': 289.96, 'pressure': 1020, 'sea_level': 1020, 'grnd_level': 1002, 'humidity': 41, 'temp_kf': 0}, 'weather': [{'id': 804, 'main': 'Clouds', 'description': 'overcast clouds', 'icon': '04d'}], 'clouds': {'all': 99}, 'wind': {'speed': 6.88, 'deg': 212, 'gust': 12.06}, 'visibility': 10000, 'pop': 0, 'sys': {'pod': 'd'}, 'dt_txt': '2023-05-03 12:00:00'}, {'dt': 1683126000, 'main': {'temp': 289.02, 'feels_like': 287.92, 'temp_min': 289.02, 'temp_max': 289.02, 'pressure': 1020, 'sea_level': 1020, 'grnd_level': 1002, 'humidity': 48, 'temp_kf': 0}, 'weather': [{'id': 804, 'main': 'Clouds', 'description': 'overcast clouds', 'icon': '04d'}], 'clouds': {'all': 100}, 'wind': {'speed': 5.61, 'deg': 210, 'gust': 11.01}, 'visibility': 10000, 'pop': 0, 'sys': {'pod': 'd'}, 'dt_txt': '2023-05-03 15:00:00'}, {'dt': 1683136800, 'main': {'temp': 286.36, 'feels_like': 285.28, 'temp_min': 286.36, 'temp_max': 286.36, 'pressure': 1019, 'sea_level': 1019, 'grnd_level': 1002, 'humidity': 59, 'temp_kf': 0}, 'weather': [{'id': 804, 'main': 'Clouds', 'description': 'overcast clouds', 'icon': '04n'}], 'clouds': {'all': 100}, 'wind': {'speed': 5.06, 'deg': 193, 'gust': 10.78}, 'visibility': 10000, 'pop': 0, 'sys': {'pod': 'n'}, 'dt_txt': '2023-05-03 18:00:00'}, {'dt': 1683147600, 'main': {'temp': 284.58, 'feels_like': 283.61, 'temp_min': 284.58, 'temp_max': 284.58, 'pressure': 1019, 'sea_level': 1019, 'grnd_level': 1001, 'humidity': 70, 'temp_kf': 0}, 'weather': [{'id': 804, 'main': 'Clouds', 'description': 'overcast clouds', 'icon': '04n'}], 'clouds': {'all': 100}, 'wind': {'speed': 3.55, 'deg': 261, 'gust': 8.44}, 'visibility': 10000, 'pop': 0.32, 'sys': {'pod': 'n'}, 'dt_txt': '2023-05-03 21:00:00'}, {'dt': 1683158400, 'main': {'temp': 280.08, 'feels_like': 277.38, 'temp_min': 280.08, 'temp_max': 280.08, 'pressure': 1022, 'sea_level': 1022, 'grnd_level': 1003, 'humidity': 83, 'temp_kf': 0}, 'weather': [{'id': 500, 'main': 'Rain', 'description': 'light rain', 'icon': '10n'}], 'clouds': {'all': 100}, 'wind': {'speed': 4, 'deg': 319, 'gust': 5.85}, 'visibility': 10000, 'pop': 0.61, 'rain': {'3h': 0.53}, 'sys': {'pod': 'n'}, 'dt_txt': '2023-05-04 00:00:00'}, {'dt': 1683169200, 'main': {'temp': 278.85, 'feels_like': 275.86, 'temp_min': 278.85, 'temp_max': 278.85, 'pressure': 1024, 'sea_level': 1024, 'grnd_level': 1005, 'humidity': 78, 'temp_kf': 0}, 'weather': [{'id': 804, 'main': 'Clouds', 'description': 'overcast clouds', 'icon': '04d'}], 'clouds': {'all': 100}, 'wind': {'speed': 4.01, 'deg': 340, 'gust': 5.92}, 'visibility': 10000, 'pop': 0.06, 'sys': {'pod': 'd'}, 'dt_txt': '2023-05-04 03:00:00'}, {'dt': 1683180000, 'main': {'temp': 281.49, 'feels_like': 280.08, 'temp_min': 281.49, 'temp_max': 281.49, 'pressure': 1024, 'sea_level': 1024, 'grnd_level': 1006, 'humidity': 60, 'temp_kf': 0}, 'weather': [{'id': 804, 'main': 'Clouds', 'description': 'overcast clouds', 'icon': '04d'}], 'clouds': {'all': 100}, 'wind': {'speed': 2.4, 'deg': 357, 'gust': 3.69}, 'visibility': 10000, 'pop': 0, 'sys': {'pod': 'd'}, 'dt_txt': '2023-05-04 06:00:00'}, {'dt': 1683190800, 'main': {'temp': 285.26, 'feels_like': 283.54, 'temp_min': 285.26, 'temp_max': 285.26, 'pressure': 1024, 'sea_level': 1024, 'grnd_level': 1006, 'humidity': 39, 'temp_kf': 0}, 'weather': [{'id': 804, 'main': 'Clouds', 'description': 'overcast clouds', 'icon': '04d'}], 'clouds': {'all': 100}, 'wind': {'speed': 1.49, 'deg': 340, 'gust': 2.2}, 'visibility': 10000, 'pop': 0, 'sys': {'pod': 'd'}, 'dt_txt': '2023-05-04 09:00:00'}, {'dt': 1683201600, 'main': {'temp': 286.33, 'feels_like': 284.59, 'temp_min': 286.33, 'temp_max': 286.33, 'pressure': 1024, 'sea_level': 1024, 'grnd_level': 1006, 'humidity': 34, 'temp_kf': 0}, 'weather': [{'id': 804, 'main': 'Clouds', 'description': 'overcast clouds', 'icon': '04d'}], 'clouds': {'all': 100}, 'wind': {'speed': 1.75, 'deg': 3, 'gust': 2.35}, 'visibility': 10000, 'pop': 0, 'sys': {'pod': 'd'}, 'dt_txt': '2023-05-04 12:00:00'}, {'dt': 1683212400, 'main': {'temp': 284.97, 'feels_like': 283.36, 'temp_min': 284.97, 'temp_max': 284.97, 'pressure': 1024, 'sea_level': 1024, 'grnd_level': 1006, 'humidity': 44, 'temp_kf': 0}, 'weather': [{'id': 804, 'main': 'Clouds', 'description': 'overcast clouds', 'icon': '04d'}], 'clouds': {'all': 100}, 'wind': {'speed': 3.01, 'deg': 54, 'gust': 2.27}, 'visibility': 10000, 'pop': 0.08, 'sys': {'pod': 'd'}, 'dt_txt': '2023-05-04 15:00:00'}, {'dt': 1683223200, 'main': {'temp': 282.82, 'feels_like': 281.99, 'temp_min': 282.82, 'temp_max': 282.82, 'pressure': 1025, 'sea_level': 1025, 'grnd_level': 1007, 'humidity': 59, 'temp_kf': 0}, 'weather': [{'id': 804, 'main': 'Clouds', 'description': 'overcast clouds', 'icon': '04n'}], 'clouds': {'all': 100}, 'wind': {'speed': 1.96, 'deg': 120, 'gust': 2.87}, 'visibility': 10000, 'pop': 0, 'sys': {'pod': 'n'}, 'dt_txt': '2023-05-04 18:00:00'}, {'dt': 1683234000, 'main': {'temp': 281.65, 'feels_like': 280.35, 'temp_min': 281.65, 'temp_max': 281.65, 'pressure': 1024, 'sea_level': 1024, 'grnd_level': 1006, 'humidity': 70, 'temp_kf': 0}, 'weather': [{'id': 804, 'main': 'Clouds', 'description': 'overcast clouds', 'icon': '04n'}], 'clouds': {'all': 100}, 'wind': {'speed': 2.3, 'deg': 142, 'gust': 3.9}, 'visibility': 10000, 'pop': 0, 'sys': {'pod': 'n'}, 'dt_txt': '2023-05-04 21:00:00'}, {'dt': 1683244800, 'main': {'temp': 281.13, 'feels_like': 280.17, 'temp_min': 281.13, 'temp_max': 281.13, 'pressure': 1024, 'sea_level': 1024, 'grnd_level': 1006, 'humidity': 71, 'temp_kf': 0}, 'weather': [{'id': 500, 'main': 'Rain', 'description': 'light rain', 'icon': '10n'}], 'clouds': {'all': 100}, 'wind': {'speed': 1.81, 'deg': 113, 'gust': 2.9}, 'visibility': 10000, 'pop': 0.32, 'rain': {'3h': 0.36}, 'sys': {'pod': 'n'}, 'dt_txt': '2023-05-05 00:00:00'}, {'dt': 1683255600, 'main': {'temp': 280.35, 'feels_like': 280.35, 'temp_min': 280.35, 'temp_max': 280.35, 'pressure': 1024, 'sea_level': 1024, 'grnd_level': 1006, 'humidity': 75, 'temp_kf': 0}, 'weather': [{'id': 500, 'main': 'Rain', 'description': 'light rain', 'icon': '10d'}], 'clouds': {'all': 100}, 'wind': {'speed': 0.93, 'deg': 124, 'gust': 2.52}, 'visibility': 10000, 'pop': 0.44, 'rain': {'3h': 0.98}, 'sys': {'pod': 'd'}, 'dt_txt': '2023-05-05 03:00:00'}, {'dt': 1683266400, 'main': {'temp': 281.88, 'feels_like': 280.24, 'temp_min': 281.88, 'temp_max': 281.88, 'pressure': 1023, 'sea_level': 1023, 'grnd_level': 1005, 'humidity': 61, 'temp_kf': 0}, 'weather': [{'id': 804, 'main': 'Clouds', 'description': 'overcast clouds', 'icon': '04d'}], 'clouds': {'all': 100}, 'wind': {'speed': 2.83, 'deg': 77, 'gust': 4.4}, 'visibility': 10000, 'pop': 0.43, 'sys': {'pod': 'd'}, 'dt_txt': '2023-05-05 06:00:00'}, {'dt': 1683277200, 'main': {'temp': 283.52, 'feels_like': 281.89, 'temp_min': 283.52, 'temp_max': 283.52, 'pressure': 1022, 'sea_level': 1022, 'grnd_level': 1004, 'humidity': 49, 'temp_kf': 0}, 'weather': [{'id': 804, 'main': 'Clouds', 'description': 'overcast clouds', 'icon': '04d'}], 'clouds': {'all': 100}, 'wind': {'speed': 4.98, 'deg': 83, 'gust': 6.45}, 'visibility': 10000, 'pop': 0.12, 'sys': {'pod': 'd'}, 'dt_txt': '2023-05-05 09:00:00'}, {'dt': 1683288000, 'main': {'temp': 281.3, 'feels_like': 278.3, 'temp_min': 281.3, 'temp_max': 281.3, 'pressure': 1021, 'sea_level': 1021, 'grnd_level': 1003, 'humidity': 69, 'temp_kf': 0}, 'weather': [{'id': 500, 'main': 'Rain', 'description': 'light rain', 'icon': '10d'}], 'clouds': {'all': 100}, 'wind': {'speed': 5.32, 'deg': 70, 'gust': 7.62}, 'visibility': 10000, 'pop': 0.6, 'rain': {'3h': 0.77}, 'sys': {'pod': 'd'}, 'dt_txt': '2023-05-05 12:00:00'}, {'dt': 1683298800, 'main': {'temp': 278.99, 'feels_like': 275.23, 'temp_min': 278.99, 'temp_max': 278.99, 'pressure': 1019, 'sea_level': 1019, 'grnd_level': 1001, 'humidity': 87, 'temp_kf': 0}, 'weather': [{'id': 501, 'main': 'Rain', 'description': 'moderate rain', 'icon': '10d'}], 'clouds': {'all': 100}, 'wind': {'speed': 5.71, 'deg': 35, 'gust': 11.84}, 'visibility': 10000, 'pop': 0.98, 'rain': {'3h': 4.83}, 'sys': {'pod': 'd'}, 'dt_txt': '2023-05-05 15:00:00'}, {'dt': 1683309600, 'main': {'temp': 280.11, 'feels_like': 276.44, 'temp_min': 280.11, 'temp_max': 280.11, 'pressure': 1017, 'sea_level': 1017, 'grnd_level': 998, 'humidity': 77, 'temp_kf': 0}, 'weather': [{'id': 804, 'main': 'Clouds', 'description': 'overcast clouds', 'icon': '04n'}], 'clouds': {'all': 100}, 'wind': {'speed': 6.24, 'deg': 63, 'gust': 14.21}, 'visibility': 10000, 'pop': 0.74, 'sys': {'pod': 'n'}, 'dt_txt': '2023-05-05 18:00:00'}, {'dt': 1683320400, 'main': {'temp': 280.81, 'feels_like': 277.14, 'temp_min': 280.81, 'temp_max': 280.81, 'pressure': 1013, 'sea_level': 1013, 'grnd_level': 995, 'humidity': 85, 'temp_kf': 0}, 'weather': [{'id': 500, 'main': 'Rain', 'description': 'light rain', 'icon': '10n'}], 'clouds': {'all': 100}, 'wind': {'speed': 6.83, 'deg': 76, 'gust': 15.26}, 'visibility': 10000, 'pop': 0.34, 'rain': {'3h': 0.22}, 'sys': {'pod': 'n'}, 'dt_txt': '2023-05-05 21:00:00'}, {'dt': 1683331200, 'main': {'temp': 281.34, 'feels_like': 277.78, 'temp_min': 281.34, 'temp_max': 281.34, 'pressure': 1010, 'sea_level': 1010, 'grnd_level': 992, 'humidity': 95, 'temp_kf': 0}, 'weather': [{'id': 500, 'main': 'Rain', 'description': 'light rain', 'icon': '10n'}], 'clouds': {'all': 100}, 'wind': {'speed': 6.95, 'deg': 86, 'gust': 14.58}, 'visibility': 5017, 'pop': 1, 'rain': {'3h': 2.89}, 'sys': {'pod': 'n'}, 'dt_txt': '2023-05-06 00:00:00'}, {'dt': 1683342000, 'main': {'temp': 281.32, 'feels_like': 277.98, 'temp_min': 281.32, 'temp_max': 281.32, 'pressure': 1008, 'sea_level': 1008, 'grnd_level': 990, 'humidity': 96, 'temp_kf': 0}, 'weather': [{'id': 501, 'main': 'Rain', 'description': 'moderate rain', 'icon': '10d'}], 'clouds': {'all': 100}, 'wind': {'speed': 6.25, 'deg': 81, 'gust': 13.65}, 'visibility': 6873, 'pop': 1, 'rain': {'3h': 5.31}, 'sys': {'pod': 'd'}, 'dt_txt': '2023-05-06 03:00:00'}, {'dt': 1683352800, 'main': {'temp': 283.46, 'feels_like': 283.08, 'temp_min': 283.46, 'temp_max': 283.46, 'pressure': 1007, 'sea_level': 1007, 'grnd_level': 989, 'humidity': 97, 'temp_kf': 0}, 'weather': [{'id': 501, 'main': 'Rain', 'description': 'moderate rain', 'icon': '10d'}], 'clouds': {'all': 100}, 'wind': {'speed': 5.34, 'deg': 103, 'gust': 11}, 'visibility': 10000, 'pop': 1, 'rain': {'3h': 3.78}, 'sys': {'pod': 'd'}, 'dt_txt': '2023-05-06 06:00:00'}, {'dt': 1683363600, 'main': {'temp': 284.7, 'feels_like': 284.21, 'temp_min': 284.7, 'temp_max': 284.7, 'pressure': 1006, 'sea_level': 1006, 'grnd_level': 989, 'humidity': 88, 'temp_kf': 0}, 'weather': [{'id': 500, 'main': 'Rain', 'description': 'light rain', 'icon': '10d'}], 'clouds': {'all': 100}, 'wind': {'speed': 6.05, 'deg': 86, 'gust': 13.14}, 'visibility': 10000, 'pop': 0.82, 'rain': {'3h': 1.09}, 'sys': {'pod': 'd'}, 'dt_txt': '2023-05-06 09:00:00'}, {'dt': 1683374400, 'main': {'temp': 289.48, 'feels_like': 288.68, 'temp_min': 289.48, 'temp_max': 289.48, 'pressure': 1005, 'sea_level': 1005, 'grnd_level': 987, 'humidity': 58, 'temp_kf': 0}, 'weather': [{'id': 500, 'main': 'Rain', 'description': 'light rain', 'icon': '10d'}], 'clouds': {'all': 100}, 'wind': {'speed': 7.37, 'deg': 125, 'gust': 13.3}, 'visibility': 10000, 'pop': 1, 'rain': {'3h': 1.02}, 'sys': {'pod': 'd'}, 'dt_txt': '2023-05-06 12:00:00'}, {'dt': 1683385200, 'main': {'temp': 285.83, 'feels_like': 285.19, 'temp_min': 285.83, 'temp_max': 285.83, 'pressure': 1005, 'sea_level': 1005, 'grnd_level': 987, 'humidity': 78, 'temp_kf': 0}, 'weather': [{'id': 500, 'main': 'Rain', 'description': 'light rain', 'icon': '10d'}], 'clouds': {'all': 100}, 'wind': {'speed': 4.2, 'deg': 112, 'gust': 10.56}, 'visibility': 10000, 'pop': 1, 'rain': {'3h': 1.59}, 'sys': {'pod': 'd'}, 'dt_txt': '2023-05-06 15:00:00'}, {'dt': 1683396000, 'main': {'temp': 284.8, 'feels_like': 284.32, 'temp_min': 284.8, 'temp_max': 284.8, 'pressure': 1004, 'sea_level': 1004, 'grnd_level': 986, 'humidity': 88, 'temp_kf': 0}, 'weather': [{'id': 501, 'main': 'Rain', 'description': 'moderate rain', 'icon': '10n'}], 'clouds': {'all': 100}, 'wind': {'speed': 8.08, 'deg': 104, 'gust': 15.67}, 'visibility': 10000, 'pop': 1, 'rain': {'3h': 4.26}, 'sys': {'pod': 'n'}, 'dt_txt': '2023-05-06 18:00:00'}, {'dt': 1683406800, 'main': {'temp': 283.46, 'feels_like': 282.79, 'temp_min': 283.46, 'temp_max': 283.46, 'pressure': 1003, 'sea_level': 1003, 'grnd_level': 985, 'humidity': 86, 'temp_kf': 0}, 'weather': [{'id': 500, 'main': 'Rain', 'description': 'light rain', 'icon': '10n'}], 'clouds': {'all': 100}, 'wind': {'speed': 7.96, 'deg': 105, 'gust': 13.44}, 'visibility': 10000, 'pop': 1, 'rain': {'3h': 1.9}, 'sys': {'pod': 'n'}, 'dt_txt': '2023-05-06 21:00:00'}, {'dt': 1683417600, 'main': {'temp': 279.59, 'feels_like': 276.88, 'temp_min': 279.59, 'temp_max': 279.59, 'pressure': 1004, 'sea_level': 1004, 'grnd_level': 986, 'humidity': 89, 'temp_kf': 0}, 'weather': [{'id': 501, 'main': 'Rain', 'description': 'moderate rain', 'icon': '10n'}], 'clouds': {'all': 100}, 'wind': {'speed': 3.82, 'deg': 210, 'gust': 5.44}, 'visibility': 10000, 'pop': 1, 'rain': {'3h': 4.66}, 'sys': {'pod': 'n'}, 'dt_txt': '2023-05-07 00:00:00'}, {'dt': 1683428400, 'main': {'temp': 278.1, 'feels_like': 275.04, 'temp_min': 278.1, 'temp_max': 278.1, 'pressure': 1007, 'sea_level': 1007, 'grnd_level': 989, 'humidity': 91, 'temp_kf': 0}, 'weather': [{'id': 500, 'main': 'Rain', 'description': 'light rain', 'icon': '10d'}], 'clouds': {'all': 100}, 'wind': {'speed': 3.84, 'deg': 188, 'gust': 6.8}, 'visibility': 10000, 'pop': 0.6, 'rain': {'3h': 0.67}, 'sys': {'pod': 'd'}, 'dt_txt': '2023-05-07 03:00:00'}], 'city': {'id': 524901, 'name': 'Moscow', 'coord': {'lat': 55.7522, 'lon': 37.6156}, 'country': 'RU', 'population': 0, 'timezone': 10800, 'sunrise': 1682991919, 'sunset': 1683047260}}\n"
          ]
        }
      ],
      "source": [
        "import json\n",
        "import requests as rq\n",
        "apikey = \"dace8640b2279c6914a50940b60e837a\"\n",
        "api = 'http://api.openweathermap.org/data/2.5/forecast?id=524901&appid={key}'\n",
        "url = api.format(key=apikey)\n",
        "res = rq.get(url)\n",
        "data = json.loads(res.text)\n",
        "print(data)"
      ]
    },
    {
      "cell_type": "code",
      "execution_count": null,
      "metadata": {
        "id": "W0G1z056JNVW",
        "outputId": "e8f08da7-74ca-461b-8328-09d9629b30e5"
      },
      "outputs": [
        {
          "name": "stdout",
          "output_type": "stream",
          "text": [
            "{'coord': {'lon': 126.9778, 'lat': 37.5683}, 'weather': [{'id': 803, 'main': 'Clouds', 'description': 'broken clouds', 'icon': '04d'}], 'base': 'stations', 'main': {'temp': 304.63, 'feels_like': 308.5, 'temp_min': 302.84, 'temp_max': 305.81, 'pressure': 1008, 'humidity': 58}, 'visibility': 10000, 'wind': {'speed': 4.63, 'deg': 180}, 'clouds': {'all': 75}, 'dt': 1658907220, 'sys': {'type': 1, 'id': 8105, 'country': 'KR', 'sunrise': 1658867480, 'sunset': 1658918737}, 'timezone': 32400, 'id': 1835848, 'name': 'Seoul', 'cod': 200}\n",
            "{'coord': {'lon': 139.6917, 'lat': 35.6895}, 'weather': [{'id': 803, 'main': 'Clouds', 'description': 'broken clouds', 'icon': '04d'}], 'base': 'stations', 'main': {'temp': 305.15, 'feels_like': 311.81, 'temp_min': 302.94, 'temp_max': 306.79, 'pressure': 1010, 'humidity': 65}, 'visibility': 10000, 'wind': {'speed': 8.75, 'deg': 190}, 'clouds': {'all': 75}, 'dt': 1658907473, 'sys': {'type': 2, 'id': 2038398, 'country': 'JP', 'sunrise': 1658864689, 'sunset': 1658915425}, 'timezone': 32400, 'id': 1850144, 'name': 'Tokyo', 'cod': 200}\n",
            "{'coord': {'lon': -74.006, 'lat': 40.7143}, 'weather': [{'id': 800, 'main': 'Clear', 'description': 'clear sky', 'icon': '01n'}], 'base': 'stations', 'main': {'temp': 294.41, 'feels_like': 294.37, 'temp_min': 288.23, 'temp_max': 296.57, 'pressure': 1015, 'humidity': 68}, 'visibility': 10000, 'wind': {'speed': 1.54, 'deg': 70}, 'clouds': {'all': 0}, 'dt': 1658907398, 'sys': {'type': 2, 'id': 2039034, 'country': 'US', 'sunrise': 1658915272, 'sunset': 1658967417}, 'timezone': -14400, 'id': 5128581, 'name': 'New York', 'cod': 200}\n"
          ]
        }
      ],
      "source": [
        "import json\n",
        "import requests as rq\n",
        "apikey = \"dace8640b2279c6914a50940b60e837a\"\n",
        "cities = [\"Seoul,KR\", \"Tokyo,JP\", \"New York,US\"]\n",
        "api = \"http://api.openweathermap.org/data/2.5/weather?q={city}&APPID={key}\"\n",
        "# api = \"api.openweathermap.org/data/2.5/forecast?id=524901&appid={API key}\"\n",
        "k2c = lambda k: k - 273.15\n",
        "for name in cities:\n",
        "    url = api.format(city=name, key=apikey)\n",
        "    res = rq.get(url)\n",
        "    data = json.loads(res.text)\n",
        "    print(data)"
      ]
    },
    {
      "cell_type": "code",
      "execution_count": null,
      "metadata": {
        "id": "drPUhyYiJNVX",
        "outputId": "51dffd0d-0b58-4900-c41d-a5c281a21f79"
      },
      "outputs": [
        {
          "name": "stdout",
          "output_type": "stream",
          "text": [
            "+ 도시 = Seoul\n",
            "| 날씨 = broken clouds\n",
            "| 최저 기온 = 30.0 2\n",
            "| 최고 기온 = 33.0 2\n",
            "| 습도 = 58\n",
            "| 기압 = 1008\n",
            "| 풍속 = 4.63\n",
            "\n",
            "+ 도시 = Tokyo\n",
            "| 날씨 = broken clouds\n",
            "| 최저 기온 = 30.0 2\n",
            "| 최고 기온 = 34.0 2\n",
            "| 습도 = 65\n",
            "| 기압 = 1010\n",
            "| 풍속 = 8.75\n",
            "\n",
            "+ 도시 = New York\n",
            "| 날씨 = clear sky\n",
            "| 최저 기온 = 15.0 2\n",
            "| 최고 기온 = 23.0 2\n",
            "| 습도 = 68\n",
            "| 기압 = 1015\n",
            "| 풍속 = 1.54\n",
            "\n"
          ]
        }
      ],
      "source": [
        "import json\n",
        "import requests as rq\n",
        "import numpy as np\n",
        "apikey = \"dace8640b2279c6914a50940b60e837a\"\n",
        "cities = [\"Seoul,KR\", \"Tokyo,JP\", \"New York,US\"]\n",
        "api = \"http://api.openweathermap.org/data/2.5/weather?q={city}&APPID={key}\"\n",
        "k2c = lambda k: k - 273.15\n",
        "for name in cities:\n",
        "    url = api.format(city=name, key=apikey)\n",
        "    res = rq.get(url)\n",
        "    data = json.loads(res.text)\n",
        "\n",
        "    print(\"+ 도시 =\", data[\"name\"])\n",
        "    print(\"| 날씨 =\", data[\"weather\"][0][\"description\"])\n",
        "    print(\"| 최저 기온 =\", np.round(k2c(data[\"main\"][\"temp_min\"])), 2)\n",
        "    print(\"| 최고 기온 =\", np.round(k2c(data[\"main\"][\"temp_max\"])), 2)\n",
        "    print(\"| 습도 =\", data[\"main\"][\"humidity\"])\n",
        "    print(\"| 기압 =\", data[\"main\"][\"pressure\"])\n",
        "    print(\"| 풍속 =\", data[\"wind\"][\"speed\"])\n",
        "    print(\"\")"
      ]
    },
    {
      "cell_type": "code",
      "execution_count": null,
      "metadata": {
        "id": "nI3IjVKpJNVY",
        "outputId": "bf80ffc9-3ad5-4286-bdee-4180e9fca089"
      },
      "outputs": [
        {
          "data": {
            "text/plain": [
              "'{\"coord\":{\"lon\":139.6917,\"lat\":35.6895},\"weather\":[{\"id\":803,\"main\":\"Clouds\",\"description\":\"튼구름\",\"icon\":\"04d\"}],\"base\":\"stations\",\"main\":{\"temp\":305.13,\"feels_like\":311.76,\"temp_min\":302.94,\"temp_max\":306.79,\"pressure\":1010,\"humidity\":65},\"visibility\":10000,\"wind\":{\"speed\":8.75,\"deg\":190},\"clouds\":{\"all\":75},\"dt\":1658907490,\"sys\":{\"type\":2,\"id\":2038398,\"country\":\"JP\",\"sunrise\":1658864689,\"sunset\":1658915425},\"timezone\":32400,\"id\":1850144,\"name\":\"Tokyo\",\"cod\":200}'"
            ]
          },
          "execution_count": 4,
          "metadata": {},
          "output_type": "execute_result"
        }
      ],
      "source": [
        "import requests\n",
        "import json\n",
        "\n",
        "key= \"dace8640b2279c6914a50940b60e837a\"\n",
        "cities = ['Seoul','Tokyo','New York']\n",
        "\n",
        "url = 'http://api.openweathermap.org/data/2.5/weather?'\n",
        "params = {'lang' : 'kr' , 'appid' : key,'q':'Tokyo' }\n",
        "response = requests.get(url, params=params)\n",
        "response.text"
      ]
    },
    {
      "cell_type": "code",
      "execution_count": null,
      "metadata": {
        "id": "g4-2gHeQJNVZ",
        "outputId": "0a3dd749-bc69-4ae5-8eb8-8cdc09b48b7b"
      },
      "outputs": [
        {
          "name": "stdout",
          "output_type": "stream",
          "text": [
            "+ 도시 = Seoul\n",
            "| 날씨 = 튼구름\n",
            "| 최저 기온 = 29.69\n",
            "| 최고 기온 = 32.66\n",
            "| 습도 = 58\n",
            "| 기압 = 1008\n",
            "| 풍향 = 180\n",
            "| 풍속 = 4.63\n",
            "\n",
            "+ 도시 = Tokyo\n",
            "| 날씨 = 튼구름\n",
            "| 최저 기온 = 29.79\n",
            "| 최고 기온 = 33.66\n",
            "| 습도 = 65\n",
            "| 기압 = 1010\n",
            "| 풍향 = 190\n",
            "| 풍속 = 8.75\n",
            "\n",
            "+ 도시 = New York\n",
            "| 날씨 = 맑음\n",
            "| 최저 기온 = 15.08\n",
            "| 최고 기온 = 23.42\n",
            "| 습도 = 68\n",
            "| 기압 = 1015\n",
            "| 풍향 = 70\n",
            "| 풍속 = 1.54\n",
            "\n"
          ]
        }
      ],
      "source": [
        "key= 'cdf3410b0e1f5964a99c79cf488ef400'\n",
        "cities = ['Seoul','Tokyo','New York']\n",
        "\n",
        "for city in cities:\n",
        "    url = 'http://api.openweathermap.org/data/2.5/weather?'\n",
        "    params = {'lang' : 'kr' , 'appid' : key,'q':city,'units':'metric' }\n",
        "    response = requests.get(url, params=params).text\n",
        "    data = json.loads(response)\n",
        "    print(\"+ 도시 =\", data[\"name\"])\n",
        "    print(\"| 날씨 =\", data[\"weather\"][0][\"description\"])\n",
        "    print(\"| 최저 기온 =\", data[\"main\"][\"temp_min\"])\n",
        "    print(\"| 최고 기온 =\", data[\"main\"][\"temp_max\"])\n",
        "    print(\"| 습도 =\", data[\"main\"][\"humidity\"])\n",
        "    print(\"| 기압 =\", data[\"main\"][\"pressure\"])\n",
        "    print(\"| 풍향 =\", data[\"wind\"][\"deg\"])\n",
        "    print(\"| 풍속 =\", data[\"wind\"][\"speed\"])\n",
        "    print(\"\")"
      ]
    },
    {
      "cell_type": "markdown",
      "metadata": {
        "id": "22PR-GtZJNVa"
      },
      "source": [
        "## 공공데이터 포털"
      ]
    }
  ],
  "metadata": {
    "kernelspec": {
      "display_name": "Python 3 (ipykernel)",
      "language": "python",
      "name": "python3"
    },
    "language_info": {
      "codemirror_mode": {
        "name": "ipython",
        "version": 3
      },
      "file_extension": ".py",
      "mimetype": "text/x-python",
      "name": "python",
      "nbconvert_exporter": "python",
      "pygments_lexer": "ipython3",
      "version": "3.8.13"
    },
    "colab": {
      "provenance": [],
      "toc_visible": true
    }
  },
  "nbformat": 4,
  "nbformat_minor": 0
}