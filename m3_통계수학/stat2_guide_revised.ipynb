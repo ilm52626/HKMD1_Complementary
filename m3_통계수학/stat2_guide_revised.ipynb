{
  "cells": [
    {
      "cell_type": "markdown",
      "metadata": {
        "id": "eILRHz77OgCR"
      },
      "source": [
        "# 추측통계\n",
        "\n",
        "우리는 데이터를 분석하거나 모델링을 할 때, 모든 데이터를 수집하지 못하고 일부 데이터만을 수집해야 하는 경우가 많습니다. 이런 경우, 전체 데이터를 대표할 수 있는 통계량(예: 평균, 표준편차 등)을 계산하여 이를 기반으로 모델링이나 예측을 수행할 수 있습니다.\n",
        "\n",
        "하지만, 일부 데이터만을 수집하게 되면 그 데이터가 모집단(population)을 대표하는 것인지 확실하지 않습니다. \n",
        "\n",
        "**추측통계**는 이러한 불확실성을 고려한 통계적 추정 방법입니다. 추측통계는 샘플 데이터를 기반으로 모집단의 특성을 추정하고, 이 추정 결과의 신뢰도를 파악하기 위한 방법입니다.\n",
        "\n",
        "예를 들어, 어떤 음식점에서 매일 판매되는 음식의 가격을 조사하기 위해 1주일 동안 매일 10개씩 음식 가격을 조사하였다고 가정해봅시다. 하지만, 실제 음식 가격은 매일 조사한 값들만으로는 확실하게 파악하기 어렵습니다. 이런 경우, 추측통계를 사용하여 해당 음식점의 전체 음식 가격 분포를 추정하고, 이를 기반으로 음식 가격의 평균값, 분산 등을 계산할 수 있습니다.\n",
        "\n",
        "따라서 추측통계는 모집단의 모든 데이터를 수집하는 것이 어려울 때, 샘플 데이터를 기반으로 모집단의 특성을 추정하고, 이 추정 결과의 신뢰도를 파악하는 데에 매우 유용한 통계적 방법입니다."
      ]
    },
    {
      "cell_type": "code",
      "execution_count": null,
      "metadata": {
        "id": "UiHRowr7OgCT",
        "outputId": "3d235db6-33b4-4e67-89fe-4ebd1a058bf4"
      },
      "outputs": [
        {
          "data": {
            "text/plain": [
              "array([76, 55, 80, 80, 74, 61, 81, 76, 23, 80], dtype=int64)"
            ]
          },
          "execution_count": 4,
          "metadata": {},
          "output_type": "execute_result"
        }
      ],
      "source": [
        "# 모집단과 표본\n",
        "# 표본의 추출방법\n",
        "\n",
        "import numpy as np\n",
        "import pandas as pd\n",
        "import matplotlib.pyplot as plt\n",
        "\n",
        "df = pd.read_csv('./data/ch4_scores400.csv')\n",
        "df.shape\n",
        "scores = np.array(df.score)\n",
        "scores[:10]"
      ]
    },
    {
      "cell_type": "code",
      "execution_count": null,
      "metadata": {
        "id": "ZW75FXIIOgCU",
        "outputId": "fc3b4e7a-0bde-4bfd-96b1-f7acc15a93c5"
      },
      "outputs": [
        {
          "data": {
            "text/plain": [
              "array([2, 1, 3])"
            ]
          },
          "execution_count": 19,
          "metadata": {},
          "output_type": "execute_result"
        }
      ],
      "source": [
        "np.random.choice([1,2,3],3, replace=False) # 중복 방지"
      ]
    },
    {
      "cell_type": "code",
      "execution_count": null,
      "metadata": {
        "id": "Ew5z1v4NOgCV",
        "outputId": "c948a131-1e95-4d83-f426-7fd12558c790"
      },
      "outputs": [
        {
          "name": "stdout",
          "output_type": "stream",
          "text": [
            "[3 2 3 5 3 3 3 2 3 3]\n"
          ]
        }
      ],
      "source": [
        "data = np.array([1,2,3,4,5])\n",
        "p = [0.1,0.2,0.4,0.2,0.1]\n",
        "sample = np.random.choice(data,size=10,replace=True,p=p) # p는 선택될 확률을 지정\n",
        "print(sample)"
      ]
    },
    {
      "cell_type": "code",
      "execution_count": null,
      "metadata": {
        "id": "NcTzAvc_OgCV",
        "outputId": "ef6660c3-70fb-47fa-986f-1670fb3205c4"
      },
      "outputs": [
        {
          "data": {
            "text/plain": [
              "array([49, 60, 72, 86, 52, 61, 77, 91, 80, 56, 69, 67, 90, 56, 75, 79, 60,\n",
              "       79, 68, 81], dtype=int64)"
            ]
          },
          "execution_count": 30,
          "metadata": {},
          "output_type": "execute_result"
        }
      ],
      "source": [
        "np.random.seed(0)\n",
        "sample = np.random.choice(scores, 20)\n",
        "sample"
      ]
    },
    {
      "cell_type": "code",
      "execution_count": null,
      "metadata": {
        "id": "dMElKT1BOgCV",
        "outputId": "79bc4e25-410d-4e01-f775-47ab8a7f2e8d"
      },
      "outputs": [
        {
          "data": {
            "text/plain": [
              "70.4"
            ]
          },
          "execution_count": 31,
          "metadata": {},
          "output_type": "execute_result"
        }
      ],
      "source": [
        "sample.mean()"
      ]
    },
    {
      "cell_type": "code",
      "execution_count": null,
      "metadata": {
        "id": "VblPfSMFOgCV",
        "outputId": "16146175-5cf9-437e-c3a6-d6765962beca"
      },
      "outputs": [
        {
          "data": {
            "text/plain": [
              "69.53"
            ]
          },
          "execution_count": 32,
          "metadata": {},
          "output_type": "execute_result"
        }
      ],
      "source": [
        "scores.mean()"
      ]
    },
    {
      "cell_type": "code",
      "execution_count": null,
      "metadata": {
        "id": "0BjgOx4hOgCW",
        "outputId": "301c3e0f-f8ca-4948-a481-4ce7fa7ba97a"
      },
      "outputs": [
        {
          "name": "stdout",
          "output_type": "stream",
          "text": [
            "[56 55 79 91 86 79 83 55 85 76 81 57 77 99 61 57 81 73 59 59]\n",
            "1번째 무작위 추출로 얻은 표본평균 72.45 \n",
            "\n",
            "[80 50 85 86 85 59 72 58 31 60 56 64 49 88 66 63 63 47 67 45]\n",
            "2번째 무작위 추출로 얻은 표본평균 63.7 \n",
            "\n",
            "[31 55 77 61 54 57 72 46 52 76 92 63 63 80 94 70 76 61 80 61]\n",
            "3번째 무작위 추출로 얻은 표본평균 66.05 \n",
            "\n",
            "[47 60 65 86 65 74 76 60 85 78 73 70 68 86 58 74 67 67 83 92]\n",
            "4번째 무작위 추출로 얻은 표본평균 71.7 \n",
            "\n",
            "[54 73 92 81 87 56 96 57 93 67 90 54 90 75 46 80 63 57 78 94]\n",
            "5번째 무작위 추출로 얻은 표본평균 74.15 \n",
            "\n"
          ]
        }
      ],
      "source": [
        "for i in range(5):\n",
        "    sample = np.random.choice(scores,20)\n",
        "    print(sample)\n",
        "    print(f'{i+1}번째 무작위 추출로 얻은 표본평균', sample.mean(),'\\n')"
      ]
    },
    {
      "cell_type": "code",
      "execution_count": null,
      "metadata": {
        "id": "uT1kJGqBOgCW",
        "outputId": "e1db0f10-96e8-4531-c583-4d996ec103d8"
      },
      "outputs": [
        {
          "data": {
            "text/plain": [
              "array([4, 6, 1, 4, 3, 2, 3, 4, 4, 5, 4, 5, 3, 6, 1, 5, 4, 5, 2, 3, 6, 6,\n",
              "       4, 5, 6, 6, 2, 1, 3, 6, 2, 4, 6, 5, 5, 4, 5, 6, 1, 6, 6, 6, 3, 6,\n",
              "       2, 4, 6, 4, 4, 2, 1, 5, 3, 3, 5, 2, 5, 3, 5, 5, 2, 4, 5, 4, 2, 5,\n",
              "       5, 5, 6, 5, 6, 2, 2, 6, 4, 3, 6, 4, 6, 6, 6, 5, 6, 4, 3, 6, 4, 6,\n",
              "       5, 5, 2, 6, 4, 5, 4, 3, 6, 5, 1, 5])"
            ]
          },
          "execution_count": 58,
          "metadata": {},
          "output_type": "execute_result"
        }
      ],
      "source": [
        "dice = [1,2,3,4,5,6]\n",
        "prob = [1/21,2/21,3/21,4/21,5/21,6/21]\n",
        "\n",
        "np.random.seed(1)\n",
        "num_trial = 100\n",
        "sample = np.random.choice(dice ,num_trial, p=prob)\n",
        "sample"
      ]
    },
    {
      "cell_type": "code",
      "execution_count": null,
      "metadata": {
        "id": "iiZQLeF4OgCW",
        "outputId": "8171b63f-2ea4-46f2-83f2-89ba8bb822f3"
      },
      "outputs": [
        {
          "name": "stdout",
          "output_type": "stream",
          "text": [
            "[ 6 12 12 20 24 26] \n",
            "\n"
          ]
        },
        {
          "data": {
            "text/html": [
              "<div>\n",
              "<style scoped>\n",
              "    .dataframe tbody tr th:only-of-type {\n",
              "        vertical-align: middle;\n",
              "    }\n",
              "\n",
              "    .dataframe tbody tr th {\n",
              "        vertical-align: top;\n",
              "    }\n",
              "\n",
              "    .dataframe thead th {\n",
              "        text-align: right;\n",
              "    }\n",
              "</style>\n",
              "<table border=\"1\" class=\"dataframe\">\n",
              "  <thead>\n",
              "    <tr style=\"text-align: right;\">\n",
              "      <th></th>\n",
              "      <th>frequency</th>\n",
              "      <th>relative frequency</th>\n",
              "    </tr>\n",
              "    <tr>\n",
              "      <th>dice</th>\n",
              "      <th></th>\n",
              "      <th></th>\n",
              "    </tr>\n",
              "  </thead>\n",
              "  <tbody>\n",
              "    <tr>\n",
              "      <th>1</th>\n",
              "      <td>6</td>\n",
              "      <td>0.06</td>\n",
              "    </tr>\n",
              "    <tr>\n",
              "      <th>2</th>\n",
              "      <td>12</td>\n",
              "      <td>0.12</td>\n",
              "    </tr>\n",
              "    <tr>\n",
              "      <th>3</th>\n",
              "      <td>12</td>\n",
              "      <td>0.12</td>\n",
              "    </tr>\n",
              "    <tr>\n",
              "      <th>4</th>\n",
              "      <td>20</td>\n",
              "      <td>0.20</td>\n",
              "    </tr>\n",
              "    <tr>\n",
              "      <th>5</th>\n",
              "      <td>24</td>\n",
              "      <td>0.24</td>\n",
              "    </tr>\n",
              "    <tr>\n",
              "      <th>6</th>\n",
              "      <td>26</td>\n",
              "      <td>0.26</td>\n",
              "    </tr>\n",
              "  </tbody>\n",
              "</table>\n",
              "</div>"
            ],
            "text/plain": [
              "      frequency  relative frequency\n",
              "dice                               \n",
              "1             6                0.06\n",
              "2            12                0.12\n",
              "3            12                0.12\n",
              "4            20                0.20\n",
              "5            24                0.24\n",
              "6            26                0.26"
            ]
          },
          "execution_count": 60,
          "metadata": {},
          "output_type": "execute_result"
        }
      ],
      "source": [
        "freq, _ = np.histogram(sample,bins=6,range=(1,7))\n",
        "print(freq,'\\n')\n",
        "rdf = pd.DataFrame({'frequency':freq,\n",
        "                   'relative frequency':freq/num_trial},\n",
        "                  index=pd.Index(np.arange(1,7),name='dice'))\n",
        "rdf"
      ]
    },
    {
      "cell_type": "code",
      "execution_count": null,
      "metadata": {
        "id": "WtfbIgzCOgCX",
        "outputId": "3cd8b4ff-b013-4b83-c2fb-35f074332dcc"
      },
      "outputs": [
        {
          "data": {
            "image/png": "[encoded data removed]",
            "text/plain": [
              "<Figure size 576x432 with 1 Axes>"
            ]
          },
          "metadata": {
            "needs_background": "light"
          },
          "output_type": "display_data"
        }
      ],
      "source": [
        "# 100번 시행하여 얻은 눈의 상대도수로부터 추측된 확률분포와 실제 확률분포 사이에는 차이 발생\n",
        "np.linspace(1.5,6.5,6)\n",
        "np.random.seed(1)\n",
        "num_trial=100\n",
        "sample = np.random.choice(dice ,num_trial, p=prob)\n",
        "\n",
        "plt.figure(figsize=(8,6))\n",
        "plt.hist(sample, bins=6, range=(1,7), density=True, rwidth=0.8)\n",
        "plt.hlines(prob,np.arange(1,7), np.arange(2,8), colors='gray')\n",
        "plt.xticks(np.linspace(1.5,6.5,6),np.arange(1,7)) # x, x_labels\n",
        "plt.xlabel('dice')\n",
        "plt.ylabel('relative frequency')\n",
        "plt.show()"
      ]
    },
    {
      "cell_type": "code",
      "execution_count": null,
      "metadata": {
        "id": "89vESoY9OgCX",
        "outputId": "17b66992-7622-43ba-efa7-d1fb9d13ac4a"
      },
      "outputs": [
        {
          "data": {
            "image/png": "[encoded data removed]",
            "text/plain": [
              "<Figure size 576x432 with 1 Axes>"
            ]
          },
          "metadata": {
            "needs_background": "light"
          },
          "output_type": "display_data"
        }
      ],
      "source": [
        "# 1000000번 시행하여 얻은 눈의 상대도수로부터 추측된 확률분포는 실제 확률분포로 근접\n",
        "# 시행 횟수를 늘리면 상대도수는 확률분포로 수렴된다.\n",
        "np.linspace(1.5,6.5,6)\n",
        "np.random.seed(1)\n",
        "num_trial=1000000\n",
        "sample = np.random.choice(dice ,num_trial, p=prob)\n",
        "\n",
        "plt.figure(figsize=(8,6))\n",
        "plt.hist(sample, bins=6, range=(1,7), density=True, rwidth=0.8)\n",
        "plt.hlines(prob,np.arange(1,7), np.arange(2,8), colors='gray')\n",
        "plt.xticks(np.linspace(1.5,6.5,6),np.arange(1,7)) # x, x_labels\n",
        "plt.xlabel('dice')\n",
        "plt.ylabel('relative frequency')\n",
        "plt.show()"
      ]
    },
    {
      "cell_type": "code",
      "execution_count": null,
      "metadata": {
        "id": "1w1QyHsDOgCX",
        "outputId": "6d9d0aaa-4324-449c-dfa1-3f34168bddf2"
      },
      "outputs": [
        {
          "data": {
            "image/png": "[encoded data removed]",
            "text/plain": [
              "<Figure size 432x288 with 1 Axes>"
            ]
          },
          "metadata": {
            "needs_background": "light"
          },
          "output_type": "display_data"
        }
      ],
      "source": [
        "import numpy as np\n",
        "import pandas as pd\n",
        "import seaborn as sns\n",
        "import matplotlib.pyplot as plt\n",
        "\n",
        "df = pd.read_csv('./data/ch4_scores400.csv')\n",
        "df.shape\n",
        "scores = np.array(df.score)\n",
        "sns.histplot(scores,kde=True)\n",
        "plt.show()"
      ]
    },
    {
      "cell_type": "code",
      "execution_count": null,
      "metadata": {
        "id": "u4GfPelROgCX",
        "outputId": "10d1ce52-14fd-4c51-cf82-b69e4d26140f"
      },
      "outputs": [
        {
          "data": {
            "text/plain": [
              "(400,)"
            ]
          },
          "execution_count": 73,
          "metadata": {},
          "output_type": "execute_result"
        }
      ],
      "source": [
        "scores.shape"
      ]
    },
    {
      "cell_type": "code",
      "execution_count": null,
      "metadata": {
        "id": "H5VTHlgkOgCX",
        "outputId": "bbf4a646-f550-46c8-943d-4491f6fa3ec8"
      },
      "outputs": [
        {
          "data": {
            "image/png": "[encoded data removed]",
            "text/plain": [
              "<Figure size 720x432 with 1 Axes>"
            ]
          },
          "metadata": {
            "needs_background": "light"
          },
          "output_type": "display_data"
        }
      ],
      "source": [
        "# 표본평균은 모평균을 중심으로 분포하는 것을 확인\n",
        "# 무작위 추출에 의한 표본평균으로 모평균을 추측할 수 있는 근거가 된다.\n",
        "sample_means = [np.random.choice(scores,20).mean() for _ in range(10000)]\n",
        "len(sample_means)\n",
        "\n",
        "fig = plt.figure(figsize=(10,6))\n",
        "plt.hist(sample_means, bins=100, range=(0,100), density=True)\n",
        "# 모평균을 세로선으로 표시\n",
        "plt.vlines(np.mean(scores),0,1,'yellow')\n",
        "plt.axis([50,90,0,0.13])\n",
        "plt.xlabel('score')\n",
        "plt.ylabel('relative frequency')\n",
        "plt.show()"
      ]
    },
    {
      "cell_type": "markdown",
      "source": [
        "## 모집단 분포와 표본분포\n",
        "\n",
        "한 마을에 살고 있는 사람들의 키를 조사하려고 한다고 가정해봅시다. 이때 모든 사람의 키를 측정하려면 시간과 비용이 많이 들기 때문에, 일부 사람들의 키만을 측정하는 것이 일반적입니다. 이렇게 측정된 일부 사람들의 키를 바탕으로, 전체 사람들의 키를 추정하는 것이 표본조사입니다.\n",
        "\n",
        "하지만 이렇게 측정된 일부 사람들의 키만 가지고 전체 사람들의 키를 추정하는 것은 불확실성이 큽니다. 그렇기 때문에 우리는 이 일부 사람들의 키를 뽑을 때, 랜덤하게 뽑는 것이 중요합니다. 이렇게 랜덤하게 뽑은 일부 사람들의 키를 모아서 만든 키 분포를 표본분포라고 합니다.\n",
        "\n",
        "이 표본분포에서는 키가 어떻게 분포하는지를 알 수 있습니다. 그러나 이것만으로는 모든 사람의 키를 정확하게 추정할 수는 없습니다. 따라서 이 표본분포에서 얻은 정보를 모집단 분포와 비교하여, 모집단 분포에서의 키 분포를 예측합니다.\n",
        "\n",
        "모집단 분포는 전체 사람들의 키 분포를 의미합니다. 이것을 정확하게 알기 위해서는 전체 사람들의 키를 모두 측정해야 합니다. 하지만 그렇게 하지 않고도, 표본분포에서 얻은 정보를 토대로 모집단 분포를 추정할 수 있습니다.\n",
        "\n",
        "따라서, 표본분포는 일부 데이터를 기반으로 만들어진 것이고, 모집단 분포는 전체 데이터를 기반으로 만들어진 것입니다. 표본분포를 이용하여 모집단 분포를 추정할 수 있기 때문에, 우리는 일부 데이터에서 전체 데이터를 추론할 수 있게 되는 것입니다.\n",
        "\n",
        "[주요 용어]\n",
        "\n",
        "- 모집단 (Population): 연구의 대상이 되는 모든 개체들의 집합\n",
        "\n",
        "- 모수 (Parameter): 모집단의 특성을 나타내는 수치로, 평균, 분산, 비율 등이 있음\n",
        "\n",
        "- 표본 (Sample): 모집단에서 선택된 일부 개체들의 집합\n",
        "\n",
        "- 통계량 (Statistic): 샘플에서 구한 통계적 수치로, 샘플평균, 샘플분산, 샘플비율 등이 있음\n",
        "\n",
        "- 중심극한정리 (Central Limit Theorem): 모집단의 분포가 어떤 형태이든지, 충분한 크기의 샘플을 무작위로 추출하면, 샘플평균의 분포는 정규분포를 따르게 됨\n",
        "\n",
        "- 표준오차 (Standard error): 표본평균의 표준편차로, 표본의 크기와 모집단의 분산에 영향을 받음\n",
        "\n",
        "- 신뢰구간 (Confidence interval): 표본통계량이 모집단의 모수를 포함할 확률을 나타내는 구간\n",
        "\n",
        "- 가설검정 (Hypothesis testing): 모집단에 대한 가설을 세우고, 샘플을 통해 가설을 검증하는 통계적 방법\n",
        "\n",
        "\n",
        "\n"
      ],
      "metadata": {
        "id": "h2nRrKpxS8sF"
      }
    },
    {
      "cell_type": "code",
      "source": [
        "import numpy as np\n",
        "\n",
        "# 일부 사람들의 키를 무작위로 측정한 데이터\n",
        "heights = np.array([170, 175, 160, 165, 180])\n",
        "\n",
        "# 표본평균 계산\n",
        "sample_mean = np.mean(heights)\n",
        "print(\"표본평균:\", sample_mean)\n",
        "\n",
        "# 표본표준편차 계산\n",
        "sample_std = np.std(heights, ddof=1)\n",
        "print(\"표본표준편차:\", sample_std)\n"
      ],
      "metadata": {
        "colab": {
          "base_uri": "https://localhost:8080/"
        },
        "id": "yQ6Kfmm8V8hs",
        "outputId": "bc739c9f-44d7-4cd1-f3b7-7560dde3622e"
      },
      "execution_count": 1,
      "outputs": [
        {
          "output_type": "stream",
          "name": "stdout",
          "text": [
            "표본평균: 170.0\n",
            "표본표준편차: 7.905694150420948\n"
          ]
        }
      ]
    },
    {
      "cell_type": "markdown",
      "source": [
        "## 표본 통계량 성질\n",
        "\n",
        "표본통계량 성질이 중요한 이유는 데이터 분석에서 모집단을 전부 조사하는 것이 불가능하기 때문입니다. 대신에, 우리는 모집단에서 일부인 표본을 추출하여 분석하게 됩니다. 이때, 표본이 모집단을 대표하기 위해서는 일정한 성질을 가져야 합니다. \n",
        "\n",
        "\n",
        "\n",
        "\n",
        "\n",
        "\n",
        "[AI 데이터 분석에서 필요한 표본통계량 성질]\n",
        "\n",
        "- 무작위 추출: 표본은 모집단에서 무작위로 추출되어야 합니다. 이는 표본이 모집단을 대표할 수 있는 확률적인 기회를 가지기 위해서 필요합니다.\n",
        "\n",
        "- 큰 표본: 표본의 크기가 충분히 커야 합니다. 이는 표본통계량이 모집단 통계량을 대표할 수 있을 정도로 충분한 정보를 담고 있어야 함을 의미합니다.\n",
        "\n",
        "- 일정한 분산: 표본 내의 데이터들은 모두 동일한 분산을 가지고 있어야 합니다. 이는 표본 내에서 불균일한 분산이 발생하면 통계적 추정이 어려워지기 때문입니다.\n",
        "\n",
        "- 표본평균의 정규성: 표본평균은 중심극한정리에 따라 정규분포를 따르게 됩니다. 따라서, 표본평균을 이용하여 모집단의 평균을 추정할 수 있습니다.\n",
        "\n",
        "- 불편성: 표본통계량은 불편성을 가져야 합니다. 이는 추정량의 기댓값이 모집단의 모수와 일치해야 함을 의미합니다.\n",
        "\n",
        "- 일치성: 표본통계량은 일치성을 가져야 합니다. 이는 표본의 크기가 커짐에 따라 추정량이 모집단 모수에 수렴함을 의미합니다.\n",
        "\n",
        "\n",
        "[표본분산이 분산을 과소평가하는 이유]\n",
        "\n",
        "호수에 살고 있는 물고기들의 몸길이를 모두 측정해보았습니다. 그리고 그들의 몸길이 평균이 4cm인 것을 알게 되었습니다. 이제 샘플링을 통해 몇 마리의 물고기를 뽑아내어 몸길이를 측정하고자 합니다.\n",
        "\n",
        "첫 번째로 뽑은 물고기는 1cm였습니다. 두 번째로 뽑은 물고기는 2cm, 세 번째로 뽑은 물고기는 3cm였습니다. 이렇게 뽑은 세 마리 물고기의 몸길이 평균을 구하면 2cm가 됩니다.\n",
        "\n",
        "하지만 이렇게 구한 분산은 모집단의 평균값을 모르기 때문에 표본평균과의 거리를 계산하여 분산을 구합니다. 따라서 이 경우에는 모집단 평균값이 4cm인데, 표본평균과의 거리를 계산하여 분산을 구하므로 과소평가된 값이 나오게 됩니다.\n",
        "\n",
        "이를 보정하기 위해 불편분산을 사용합니다. 불편분산은 분산을 보정하여 더욱 정확한 값이 나오도록 합니다. 즉, 분산을 구할 때 샘플의 개수 N으로 나누는 것이 아니라 N-1로 나누어 분산을 구합니다.\n",
        "\n",
        "이러한 과정을 거치면 더욱 정확한 분산 값을 구할 수 있으며, 이를 통해 모집단의 분포를 더욱 정확하게 파악할 수 있습니다.\n",
        "\n",
        "- 분산은 '데이터와 평균값의 간의 거리' 이므로 모평균 간의 거리를 계산 : np.sum((fish_data - mu)**2)/N  \n",
        "호수안에 물고기가 7마리 있다. 몸길이 {1,2,3,4,5,6,7}, 모평균 4,  \n",
        "샘플링 3마리 {1,2,3} 표본평균 2  \n",
        "이때 분산은 모평균을 모르기 때문에 표본평균과의 거리를 계산하며 분산을 과소평가 하게된다.\n",
        "- 표본 분산 보다 조금 더 큰 값이 되도록 보정하기 위하여 N 대신 N-1로 나누어 불편분산을 구할 수 있다."
      ],
      "metadata": {
        "id": "EGLJBQONU--C"
      }
    },
    {
      "cell_type": "markdown",
      "metadata": {
        "id": "t0yhfwGAOgCY"
      },
      "source": [
        "##확률론\n",
        "\n",
        "확률론은 불확실성이 존재하는 상황에서 결과의 가능성을 수학적으로 모델링하는 분야입니다. 이를 위해 몇 가지 중요한 개념이 필요합니다. 이 중요한 개념들은 다음과 같습니다:\n",
        "\n",
        "- 실험과 표본 공간: 확률론에서는 특정한 조건에서 일어나는 사건을 실험이라고 하며, 실험에서 가능한 모든 결과의 집합을 표본 공간이라고 합니다.\n",
        "\n",
        "- 사건과 확률: 사건은 표본 공간의 부분집합으로, 일어날 가능성이 있는 결과의 집합을 의미합니다. 확률은 특정한 사건이 일어날 가능성을 나타내는 값으로, 0과 1 사이의 값입니다.\n",
        "\n",
        "- 조건부 확률: 조건부 확률은 특정한 사건이 일어났을 때, 다른 사건이 일어날 확률을 의미합니다. 조건부 확률은 주어진 사건이 일어난 경우에만 적용되며, 이전 확률과는 다른 개념입니다.\n",
        "\n",
        "- 독립성: 두 사건이 독립적이라는 것은, 하나의 사건이 일어나는 것이 다른 사건의 발생 가능성에 영향을 미치지 않는다는 것을 의미합니다. 이러한 경우, 두 사건의 결합 확률은 두 확률의 곱과 같습니다.\n",
        "\n",
        "- 확률분포: 확률분포는 가능한 모든 결과에 대해 각각의 결과가 일어날 확률을 나타내는 함수입니다. 대표적인 예로 이항분포, 정규분포 등이 있습니다.\n",
        "\n",
        "- 기대값: 기대값은 확률분포와 관련되어, 각 결과의 확률과 그 결과의 가치를 곱한 값을 모두 더한 것입니다. 즉, 평균값과 유사한 개념입니다.\n",
        "\n"
      ]
    },
    {
      "cell_type": "markdown",
      "metadata": {
        "id": "U6z3LkCaOgCY"
      },
      "source": [
        "#확률의 빈도주의 관점 vs 베이지안 관점\n",
        "\n",
        "\n",
        "## 예시 1) 어떤 놀이기구가 무서울까\n",
        "\n",
        "빈도주의자는 놀이공원에 가서 같은 놀이기구를 여러 번 타보면서, 어떤 사건이 일어날 빈도를 계산합니다. 예를 들어, 롤러코스터를 타면서 얼마나 많은 사람들이 기구에서 소리를 지르는지, 또는 얼마나 많은 사람들이 엄마와 함께 타는지 등을 조사하면서 확률을 계산합니다.\n",
        "\n",
        "반면에 베이지안은 놀이공원에 가기 전에, 미리 어떤 놀이기구를 탈지, 누구와 함께 탈지 등에 대한 사전 지식을 가지고 있습니다. 그리고, 놀이기구를 타면서 실제로 일어나는 사건을 바탕으로, 이전에 가지고 있던 사전 지식과 결합하여 확률을 계산합니다. 예를 들어, 아이들이 함께 탄다면 두려워할 확률이 높을 것이라는 사전 지식과, 실제로 아이들이 함께 타는 것을 관찰하여, 아이들이 함께 탈 때 두려워할 확률을 추정합니다.\n",
        "\n",
        "이렇게 빈도주의와 베이지안은 확률을 계산하는 방법에서 차이가 있습니다. 빈도주의는 데이터를 반복해서 수집하고, 이를 바탕으로 확률을 계산합니다. 베이지안은 미리 가지고 있는 사전 지식을 바탕으로, 데이터를 수집하고, 이를 결합하여 확률을 계산합니다.\n",
        "\n",
        "놀이공원에서는 빈도주의자가 롤러코스터를 타면서, 소리를 지르는 사람들의 빈도를 조사하고, 이를 바탕으로 다음에 탈 때 소리를 지르는 확률을 계산합니다. 반면에 베이지안은 놀이기구를 타기 전에 누구와 함께 탈지, 두려워할지 등에 대한 사전 지식을 가지고 있습니다. 그리고 놀이기구를 타면서 실제로 일어나는 사건을 바탕으로, 이전에 가지고 있던 사전 지식과 결합하여 놀이기구를 타면서 두려워할 확률 등을 추정합니다.\n",
        "\n",
        "결론적으로, 확률을 이해하는 방법은 빈도주의와 베이지안의 접근 방식 모두 유효합니다. 빈도주의는 데이터를 반복해서 수집하여 확률을 추정하는 방법으로, 실제로 일어난 사건의 빈도를 통해 확률을 추정합니다. 반면에 베이지안은 사전 지식과 데이터를 결합하여 확률을 추정하는 방법으로, 데이터를 수집하기 전에 이미 가지고 있는 사전 지식을 고려합니다.\n",
        "\n",
        "이러한 빈도주의와 베이지안의 차이점은 데이터의 양과 품질에 따라 다를 수 있습니다. 데이터가 많고 품질이 좋은 경우에는 빈도주의가 더욱 적합한 방법일 수 있습니다. 하지만 데이터가 부족하거나 불완전한 경우에는 베이지안이 더 유용할 수 있습니다. 또한, 사전 지식이 중요한 경우에도 베이지안이 더욱 적합합니다.\n",
        "\n"
      ]
    },
    {
      "cell_type": "code",
      "source": [],
      "metadata": {
        "id": "ku8qnrJGXYZC"
      },
      "execution_count": null,
      "outputs": []
    },
    {
      "cell_type": "markdown",
      "source": [
        "\n",
        "## 예시 2) 의사의 실수\n",
        "\n",
        "한 날, 박사님은 자신이 간호사들과 함께 일할 때 얼마나 자주 어떤 종류의 실수를 하는지 궁금해졌습니다. 빈도주의적인 사고로, 그는 100명의 간호사들과 함께 1주일 동안 일했을 때 각각이 어떤 종류의 실수를 몇 번씩 했는지를 관찰했습니다. 그 결과, 각 종류별 실수 발생 빈도를 계산할 수 있게 되었습니다.\n",
        "\n",
        "하지만 그는 이 결과에 만족하지 않았습니다. 그는 이 데이터를 가지고 간호사들이 어떤 종류의 실수를 할 가능성이 있는지, 그리고 다음 주에 같은 상황에서 어떤 종류의 실수가 더 자주 일어날 것인지 예측하고 싶었습니다. 그러므로, 베이지안 관점에서 문제를 접근하기로 결정했습니다.\n",
        "\n",
        "그는 이 문제를 해결하기 위해 먼저 간호사들의 실수 발생 빈도를 사전 지식으로 사용하였습니다. 이 사전 지식을 바탕으로, 다음 주에 같은 상황에서 간호사들이 어떤 종류의 실수를 할 가능성을 계산하였습니다. 그 결과, 어떤 종류의 실수가 일어날 가능성이 높아지거나 낮아졌음을 알 수 있었습니다.\n",
        "\n",
        "이와 같이, 빈도주의적인 사고에서는 확률을 \"반복적인 실험에서 어떤 사건이 일어날 빈도\"로 이해합니다. 반면에, 베이지안적인 사고에서는 확률을 \"사건이 일어날 가능성\"으로 이해하며, 사전 지식과 데이터를 결합하여 모델의 불확실성을 추정합니다.\n",
        "\n",
        "이러한 차이로 인해 빈도주의와 베이지안 방법은 다양한 분야에서 사용됩니다. 예를 들어, 빈도주의 방법은 통계학에서 많이 사용되며, 베이지안 방법은 머신러닝, 자연어 처리, 패턴 인식 등에서 많이 사용됩니다. 따라서, 확률을 이해하는 데 있어서 빈도주의와 베이지안 방법 모두 중요한 역할을 합니다."
      ],
      "metadata": {
        "id": "nBa5wNeRXZA8"
      }
    },
    {
      "cell_type": "code",
      "execution_count": null,
      "metadata": {
        "id": "6zD8oi7HOgCY",
        "outputId": "f4e72e8c-6350-4d2a-d2de-28d8283169b2"
      },
      "outputs": [
        {
          "data": {
            "text/plain": [
              "array([4.63614802, 4.07561579, 4.49919044, 4.14353278, 3.46389867,\n",
              "       3.23401235, 3.95649151, 3.88575285, 5.25531286, 3.62979694])"
            ]
          },
          "execution_count": 81,
          "metadata": {},
          "output_type": "execute_result"
        }
      ],
      "source": [
        "# 평균 4, 표준편차 0.8이 정규분포에서 10개의 샘플 추출\n",
        "\n",
        "from scipy import stats\n",
        "population = stats.norm(loc=4,scale=0.8)\n",
        "population.rvs(size=10)"
      ]
    },
    {
      "cell_type": "code",
      "execution_count": null,
      "metadata": {
        "id": "0iQtsQC6OgCZ",
        "outputId": "4da4143e-d3c6-4265-8c01-eebc7aaa5cf8"
      },
      "outputs": [
        {
          "name": "stdout",
          "output_type": "stream",
          "text": [
            "[0. 0. 0. 0. 0. 0. 0. 0. 0. 0.]\n"
          ]
        },
        {
          "data": {
            "text/plain": [
              "array([4.04301782, 3.89635135, 4.06089018, 4.49045039, 3.87502292,\n",
              "       3.45637803, 4.10411038, 3.98880096, 3.64785895, 3.72440206])"
            ]
          },
          "execution_count": 83,
          "metadata": {},
          "output_type": "execute_result"
        }
      ],
      "source": [
        "sample_mean_array = np.zeros(10000)\n",
        "print(sample_mean_array[:10])\n",
        "for i in range(10000):\n",
        "    sample_mean_array[i] = population.rvs(size=10).mean()\n",
        "sample_mean_array[:10]"
      ]
    },
    {
      "cell_type": "code",
      "execution_count": null,
      "metadata": {
        "id": "4zN25D8FOgCZ",
        "outputId": "bce2fa0e-a3a8-4412-ffa8-894b6db35e70"
      },
      "outputs": [
        {
          "data": {
            "text/plain": [
              "4.0"
            ]
          },
          "execution_count": 85,
          "metadata": {},
          "output_type": "execute_result"
        }
      ],
      "source": [
        "# 표본평균의 평균\n",
        "sample_mean_array.mean().round(2)"
      ]
    },
    {
      "cell_type": "code",
      "execution_count": null,
      "metadata": {
        "id": "oPtjToxKOgCZ",
        "outputId": "330a7af2-0762-4489-8470-e39b17463dc3"
      },
      "outputs": [
        {
          "data": {
            "text/plain": [
              "0.25"
            ]
          },
          "execution_count": 89,
          "metadata": {},
          "output_type": "execute_result"
        }
      ],
      "source": [
        "# 표본평균의 표준편차\n",
        "sample_mean_array.std(ddof=1).round(2)"
      ]
    },
    {
      "cell_type": "code",
      "execution_count": null,
      "metadata": {
        "id": "R0i1cC7cOgCZ",
        "outputId": "f875a26e-4c53-4a4d-9938-e8471d2677b2"
      },
      "outputs": [
        {
          "data": {
            "text/plain": [
              "<matplotlib.axes._subplots.AxesSubplot at 0x1ca327b2be0>"
            ]
          },
          "execution_count": 87,
          "metadata": {},
          "output_type": "execute_result"
        },
        {
          "data": {
            "image/png": "[encoded data removed]",
            "text/plain": [
              "<Figure size 432x288 with 1 Axes>"
            ]
          },
          "metadata": {
            "needs_background": "light"
          },
          "output_type": "display_data"
        }
      ],
      "source": [
        "sns.histplot(sample_mean_array,kde=True)"
      ]
    },
    {
      "cell_type": "code",
      "execution_count": null,
      "metadata": {
        "id": "hMEls_0DOgCZ",
        "outputId": "42798cd6-85f9-4049-8dd3-3b51fedf7c98"
      },
      "outputs": [
        {
          "data": {
            "text/plain": [
              "array([ 10, 110, 210, 310, 410, 510, 610, 710, 810, 910])"
            ]
          },
          "execution_count": 94,
          "metadata": {},
          "output_type": "execute_result"
        }
      ],
      "source": [
        "# 샘플사이즈 변화\n",
        "size_array = np.arange(10,100100,100)\n",
        "size_array[:10]"
      ]
    },
    {
      "cell_type": "code",
      "execution_count": null,
      "metadata": {
        "id": "XUbkA8lTOgCZ",
        "outputId": "e96ea6df-9748-4017-a23d-1eea338af486"
      },
      "outputs": [
        {
          "data": {
            "text/plain": [
              "1001"
            ]
          },
          "execution_count": 92,
          "metadata": {},
          "output_type": "execute_result"
        }
      ],
      "source": [
        "sample_mean_array_size = np.zeros(len(size_array))\n",
        "len(sample_mean_array_size)"
      ]
    },
    {
      "cell_type": "code",
      "execution_count": null,
      "metadata": {
        "id": "mGnbQTxeOgCZ",
        "outputId": "4411c88d-ecf8-425a-cce3-c2c73cc9d0cf"
      },
      "outputs": [
        {
          "data": {
            "text/plain": [
              "array([3.99954467, 4.00115947, 4.00311652, 3.99975072, 3.99989178,\n",
              "       3.99777706, 3.99881193, 3.99936965, 3.99778023, 3.99851887,\n",
              "       3.99990764])"
            ]
          },
          "execution_count": 95,
          "metadata": {},
          "output_type": "execute_result"
        }
      ],
      "source": [
        "# 샘플사이즈를 변화시키면서 표본평균을 도출하는 시뮬레이션\n",
        "np.random.seed(1)\n",
        "for i in range(0,len(size_array)):\n",
        "    sample = population.rvs(size=size_array[i])\n",
        "    sample_mean_array_size[i] = np.mean(sample)\n",
        "sample_mean_array_size[990:]"
      ]
    },
    {
      "cell_type": "code",
      "execution_count": null,
      "metadata": {
        "id": "OZMsom9yOgCZ",
        "outputId": "33844220-38fe-47e0-8e1f-22c903f820c4"
      },
      "outputs": [
        {
          "data": {
            "image/png": "[encoded data removed]",
            "text/plain": [
              "<Figure size 720x432 with 1 Axes>"
            ]
          },
          "metadata": {
            "needs_background": "light"
          },
          "output_type": "display_data"
        }
      ],
      "source": [
        "plt.figure(figsize=(10,6))\n",
        "plt.plot(size_array, sample_mean_array_size, color='b')\n",
        "plt.xlabel('sample size')\n",
        "plt.ylabel('sample mean')\n",
        "plt.show()"
      ]
    },
    {
      "cell_type": "code",
      "execution_count": null,
      "metadata": {
        "id": "-tvKU1TpOgCa",
        "outputId": "bbc13cec-0e04-4644-85ef-c00d294510f4"
      },
      "outputs": [
        {
          "data": {
            "text/plain": [
              "3.9970521353040107"
            ]
          },
          "execution_count": 99,
          "metadata": {},
          "output_type": "execute_result"
        }
      ],
      "source": [
        "# 사용자 함수(표본평균 계산) \n",
        "def cal_sample_mean(size, n_trial):\n",
        "    sample_mean_array = np.zeros(n_trial)\n",
        "    for i in range(n_trial):\n",
        "        sample_mean_array[i] = population.rvs(size=size).mean()\n",
        "    return sample_mean_array\n",
        "np.mean(cal_sample_mean(size=10,n_trial=10000))"
      ]
    },
    {
      "cell_type": "markdown",
      "metadata": {
        "id": "LeWYGS5XOgCa"
      },
      "source": [
        "#### 과제2_0411.\n",
        "상기 사용자 함수를 사용하여 샘플사이즈가 10, 20, 30이고 샘플갯수가 각각 10000개인 3개의 데이터프레임을 생성 후 결합한 후 바이올린 플롯을 그려서 인사이트를 기술하세요.\n"
      ]
    },
    {
      "cell_type": "code",
      "execution_count": null,
      "metadata": {
        "id": "AZkh0pkoOgCa",
        "outputId": "3a1160ad-5187-47e0-b865-d415c0191454"
      },
      "outputs": [
        {
          "data": {
            "text/plain": [
              "0.49867785050179086"
            ]
          },
          "execution_count": 1,
          "metadata": {},
          "output_type": "execute_result"
        }
      ],
      "source": [
        "# 정규분포의 확률밀도 계산\n",
        "\n",
        "import numpy as np\n",
        "import pandas as pd\n",
        "from scipy import stats\n",
        "import matplotlib.pyplot as plt\n",
        "import seaborn as sns\n",
        "\n",
        "stats.norm.pdf(loc=4, scale=0.8, x=4) # probability density function"
      ]
    },
    {
      "cell_type": "code",
      "execution_count": null,
      "metadata": {
        "id": "9WQ4qcmOOgCa",
        "outputId": "118c8e9a-2423-44fe-87f5-0e1de68ffd58"
      },
      "outputs": [
        {
          "data": {
            "image/png": "[encoded data removed]",
            "text/plain": [
              "<Figure size 432x288 with 1 Axes>"
            ]
          },
          "metadata": {
            "needs_background": "light"
          },
          "output_type": "display_data"
        }
      ],
      "source": [
        "x_plot = np.arange(1,7.1,0.1)\n",
        "plt.plot(x_plot,stats.norm.pdf(x=x_plot,loc=4,scale=0.8),color='black')\n",
        "plt.show()"
      ]
    },
    {
      "cell_type": "code",
      "execution_count": null,
      "metadata": {
        "id": "KhdVtABYOgCa",
        "outputId": "37086eb1-5170-4901-afe9-1bb2ded110da"
      },
      "outputs": [
        {
          "data": {
            "text/plain": [
              "0.2283113567362774"
            ]
          },
          "execution_count": 3,
          "metadata": {},
          "output_type": "execute_result"
        }
      ],
      "source": [
        "# Q. 동일 확률밀도 함수에서 x=3일때의 확률을 구하세요.\n",
        "norm_dist= stats.norm(loc=4,scale=0.8)\n",
        "norm_dist.pdf(x=3)"
      ]
    },
    {
      "cell_type": "markdown",
      "metadata": {
        "id": "82xbdNSYOgCa"
      },
      "source": [
        "stats.norm.cdf는 \n",
        "- SciPy 라이브러리에서 제공하는 함수 중 하나로, 정규분포의 누적분포함수(Cumulative Distribution Function, CDF) 값을 계산하는 함수입니다. \n",
        "- 정규분포의 누적분포함수는 특정 값보다 작거나 같은 확률을 나타내는데, 이를 통해 특정 값의 분위수를 계산할 수 있습니다.\n",
        "\n",
        "- stats.norm.cdf(x, loc=0, scale=1) 형태로 사용하며, x는 계산하고자 하는 분위수를 나타내는 값입니다. \n",
        "- loc는 정규분포의 평균값을, scale은 정규분포의 표준편차를 나타냅니다. \n",
        "- loc와 scale은 기본값으로 각각 0과 1이 지정되어 있으며, 이 경우는 표준정규분포를 가정합니다."
      ]
    },
    {
      "cell_type": "code",
      "execution_count": null,
      "metadata": {
        "id": "bP96uf0WOgCa",
        "outputId": "94ab9577-7f53-4d3c-c808-52491900e996"
      },
      "outputs": [
        {
          "data": {
            "image/png": "[encoded data removed]",
            "text/plain": [
              "<Figure size 432x288 with 1 Axes>"
            ]
          },
          "metadata": {
            "needs_background": "light"
          },
          "output_type": "display_data"
        }
      ],
      "source": [
        "# 누적분포함수\n",
        "x_plot = np.arange(1,7.1,0.1)\n",
        "plt.plot(x_plot,stats.norm.cdf(x=x_plot, loc=4, scale=0.8), color='black') # cumulative distribution function\n",
        "plt.show()"
      ]
    },
    {
      "cell_type": "code",
      "execution_count": null,
      "metadata": {
        "id": "0hodwcXiOgCa",
        "outputId": "eea399b5-0878-47b2-9bc9-51b2836cd69a"
      },
      "outputs": [
        {
          "data": {
            "text/plain": [
              "[<matplotlib.lines.Line2D at 0x1f6156821c0>]"
            ]
          },
          "execution_count": 9,
          "metadata": {},
          "output_type": "execute_result"
        },
        {
          "data": {
            "image/png": "[encoded data removed]",
            "text/plain": [
              "<Figure size 432x288 with 1 Axes>"
            ]
          },
          "metadata": {
            "needs_background": "light"
          },
          "output_type": "display_data"
        }
      ],
      "source": [
        "x_plot = np.arange(-4,4,0.1)\n",
        "plt.plot(x_plot,stats.norm.pdf(x=x_plot, loc=0, scale=1), color='black') "
      ]
    },
    {
      "cell_type": "code",
      "execution_count": null,
      "metadata": {
        "id": "LL_SiTY0OgCa",
        "outputId": "46b2ec1f-355e-43aa-c649-f373dc2d7c19"
      },
      "outputs": [
        {
          "data": {
            "text/plain": [
              "0.3989422804014327"
            ]
          },
          "execution_count": 12,
          "metadata": {},
          "output_type": "execute_result"
        }
      ],
      "source": [
        "stats.norm.pdf(x=0)"
      ]
    },
    {
      "cell_type": "code",
      "execution_count": null,
      "metadata": {
        "id": "7uEprDWiOgCa",
        "outputId": "2985db43-540b-4e68-f864-6b32660f8f14"
      },
      "outputs": [
        {
          "data": {
            "text/plain": [
              "[<matplotlib.lines.Line2D at 0x1f6156dd850>]"
            ]
          },
          "execution_count": 10,
          "metadata": {},
          "output_type": "execute_result"
        },
        {
          "data": {
            "image/png": "[encoded data removed]",
            "text/plain": [
              "<Figure size 432x288 with 1 Axes>"
            ]
          },
          "metadata": {
            "needs_background": "light"
          },
          "output_type": "display_data"
        }
      ],
      "source": [
        "x_plot = np.arange(-4,4,0.1)\n",
        "plt.plot(x_plot,stats.norm.cdf(x=x_plot, loc=0, scale=1), color='black') "
      ]
    },
    {
      "cell_type": "code",
      "execution_count": null,
      "metadata": {
        "id": "lfVzFwmmOgCa",
        "outputId": "09c5f80f-0eda-44be-d6e8-13cebba2ffe9"
      },
      "outputs": [
        {
          "data": {
            "text/plain": [
              "0.5"
            ]
          },
          "execution_count": 11,
          "metadata": {},
          "output_type": "execute_result"
        }
      ],
      "source": [
        "# 하측 확률\n",
        "stats.norm.cdf(x=0)"
      ]
    },
    {
      "cell_type": "code",
      "execution_count": null,
      "metadata": {
        "id": "owkYjhzeOgCa",
        "outputId": "18d11413-bf08-4569-9977-fa8c98735e9a"
      },
      "outputs": [
        {
          "data": {
            "text/plain": [
              "0.15865525393145707"
            ]
          },
          "execution_count": 13,
          "metadata": {},
          "output_type": "execute_result"
        }
      ],
      "source": [
        "# Q. 평균이 5, 표준편차가 2인 정규분포에서 3이하의 확률 계산\n",
        "stats.norm.cdf(x = 3, loc = 5, scale = 2)"
      ]
    },
    {
      "cell_type": "code",
      "execution_count": null,
      "metadata": {
        "id": "udd-TSBwOgCb",
        "outputId": "dc6540cc-fb2e-4b43-cbff-f9a9ea2d3268"
      },
      "outputs": [
        {
          "data": {
            "image/png": "[encoded data removed]",
            "text/plain": [
              "<Figure size 432x288 with 1 Axes>"
            ]
          },
          "metadata": {
            "needs_background": "light"
          },
          "output_type": "display_data"
        }
      ],
      "source": [
        "x_plot=np.arange(-1,11,0.1)\n",
        "plt.plot(x_plot,stats.norm.pdf(x=x_plot,loc=5,scale=2),color='black')\n",
        "plt.show()"
      ]
    },
    {
      "cell_type": "code",
      "execution_count": null,
      "metadata": {
        "id": "bBOwJ-pCOgCb",
        "outputId": "f85b4aa4-3861-44ac-cd95-9370f91b6f6f"
      },
      "outputs": [
        {
          "data": {
            "image/png": "[encoded data removed]",
            "text/plain": [
              "<Figure size 432x288 with 1 Axes>"
            ]
          },
          "metadata": {
            "needs_background": "light"
          },
          "output_type": "display_data"
        }
      ],
      "source": [
        "x_plot=np.arange(1,10,0.1)\n",
        "plt.plot(x_plot,stats.norm.cdf(x=x_plot,loc=5,scale=2),color='black')\n",
        "plt.show()"
      ]
    },
    {
      "cell_type": "markdown",
      "metadata": {
        "id": "-Pwf0lt8OgCb"
      },
      "source": [
        "stats.norm.ppf는 \n",
        "- SciPy 라이브러리에서 제공하는 함수 중 하나로, 정규분포의 분위수(Percent Point Function, PPF) 값을 계산하는 함수입니다. \n",
        "- 정규분포의 분위수는 특정 확률을 가지는 값(또는 그보다 작은 값)을 계산할 수 있습니다.\n",
        "- stats.norm.ppf(q, loc=0, scale=1) 형태로 사용하며, q는 계산하고자 하는 확률값을 나타내는 실수입니다. \n",
        "- loc는 정규분포의 평균값을, scale은 정규분포의 표준편차를 나타냅니다. \n",
        "- loc와 scale은 기본값으로 각각 0과 1이 지정되어 있으며, 이 경우는 표준정규분포를 가정합니다."
      ]
    },
    {
      "cell_type": "code",
      "execution_count": null,
      "metadata": {
        "id": "zFLELXg2OgCb",
        "outputId": "79c1c7fd-8c80-45be-a854-e1dff1e82300"
      },
      "outputs": [
        {
          "name": "stdout",
          "output_type": "stream",
          "text": [
            "6.683242467145829\n"
          ]
        }
      ],
      "source": [
        "from scipy.stats import norm\n",
        "x = norm.ppf(0.8,loc=5,scale=2)\n",
        "print(x)"
      ]
    },
    {
      "cell_type": "code",
      "execution_count": null,
      "metadata": {
        "id": "m7ODV760OgCb",
        "outputId": "3e035163-7b00-4756-afe2-c23124710c61"
      },
      "outputs": [
        {
          "name": "stdout",
          "output_type": "stream",
          "text": [
            "4.0\n"
          ]
        }
      ],
      "source": [
        "# Q. 평균 4, 표준편차 0.8이 정규분포에서 확률이 0.5일때의 분위수 값을 계산하세요.\n",
        "from scipy.stats import norm\n",
        "x = norm.ppf(0.5,loc=4,scale=0.8)\n",
        "print(x)"
      ]
    },
    {
      "cell_type": "code",
      "execution_count": null,
      "metadata": {
        "id": "ybCYVGsuOgCb",
        "outputId": "7fbe049b-fefd-4dbe-eba3-3780b4390e3c"
      },
      "outputs": [
        {
          "data": {
            "text/plain": [
              "[<matplotlib.lines.Line2D at 0x1f6158e2850>]"
            ]
          },
          "execution_count": 21,
          "metadata": {},
          "output_type": "execute_result"
        },
        {
          "data": {
            "image/png": "[encoded data removed]",
            "text/plain": [
              "<Figure size 432x288 with 1 Axes>"
            ]
          },
          "metadata": {
            "needs_background": "light"
          },
          "output_type": "display_data"
        }
      ],
      "source": [
        "x_plot = np.arange(1,7.1,0.1)\n",
        "plt.plot(x_plot,stats.norm.cdf(x=x_plot, loc=4, scale=0.8), color='black')"
      ]
    },
    {
      "cell_type": "markdown",
      "metadata": {
        "id": "ceqnbk4yOgCb"
      },
      "source": [
        "#### 자유도\n",
        "- 통계량이란, 특정한 표본에서 계산되는 어떤 수치를 말합니다. 예를 들어, 표본의 평균이나 분산 등이 통계량이 될 수 있습니다. 이때, 표본의 크기가 작아질수록 통계량을 계산할 때, 계산에 사용되는 데이터의 수가 줄어들기 때문에, 계산에 대한 제약이 더욱 커집니다.\n",
        "- 통계량을 계산할 때 자유롭게 값을 지정할 수 있는 정도를 자유도(degree of freedom)라고 합니다. 자유도가 크면 큰 값, 작으면 작은 값이 나올 수 있고, 이에 따라서 추정 결과가 바뀔 수 있습니다.\n",
        "- 자유도란, 통계학에서 모집단의 분포를 추정하거나 가설 검정을 할 때, 적게는 1개, 많게는 여러 개의 표본으로부터 통계량을 계산할 때, 표본의 자유도를 말합니다. 간단하게 말하면, 통계량을 계산할 때 자유롭게 값을 지정할 수 있는 정도를 의미합니다. 이는 분석하고자 하는 문제나 실험의 특성에 따라 달라지며, 모집단의 분산 추정량을 계산할 때 등 다양한 상황에서 사용됩니다.\n",
        "- 어떤 학급의 수학시험에서, 20명의 학생들이 시험을 보았고, 각 학생들의 점수를 알고 있다고 가정해봅시다. 이때, 평균 점수를 계산하기 위해서는 각 학생의 점수를 모두 더한 후, 학생 수로 나누면 됩니다. 이때, 평균 점수를 계산할 때는 자유도가 n-1이 됩니다. 이는 계산에 사용되는 데이터의 수(20)에서 1을 뺀 값이기 때문입니다. 따라서, 평균 점수를 계산할 때, 각 학생의 점수를 자유롭게 지정할 수 있는 정도가 n-1만큼 되는 것입니다.\n",
        "- 이와 같이, 자유도는 계산에 사용되는 데이터의 수에 따라서 결정되며, 데이터의 수가 적을수록 자유도는 작아지게 됩니다. 따라서, 작은 자유도를 가진 경우에는 계산에 대한 제약이 더욱 커지게 되므로, 이를 고려하여 적절한 분석 방법을 선택해야 합니다."
      ]
    },
    {
      "cell_type": "markdown",
      "metadata": {
        "id": "CesqDfktOgCb"
      },
      "source": [
        "## t 분포\n",
        "\n",
        "- 일반적으로 여러 실험을 해보면 데이터가 평균 근처에 많이 분포하고 평균에서 멀어질수록 적게 분포하는 형태를 띠는 정규분포를 띠는 경우가 많다. 그런데 정규분포는 표본의 수가 적으면 신뢰도가 낮아진다.\n",
        "- 신뢰도를 높이기 위하여 표본을 많이 뽑으면 되지만 현실적으로 시간과 비용의 제약으로 한계가 있으며 이에 대한 대응책으로 정규분포보다 한 단계 예측범위가 넓은 분포를 사용하는데 바로 t분포이다.\n",
        "- t분포는 정규분포의 표준정규분포처럼 표준이 되는 그래프는 없으며 대신 표본의 수에 따라서 그래프의 모양이 변하며 표본의 수가 많아질수록 점점 표준정규분포와 비슷해지고 표본의 수가 적어질수록 그래프는 점점 옆으로 퍼진다.\n",
        "- t분포는 확률을 구하는 경우 보다는 신뢰구간 혹은 가설 검정에 주로 사용하는데 특히 표본의 수가 30개 미만일때 정규분포 대신 예측범위가 넓은 t분포를 사용한다. 표본의 수가 30개 이상이면 정규분포와 비슷해지기 때문에 정규분포를 사용하는 것이 바람직하다.\n",
        "- t분포로 신뢰구간을 추정하고 가설검정을 할 때 t값을 알아야 하는데 t값은 x축 좌표이다.\n",
        "- t-값은 t-분포에서의 값으로, 일반적으로 표본 평균과 모집단 평균의 차이를 표준 오차로 나눈 값입니다. t-값은 표본에서 계산된 통계량으로, 이를 바탕으로 모집단의 특성에 대한 가설을 검증하고, 모집단에 대한 추론을 수행\n",
        "- t-값은 해당 표본이 모집단과 얼마나 다른지, 혹은 모집단과 유사한지 등을 파악하는 데 사용됩니다. t-값이 크다는 것은 표본과 모집단이 서로 매우 다르다는 것을 의미하며, 이 경우에는 해당 표본이 모집단을 대표하지 못할 가능성이 높습니다. 반면, t-값이 작다는 것은 표본과 모집단이 서로 유사하다는 것을 의미하며, 이 경우에는 해당 표본이 모집단을 대표할 가능성이 높습니다.\n",
        "-  t-값은 가설 검정에서 중요한 역할을 합니다. 예를 들어, 표본을 사용하여 모집단의 평균이 어떤 값과 차이가 있는지를 검정할 때, t-값을 사용하여 가설 검정을 수행합니다. 이를 통해, 모집단에 대한 가설이 기각되는 경우, 해당 모집단과 표본 간에 차이가 있다는 것을 의미하며, 가설이 채택되는 경우, 해당 모집단과 표본 간에 차이가 없다는 것을 의미합니다.\n",
        "\n",
        "t분포는 \n",
        "- 통계학에서 가설 검정과 신뢰구간 추정에 사용되는 분포입니다. t분포는 정규분포와 유사하지만, 표본의 크기가 작은 경우에도 정확한 검정 결과를 얻을 수 있도록 고안된 분포입니다. 표본의 크기가 커질수록 t분포는 정규분포에 수렴하게 됩니다.\n",
        "- t분포를 사용하는 이유는 크게 두 가지로 나뉩니다. 첫째, 표본의 크기가 작은 경우에도 정확한 검정 결과를 얻을 수 있습니다. 둘째, 모집단의 분산을 알지 못하는 경우에도 검정을 할 수 있습니다. 모집단의 분산을 알지 못할 때는 t분포를 이용하여 검정을 하며, 이 경우에는 검정통계량에 대한 검정력이 낮아질 수 있습니다.\n",
        "- 아래는 t분포를 사용하는 예시입니다.\n",
        "  - 어떤 연구자가 두 가지 신약의 효과를 비교하고자 할 때, 두 신약을 각각 10명의 환자에게 투여하고 그 결과를 비교하였다고 가정해봅시다. 이 경우, 각각의 신약에 대한 효과를 비교하기 위해서는 t-검정(t-test)을 사용할 수 있습니다. t-검정은 두 집단의 평균값이 서로 다른지를 검정하는 방법으로, 검정통계량 t를 계산하여 유의수준(alpha)과 비교하여 검정을 수행합니다. \n",
        "  - 만약 검정결과 t값이 양의 값이라면, 첫 번째 집단의 평균값이 더 크다는 것을 의미하며, 음의 값이라면 두 번째 집단의 평균값이 더 크다는 것을 의미합니다. 검정통계량 t는 자유도(n-1)을 가진 t분포를 따르게 됩니다. 따라서, 이 경우 t분포를 이용하여 검정통계량 t에 대한 유의확률(p-value)을 계산할 수 있습니다.\n",
        "\n",
        "이와 같은 방식으로, t분포를 이용하여 작은 표본의 경우에도 정확한 검정 결과를 얻을 수 있으며, 모집단의 분산을 알지 못하는 경우에도 검정을 할 수 있습니다."
      ]
    },
    {
      "cell_type": "markdown",
      "metadata": {
        "id": "igvcQwGnOgCb"
      },
      "source": [
        "#### 과제1_0417.\n",
        "다음 사례에서 두 가지 신약의 효과를 비교하기 위하여 t검정을 수행하세요.\n",
        "\n",
        "- 어떤 연구자가 두 가지 신약의 효과를 비교하고자 할 때, 두 신약을 각각 10명의 환자에게 투여하고 그 결과를 비교하였다.\n",
        "- X1 = [3, 4, 5, 6, 7, 8, 9, 10, 11, 12], X2 = [2, 3, 4, 5, 6, 7, 8, 9, 10, 11]\n",
        "- 유의수준 0.05\n",
        "\n",
        "귀무가설 : 두 신약의 효과는 차이가 없다(두 집단의 평균값의 차이는 0이다)\n",
        "\n",
        "대립가설 : 두 신약의 효과는 차이가 있다(두 집단의 평균값의 차이는 0이 아니다)"
      ]
    },
    {
      "cell_type": "code",
      "execution_count": null,
      "metadata": {
        "id": "CgiMS_iNOgCb",
        "outputId": "671b3add-c411-4aa8-d6eb-0d5415bacf87"
      },
      "outputs": [
        {
          "name": "stdout",
          "output_type": "stream",
          "text": [
            "검정 결과 : 두 집단의 평균값은 서로 같습니다.\n"
          ]
        }
      ],
      "source": [
        "import numpy as np\n",
        "from scipy.stats import t\n",
        "\n",
        "# X1과 X2의 데이터를 입력합니다.\n",
        "X1 = [3, 4, 5, 6, 7, 8, 9, 10, 11, 12]\n",
        "X2 = [2, 3, 4, 5, 6, 7, 8, 9, 10, 11]\n",
        "\n",
        "# 각 집단의 평균값과 표준편차를 계산합니다.\n",
        "mean_X1 = np.mean(X1)\n",
        "mean_X2 = np.mean(X2)\n",
        "std_X1 = np.std(X1, ddof=1)\n",
        "std_X2 = np.std(X2, ddof=1)\n",
        "\n",
        "# t-검정을 수행하기 위한 변수를 계산합니다.\n",
        "# pooled standard deviation(합동 표준편차)는 t-검정에서 두 집단의 표준편차를 통합하는 방법 중 하나입니다. \n",
        "# 두 집단의 표본 표준편차가 서로 비슷하다는 가정 하에, 두 집단의 표준편차를 통합하여 하나의 표준편차로 계산\n",
        "N1 = len(X1)\n",
        "N2 = len(X2)\n",
        "dof = N1 + N2 - 2\n",
        "pooled_std = np.sqrt(((N1 - 1) * std_X1 ** 2 + (N2 - 1) * std_X2 ** 2) / dof)\n",
        "t_statistic = (mean_X1 - mean_X2) / (pooled_std * np.sqrt(1 / N1 + 1 / N2))\n",
        "\n",
        "# 유의수준을 0.05로 설정하고, 양측 검정을 수행합니다.\n",
        "alpha = 0.05\n",
        "t_critical = t.ppf(1 - alpha / 2, dof)\n",
        "\n",
        "# 검정 결과를 출력합니다.\n",
        "if abs(t_statistic) > t_critical:\n",
        "    print(\"검정 결과 : 두 집단의 평균값은 서로 다릅니다.\")\n",
        "else:\n",
        "    print(\"검정 결과 : 두 집단의 평균값은 서로 같습니다.\")\n"
      ]
    },
    {
      "cell_type": "markdown",
      "metadata": {
        "id": "bSZx82f4OgCb"
      },
      "source": [
        "#### 과제2_0417.\n",
        "위 사례에서 두 가지 신약의 효과를 비교하기 위하여 p값으로 검정을 수행하세요."
      ]
    },
    {
      "cell_type": "code",
      "execution_count": null,
      "metadata": {
        "id": "huZkbxwkOgCb",
        "outputId": "722325b6-601e-4a6d-9e6e-027dd67ab19b"
      },
      "outputs": [
        {
          "name": "stdout",
          "output_type": "stream",
          "text": [
            "검정 결과 : 두 집단의 평균값은 서로 같습니다.\n"
          ]
        }
      ],
      "source": [
        "from scipy.stats import ttest_ind\n",
        "\n",
        "# X1과 X2의 데이터를 입력합니다.\n",
        "X1 = [3, 4, 5, 6, 7, 8, 9, 10, 11, 12]\n",
        "X2 = [2, 3, 4, 5, 6, 7, 8, 9, 10, 11]\n",
        "\n",
        "# t-검정을 수행합니다.\n",
        "t_statistic, p_value = ttest_ind(X1, X2)\n",
        "\n",
        "# 유의수준을 0.05로 설정하고, 양측 검정을 수행했다고 가정합니다.\n",
        "alpha = 0.05\n",
        "\n",
        "# 검정 결과를 출력합니다.\n",
        "if p_value < alpha:\n",
        "    print(\"검정 결과 : 두 집단의 평균값은 서로 다릅니다.\")\n",
        "else:\n",
        "    print(\"검정 결과 : 두 집단의 평균값은 서로 같습니다.\")"
      ]
    },
    {
      "cell_type": "code",
      "execution_count": null,
      "metadata": {
        "id": "J5vQK0mtOgCc",
        "outputId": "6a05035a-2cb7-4c4f-ddf0-0cb4f7d22f10"
      },
      "outputs": [
        {
          "data": {
            "text/plain": [
              "-0.2907009498669058"
            ]
          },
          "execution_count": 2,
          "metadata": {},
          "output_type": "execute_result"
        }
      ],
      "source": [
        "# t-value는 일반적으로 표본 평균과 모집단 평균의 차이를 표준 오차로 나눈 값으로 계산\n",
        "from scipy import stats\n",
        "\n",
        "sample_data = [2.3, 3.5, 1.8, 4.1, 2.7]\n",
        "sample_mean = sum(sample_data) / len(sample_data)  # 표본 평균 계산\n",
        "sample_std = stats.tstd(sample_data)  # 표본 표준편차 계산\n",
        "pop_mean = 3.0  # 모집단 평균 가정\n",
        "t_value = (sample_mean - pop_mean) / (sample_std / len(sample_data)**0.5)\n",
        "t_value"
      ]
    },
    {
      "cell_type": "code",
      "execution_count": null,
      "metadata": {
        "id": "_T-ajpcBOgCc"
      },
      "outputs": [],
      "source": [
        "# t값의 표본분포\n",
        "from scipy import stats\n",
        "import numpy as np\n",
        "np.random.seed(1)\n",
        "t_value_array = np.zeros(10000)\n",
        "norm_dist = stats.norm(loc=4,scale=0.8)\n",
        "for i in range(0,10000):\n",
        "    sample = norm_dist.rvs(size=10)\n",
        "    sample_mean = np.mean(sample)\n",
        "    sample_std = np.std(sample,ddof=1)\n",
        "    sample_se = sample_std/np.sqrt(len(sample))\n",
        "    t_value_array[i] = (sample_mean - 4)/sample_se"
      ]
    },
    {
      "cell_type": "code",
      "execution_count": null,
      "metadata": {
        "id": "4d_L3_oqOgCc",
        "outputId": "d1721edb-de3f-4229-b059-b9415f4178ce"
      },
      "outputs": [
        {
          "data": {
            "text/plain": [
              "<matplotlib.axes._subplots.AxesSubplot at 0x2330c105220>"
            ]
          },
          "execution_count": 8,
          "metadata": {},
          "output_type": "execute_result"
        },
        {
          "data": {
            "image/png": "[encoded data removed]",
            "text/plain": [
              "<Figure size 432x288 with 1 Axes>"
            ]
          },
          "metadata": {
            "needs_background": "light"
          },
          "output_type": "display_data"
        }
      ],
      "source": [
        "import warnings\n",
        "warnings.filterwarnings('ignore')\n",
        "sns.distplot(t_value_array,color='black')"
      ]
    },
    {
      "cell_type": "code",
      "execution_count": null,
      "metadata": {
        "id": "-6hUntvwOgCc",
        "outputId": "054665c5-9519-4bb9-f2f8-4e2abc788792"
      },
      "outputs": [
        {
          "data": {
            "text/plain": [
              "[<matplotlib.lines.Line2D at 0x233117a8790>]"
            ]
          },
          "execution_count": 9,
          "metadata": {},
          "output_type": "execute_result"
        },
        {
          "data": {
            "image/png": "[encoded data removed]",
            "text/plain": [
              "<Figure size 720x432 with 1 Axes>"
            ]
          },
          "metadata": {
            "needs_background": "light"
          },
          "output_type": "display_data"
        }
      ],
      "source": [
        "import matplotlib.pyplot as plt\n",
        "import seaborn as sns\n",
        "plt.figure(figsize=(10,6))\n",
        "sns.distplot(t_value_array,color='black')\n",
        "x = np.arange(-8,8.1,0.1)\n",
        "plt.plot(x,stats.norm.pdf(x=x,loc=0,scale=1),\n",
        "        color='black', linestyle='dotted')"
      ]
    },
    {
      "cell_type": "code",
      "execution_count": null,
      "metadata": {
        "id": "O5Pa4YRYOgCc",
        "outputId": "2038e207-a9e5-4b2a-c875-894382a824c3"
      },
      "outputs": [
        {
          "data": {
            "image/png": "[encoded data removed]",
            "text/plain": [
              "<Figure size 720x432 with 1 Axes>"
            ]
          },
          "metadata": {
            "needs_background": "light"
          },
          "output_type": "display_data"
        }
      ],
      "source": [
        "# 자유도 n이 커짐에 따라 표준정규분포 N(0,1)에 수렴\n",
        "plt.figure(figsize=(10,6))\n",
        "plt.plot(x,stats.norm.pdf(x=x),\n",
        "        color='black',linestyle='dotted')\n",
        "plt.plot(x,stats.t.pdf(x=x,df=5),\n",
        "        color='blue')\n",
        "plt.plot(x,stats.t.pdf(x=x,df=1),\n",
        "        color='red')\n",
        "plt.plot(x,stats.t.pdf(x=x,df=30),\n",
        "        color='gray')\n",
        "plt.show()"
      ]
    },
    {
      "cell_type": "markdown",
      "metadata": {
        "id": "lY4gh4a7OgCc"
      },
      "source": [
        "#### 과제1_0412.\n",
        "pdf, cdf, ppf를 활용하여 확률과 분위수를 구하는 사례를 작성하여 그 결과를 값과 그래프(확률밀도함수, 누적분포함수)로 출력하세요"
      ]
    },
    {
      "cell_type": "markdown",
      "metadata": {
        "id": "PpJiZ8d2OgCc"
      },
      "source": [
        "#### 과제2_0412.\n",
        "t분포의 자유도를 5개로 조정하면서 그래프의 모습이 표준 정규 분포 대비 어떻게 변하는지를 확인할 수 있는 그래프를 출력하세요."
      ]
    },
    {
      "cell_type": "markdown",
      "metadata": {
        "id": "uyBkI8GDOgCc"
      },
      "source": [
        "#### 통계적 추정 : 모수 즉 모집단의 파라미터를 추정\n",
        "- 모집단 분포가 정규분포임을 가정했을 때 모수를 알면 모집단 분포를 추정할 수 있음\n",
        "- 점추정 : 모수를 어느 1개의 값으로 추정하는 방법\n",
        " - 모평균 추정에 표본평균을 사용하는데 표본평균은 불편성과 일치성을 가지고 있는 통계량이기 때문임\n",
        " - 모분산의 점추정값으로 표본에서 계산된 통계량으로 불편분산을 사용\n",
        "- 구간추정 : 추정값이 폭을 가지게 하는 추정 방법. 추정의 폭 계산에는 확률의 개념을 사용\n",
        " - 폭을 가지므로 추정오차를 가미할 수 있으며 추정오차가 작으면 구간 추정의 폭이 좁아짐.\n",
        " - 샘플사이즈가 커져도 구간 추정의 폭은 좁아짐\n",
        "- 신뢰계수(신뢰수준)와 신뢰구간\n",
        " - 신뢰계수란 구간 추정의 폭에 대한 신뢰 정도를 확률로 표현한 것. 95%, 99%\n",
        " - 신뢰구간이란 특정 신뢰계수를 만족하는 구간\n",
        " - 신뢰계수가 클수록 신뢰구간의 폭이 넓어짐\n",
        "- 신뢰한계 : 신뢰구간의 하한값과 상한값\n",
        "- 신뢰구간 계산 : \"(표본평균 - 모평균) / 표준오차\"로 계산한 t값. 구간추정을 할 때는 t분포의 퍼센트포인트 사용\n",
        " - 신뢰계수를 95%라고 했을 때 t분포를 따른다면 2.5% 지점과 97.5% 지점을 계산. \n",
        " - t분포를 따르는 변수가 이 구간에 들어갈 확률은 95%가 됨\n",
        " - 표본의 분산 크기가 커지면 신뢰구간의 폭이 넓어짐\n",
        " - 샘플수가 커지면 자유도가 커지고 표준오차가 작아짐\n",
        " - 신뢰계수가 커질수록 안전해진다고 볼 수 있으며 신뢰구간의 폭이 넓어짐"
      ]
    },
    {
      "cell_type": "markdown",
      "metadata": {
        "id": "eG5U2fikOgCc"
      },
      "source": [
        "예를 들어, 100명의 학생들의 키를 측정하여 표본평균을 계산하였습니다. 이 때, 표본의 크기는 100이며, 표본평균은 170cm입니다. 이러한 데이터를 바탕으로 모집단의 평균을 추정하고자 합니다. 이 때, 신뢰구간을 이용하여 추정값의 신뢰도를 평가할 수 있습니다.\n",
        "\n",
        "먼저, 신뢰수준(confidence level)을 설정합니다. 신뢰수준은 추정값이 구간 내에 존재할 확률로, 일반적으로 95%나 99%로 설정됩니다. 이번 예시에서는 신뢰수준을 95%로 설정하겠습니다.\n",
        "\n",
        "다음으로, 표본의 크기와 분산을 이용하여 표준오차(standard error)를 계산합니다. 표준오차는 표본평균과 모집단 평균의 차이를 추정하는 데 사용되는 지표입니다. 표준오차를 계산하기 위해서는 표본평균의 표준편차(standard deviation)와 표본의 크기가 필요합니다. 이번 예시에서는 표본의 표준편차가 5cm, 표본의 크기가 100명이므로, 표준오차는 다음과 같이 계산됩니다.\n",
        "\n",
        "표준오차 = 5 / sqrt(100) = 0.5\n",
        "\n",
        "마지막으로, 추정값과 신뢰수준, 표준오차를 이용하여 신뢰구간을 계산합니다. 이번 예시에서는 95%의 신뢰수준을 가지고 있으므로, 신뢰구간은 다음과 같이 계산됩니다.\n",
        "\n",
        "신뢰구간 = 추정값 ± (신뢰계수 * 표준오차)\n",
        "= 170 ± (1.96 * 0.5)\n",
        "= (169.02, 170.98)\n",
        "\n",
        "즉, 95%의 신뢰수준으로 모집단의 평균을 추정할 때, 평균은 약 169.02cm부터 170.98cm까지의 범위 내에 존재할 것으로 예상됩니다."
      ]
    },
    {
      "cell_type": "markdown",
      "metadata": {
        "id": "zQDybjv7OgCc"
      },
      "source": [
        "표준오차(standard error)는 표본에서 추출된 통계량이 모집단에서의 실제 값과 얼마나 차이가 나는지를 나타내는 지표입니다. 즉, 표본 평균 등의 통계량이 얼마나 정확한지를 나타내는 값입니다.\n",
        "\n",
        "표준오차는 다음과 같이 계산됩니다.\n",
        "\n",
        "표준오차 = (표준편차 / √n)\n",
        "\n",
        "여기서,\n",
        "\n",
        "표준편차는 표본에서 추출된 값들의 분산의 제곱근입니다.\n",
        "n은 표본의 크기입니다.\n",
        "즉, 표준오차는 표본의 크기가 커질수록 작아지며, 분산이 작을수록 작아지는 값입니다. 또한, 모집단에서 추출된 모든 가능한 표본들을 이용해 표준오차를 계산하면 모평균과의 차이가 가장 작은 값을 얻을 수 있습니다. 따라서, 표준오차는 표본평균 등의 통계량이 얼마나 정확한지를 판단할 때 유용하게 사용됩니다.\n",
        "\n",
        "예를 들어, 키에 대한 조사에서 100명의 표본을 추출하여 평균 키를 계산하였고, 이때 표준편차가 5cm이라면, 이 표본의 평균 키가 모평균에서 얼마나 떨어져 있는지를 나타내는 표준오차는 다음과 같습니다.\n",
        "\n",
        "표준오차 = (5 / √100) = 0.5\n",
        "\n",
        "따라서, 이 표본의 평균 키는 모평균에서 약 0.5cm 정도 떨어져 있다고 해석할 수 있습니다."
      ]
    },
    {
      "cell_type": "code",
      "execution_count": null,
      "metadata": {
        "id": "wqHZ3pF_OgCc",
        "outputId": "9fd95fe1-adb7-4401-8139-143d82e16af4"
      },
      "outputs": [
        {
          "data": {
            "text/html": [
              "<div>\n",
              "<style scoped>\n",
              "    .dataframe tbody tr th:only-of-type {\n",
              "        vertical-align: middle;\n",
              "    }\n",
              "\n",
              "    .dataframe tbody tr th {\n",
              "        vertical-align: top;\n",
              "    }\n",
              "\n",
              "    .dataframe thead th {\n",
              "        text-align: right;\n",
              "    }\n",
              "</style>\n",
              "<table border=\"1\" class=\"dataframe\">\n",
              "  <thead>\n",
              "    <tr style=\"text-align: right;\">\n",
              "      <th></th>\n",
              "      <th>length</th>\n",
              "    </tr>\n",
              "  </thead>\n",
              "  <tbody>\n",
              "    <tr>\n",
              "      <th>0</th>\n",
              "      <td>4.352982</td>\n",
              "    </tr>\n",
              "    <tr>\n",
              "      <th>1</th>\n",
              "      <td>3.735304</td>\n",
              "    </tr>\n",
              "    <tr>\n",
              "      <th>2</th>\n",
              "      <td>5.944617</td>\n",
              "    </tr>\n",
              "    <tr>\n",
              "      <th>3</th>\n",
              "      <td>3.798326</td>\n",
              "    </tr>\n",
              "    <tr>\n",
              "      <th>4</th>\n",
              "      <td>4.087688</td>\n",
              "    </tr>\n",
              "    <tr>\n",
              "      <th>5</th>\n",
              "      <td>5.265985</td>\n",
              "    </tr>\n",
              "    <tr>\n",
              "      <th>6</th>\n",
              "      <td>3.272614</td>\n",
              "    </tr>\n",
              "    <tr>\n",
              "      <th>7</th>\n",
              "      <td>3.526691</td>\n",
              "    </tr>\n",
              "    <tr>\n",
              "      <th>8</th>\n",
              "      <td>4.150083</td>\n",
              "    </tr>\n",
              "    <tr>\n",
              "      <th>9</th>\n",
              "      <td>3.736104</td>\n",
              "    </tr>\n",
              "  </tbody>\n",
              "</table>\n",
              "</div>"
            ],
            "text/plain": [
              "     length\n",
              "0  4.352982\n",
              "1  3.735304\n",
              "2  5.944617\n",
              "3  3.798326\n",
              "4  4.087688\n",
              "5  5.265985\n",
              "6  3.272614\n",
              "7  3.526691\n",
              "8  4.150083\n",
              "9  3.736104"
            ]
          },
          "execution_count": 34,
          "metadata": {},
          "output_type": "execute_result"
        }
      ],
      "source": [
        "df = pd.read_csv('./dataset/5_7_fl.csv')\n",
        "df"
      ]
    },
    {
      "cell_type": "code",
      "execution_count": null,
      "metadata": {
        "id": "wVFjqc1HOgCc",
        "outputId": "af9ccd2f-025a-4101-d38b-563918239cdd"
      },
      "outputs": [
        {
          "data": {
            "text/plain": [
              "4.19"
            ]
          },
          "execution_count": 35,
          "metadata": {},
          "output_type": "execute_result"
        }
      ],
      "source": [
        "# 모평균의 점추정\n",
        "fish = df.length\n",
        "mu = np.mean(fish)\n",
        "round(mu,2)"
      ]
    },
    {
      "cell_type": "code",
      "execution_count": null,
      "metadata": {
        "id": "f98YoV58OgCd",
        "outputId": "fbb250d1-e983-43d9-9ebd-250cc9996114"
      },
      "outputs": [
        {
          "data": {
            "text/plain": [
              "0.68"
            ]
          },
          "execution_count": 36,
          "metadata": {},
          "output_type": "execute_result"
        }
      ],
      "source": [
        "# 모분산의 점추정\n",
        "sigma_2 = np.var(fish,ddof=1)\n",
        "round(sigma_2,2)"
      ]
    },
    {
      "cell_type": "code",
      "execution_count": null,
      "metadata": {
        "id": "9aN3zktbOgCd",
        "outputId": "2e1dd090-2912-424e-89b9-5de5af4abb04"
      },
      "outputs": [
        {
          "data": {
            "text/plain": [
              "0.26"
            ]
          },
          "execution_count": 37,
          "metadata": {},
          "output_type": "execute_result"
        }
      ],
      "source": [
        "# 표준오차\n",
        "sigma = np.std(fish,ddof=1)\n",
        "se = sigma/np.sqrt(len(fish))\n",
        "round(se,2)"
      ]
    },
    {
      "cell_type": "code",
      "execution_count": null,
      "metadata": {
        "id": "NgVftz8yOgCd",
        "outputId": "a94447e8-68cc-47d1-ec3c-027e47768415"
      },
      "outputs": [
        {
          "data": {
            "text/plain": [
              "9"
            ]
          },
          "execution_count": 38,
          "metadata": {},
          "output_type": "execute_result"
        }
      ],
      "source": [
        "df = len(fish) - 1\n",
        "df"
      ]
    },
    {
      "cell_type": "code",
      "execution_count": null,
      "metadata": {
        "id": "hMOd_a7EOgCd",
        "outputId": "c19f6c6b-9845-415f-c714-ce7337b7c321"
      },
      "outputs": [
        {
          "data": {
            "text/plain": [
              "(3.597010056835825, 4.777068592173221)"
            ]
          },
          "execution_count": 39,
          "metadata": {},
          "output_type": "execute_result"
        }
      ],
      "source": [
        "# 신뢰구간 : 신뢰수준 95%\n",
        "interval = stats.t.interval(alpha=0.95, df=df, loc=mu,scale=se)\n",
        "interval"
      ]
    },
    {
      "cell_type": "code",
      "execution_count": null,
      "metadata": {
        "id": "uxUMr0rKOgCd",
        "outputId": "ec01faf4-8619-4800-90f5-3eb64ef5b1f0"
      },
      "outputs": [
        {
          "data": {
            "text/plain": [
              "(-1.7132533521824618, 10.087332001191509)"
            ]
          },
          "execution_count": 40,
          "metadata": {},
          "output_type": "execute_result"
        }
      ],
      "source": [
        "# 표준편차를 10배로 늘려서 신뢰구간 계산\n",
        "se2 = sigma*10/np.sqrt(len(fish))\n",
        "stats.t.interval(alpha=0.95, df=df,loc=mu,scale=se2)"
      ]
    },
    {
      "cell_type": "code",
      "execution_count": null,
      "metadata": {
        "id": "bb21q__bOgCd",
        "outputId": "d0b222e9-31a3-41db-e846-0e0356ad8fd0"
      },
      "outputs": [
        {
          "data": {
            "text/plain": [
              "(4.0233803082774395, 4.350698340731607)"
            ]
          },
          "execution_count": 41,
          "metadata": {},
          "output_type": "execute_result"
        }
      ],
      "source": [
        "# Q. 샘플사이즈를 10배로 늘려서 신뢰구간 계산\n",
        "df2=(len(fish)*10)-1\n",
        "se3=sigma/np.sqrt(len(fish)*10)\n",
        "stats.t.interval(alpha=0.95,df=df2,loc=mu, scale=se3)"
      ]
    },
    {
      "cell_type": "code",
      "execution_count": null,
      "metadata": {
        "id": "A7FZC4EWOgCd",
        "outputId": "fe07dd75-e131-4f79-f197-c69bdfafed5d"
      },
      "outputs": [
        {
          "data": {
            "text/plain": [
              "(3.3393979149413977, 5.034680734067649)"
            ]
          },
          "execution_count": 42,
          "metadata": {},
          "output_type": "execute_result"
        }
      ],
      "source": [
        "# 신뢰수준 95% vs 99%\n",
        "\n",
        "stats.t.interval(alpha=0.99,df=df,loc=mu, scale=se)"
      ]
    },
    {
      "cell_type": "markdown",
      "metadata": {
        "id": "BsXaS1jSOgCd"
      },
      "source": [
        "#### z분포와 t분포에서 신뢰구간 계산 방법의 차이\n",
        "\n",
        "z분포와 t분포는 모집단의 평균을 추정하기 위해 사용되는 확률분포입니다. 하지만, z분포는 모집단의 표준편차를 알고 있을 때, t분포는 모집단의 표준편차를 알지 못할 때 사용됩니다. 따라서, z분포는 큰 표본(일반적으로 30개 이상)에 대해서 사용되며, t분포는 작은 표본에 대해서 사용됩니다.\n",
        "\n",
        "z분포에서 신뢰구간을 계산하는 방법은 다음과 같습니다.\n",
        "\n",
        "신뢰구간 = (표본평균 - (z분포의 임계값 * (표준편차/√n)), 표본평균 + (z분포의 임계값 * (표준편차/√n)))\n",
        "\n",
        "여기서,\n",
        "\n",
        "표본평균은 표본에서 추출된 값들의 평균입니다.\n",
        "z분포는 정규분포를 따르는 모집단에서, 모집단의 분산을 알고 있을 때, 표본의 크기와 신뢰 수준에 따라 사용하는 분포입니다.\n",
        "임계값은 신뢰 수준과 자유도에 따라 달라지는 값을 갖습니다.\n",
        "표준편차는 표본의 분산의 제곱근입니다.\n",
        "n은 표본의 크기입니다.\n",
        "반면, t분포에서 신뢰구간을 계산하는 방법은 다음과 같습니다.\n",
        "\n",
        "신뢰구간 = (표본평균 - (t분포의 임계값 * (표준오차)), 표본평균 + (t분포의 임계값 * (표준오차)))\n",
        "\n",
        "여기서,\n",
        "\n",
        "표본평균은 표본에서 추출된 값들의 평균입니다.\n",
        "t분포는 정규분포를 따르는 모집단에서, 모집단의 분산을 모르고 표본의 크기와 신뢰 수준에 따라 사용하는 분포입니다.\n",
        "임계값은 신뢰 수준과 자유도에 따라 달라지는 값을 갖습니다.\n",
        "표준오차는 표본의 표준편차를 이용해 계산됩니다.\n",
        "즉, t분포에서는 모집단의 분산을 알지 못하기 때문에, 표본의 분산을 이용하여 표준편차를 구합니다."
      ]
    },
    {
      "cell_type": "markdown",
      "metadata": {
        "id": "FE9YlNl0OgCd"
      },
      "source": [
        "#### 과제3_0412.\n",
        "- 크기가 10인 표본 데이터를 생성하고 평균과 표준편차를 구하세요\n",
        "- 신뢰수준을 95%로 설정하고 자유도를 계산하세요.\n",
        "- 신뢰구간을 계산하고 결과를 출력하세요."
      ]
    },
    {
      "cell_type": "code",
      "execution_count": null,
      "metadata": {
        "id": "9sTAcIZQOgCd",
        "outputId": "3714c114-3bcc-45d1-e376-558624bc5080"
      },
      "outputs": [
        {
          "name": "stdout",
          "output_type": "stream",
          "text": [
            "표본 평균: 1.49\n",
            "표본 표준편차: 0.26\n",
            "신뢰구간: 1.30 ~ 1.68\n"
          ]
        }
      ],
      "source": [
        "import numpy as np\n",
        "from scipy.stats import norm\n",
        "from scipy import stats\n",
        "\n",
        "# 표본 데이터 생성\n",
        "data = np.array([1.2, 1.8, 1.6, 1.4, 1.5, 1.7, 1.9, 1.3, 1.1, 1.4])\n",
        "\n",
        "# 표본의 크기\n",
        "n = len(data)\n",
        "\n",
        "# 표본 평균\n",
        "mean = np.mean(data)\n",
        "\n",
        "# 표준 오차\n",
        "std = np.std(data, ddof=1)\n",
        "se = std/np.sqrt(len(data))\n",
        "\n",
        "# 신뢰수준\n",
        "conf_level = 0.95\n",
        "\n",
        "# 자유도\n",
        "df = n - 1\n",
        "\n",
        "# 신뢰구간 계산\n",
        "conf_int = stats.t.interval(alpha=0.95,df=df,loc=mean, scale=se)\n",
        "\n",
        "# 결과 출력\n",
        "print(\"표본 평균: {:.2f}\".format(mean))\n",
        "print(\"표본 표준편차: {:.2f}\".format(std))\n",
        "print(\"신뢰구간: {:.2f} ~ {:.2f}\".format(conf_int[0], conf_int[1]))\n"
      ]
    },
    {
      "cell_type": "code",
      "execution_count": null,
      "metadata": {
        "id": "b8MvcKHpOgCd",
        "outputId": "e01a58c1-d4ee-4be6-a96b-a8cb2b1c215a"
      },
      "outputs": [
        {
          "name": "stdout",
          "output_type": "stream",
          "text": [
            "표본 평균: 1.49\n",
            "표본 표준편차: 0.26\n",
            "신뢰구간: 1.44 ~ 1.54\n"
          ]
        }
      ],
      "source": [
        "# 10배로 샘플 사이즈 확대\n",
        "import numpy as np\n",
        "from scipy.stats import norm\n",
        "\n",
        "# 표본 데이터 생성\n",
        "data = np.array([1.2, 1.8, 1.6, 1.4, 1.5, 1.7, 1.9, 1.3, 1.1, 1.4])\n",
        "\n",
        "# 표본의 크기\n",
        "n = len(data)*10\n",
        "\n",
        "# 표본 평균\n",
        "mean = np.mean(data)\n",
        "\n",
        "# 표준 오차\n",
        "std = np.std(data, ddof=1)\n",
        "se = std/np.sqrt(len(data)*10)\n",
        "\n",
        "# 신뢰수준\n",
        "conf_level = 0.95\n",
        "\n",
        "# 자유도\n",
        "df = n - 1\n",
        "\n",
        "# 신뢰구간 계산\n",
        "conf_int = stats.t.interval(alpha=0.95,df=df,loc=mean, scale=se)\n",
        "\n",
        "# 결과 출력\n",
        "print(\"표본 평균: {:.2f}\".format(mean))\n",
        "print(\"표본 표준편차: {:.2f}\".format(std))\n",
        "print(\"신뢰구간: {:.2f} ~ {:.2f}\".format(conf_int[0], conf_int[1]))"
      ]
    },
    {
      "cell_type": "markdown",
      "metadata": {
        "id": "Ufr_0l51OgCe"
      },
      "source": [
        "#### 과제4_0412.\n",
        "\n",
        "어떤 제품을 생산하는 공장에서 제품의 길이를 측정하여 표본평균과 표본표준편차를 계산했다고 가정한다. 이때 95% 신뢰수준에서 제품의 평균 길이를 추정하기 위하여 아래의 각각의 경우에 적합한 신뢰구간을 계산하세요.\n",
        "- 표본 : [49.6, 51.3, 49.9, 50.2, 49.8, 50.5, 49.7, 50.1, 50.3, 50.0]\n",
        "- 표본의 크기를 100배 확대"
      ]
    },
    {
      "cell_type": "code",
      "execution_count": null,
      "metadata": {
        "id": "1Auvq36vOgCe",
        "outputId": "f65f3d78-08fc-4520-b3dd-3b6f85ea15b8"
      },
      "outputs": [
        {
          "name": "stdout",
          "output_type": "stream",
          "text": [
            "표본 평균: 50.14\n",
            "표본 표준편차: 0.49\n",
            "신뢰구간: 49.79 ~ 50.49\n"
          ]
        }
      ],
      "source": [
        "import numpy as np\n",
        "from scipy.stats import t\n",
        "\n",
        "# 표본 데이터 생성\n",
        "data = np.array([49.6, 51.3, 49.9, 50.2, 49.8, 50.5, 49.7, 50.1, 50.3, 50.0])\n",
        "\n",
        "# 표본의 크기\n",
        "n = len(data)\n",
        "\n",
        "# 표본 평균\n",
        "mean = np.mean(data)\n",
        "\n",
        "# 표준오차\n",
        "std = np.std(data, ddof=1)\n",
        "se = std/np.sqrt(len(data))\n",
        "\n",
        "# 신뢰수준\n",
        "conf_level = 0.95\n",
        "\n",
        "# 자유도\n",
        "df = n - 1\n",
        "\n",
        "# 신뢰구간 계산\n",
        "conf_int = t.interval(conf_level, df, loc=mean, scale=se)\n",
        "\n",
        "# 결과 출력\n",
        "print(\"표본 평균: {:.2f}\".format(mean))\n",
        "print(\"표본 표준편차: {:.2f}\".format(std))\n",
        "print(\"신뢰구간: {:.2f} ~ {:.2f}\".format(conf_int[0], conf_int[1]))\n"
      ]
    },
    {
      "cell_type": "code",
      "execution_count": null,
      "metadata": {
        "id": "61PjFBM4OgCe",
        "outputId": "aa2b944d-7a78-4c6a-cd0e-e7fe8edc88d4"
      },
      "outputs": [
        {
          "name": "stdout",
          "output_type": "stream",
          "text": [
            "표본 평균: 50.14\n",
            "표본 표준편차: 0.49\n",
            "신뢰구간: 50.11 ~ 50.17\n"
          ]
        }
      ],
      "source": [
        "import numpy as np\n",
        "from scipy.stats import t\n",
        "\n",
        "# 표본 데이터 생성\n",
        "data = np.array([49.6, 51.3, 49.9, 50.2, 49.8, 50.5, 49.7, 50.1, 50.3, 50.0])\n",
        "\n",
        "# 표본의 크기\n",
        "n = len(data)*100\n",
        "\n",
        "# 표본 평균\n",
        "mean = np.mean(data)\n",
        "\n",
        "# 표준오차\n",
        "std = np.std(data, ddof=1)\n",
        "se = std/np.sqrt(len(data)*100)\n",
        "\n",
        "# 신뢰수준\n",
        "conf_level = 0.95\n",
        "\n",
        "# 자유도\n",
        "df = n - 1\n",
        "\n",
        "# 신뢰구간 계산\n",
        "conf_int = t.interval(conf_level, df, loc=mean, scale=se)\n",
        "\n",
        "# 결과 출력\n",
        "print(\"표본 평균: {:.2f}\".format(mean))\n",
        "print(\"표본 표준편차: {:.2f}\".format(std))\n",
        "print(\"신뢰구간: {:.2f} ~ {:.2f}\".format(conf_int[0], conf_int[1]))"
      ]
    },
    {
      "cell_type": "markdown",
      "metadata": {
        "id": "ki2fyyioOgCe"
      },
      "source": [
        "신뢰구간을 구할 때, 정규분포와 t분포를 적용하는 방법은 다음과 같습니다.\n",
        "\n",
        "- 모집단의 표준편차를 알고 있는 경우\n",
        "만약 모집단의 표준편차를 알고 있다면, 표본의 크기가 작을 경우에는 t분포를 사용하지만, 표본의 크기가 충분히 크다면 정규분포를 사용하여 신뢰구간을 구할 수 있습니다. 이 때, 신뢰수준(confidence level)에 따라서 z값 또는 t값을 계산하여 신뢰구간을 구합니다.\n",
        "\n",
        "- 모집단의 표준편차를 모르는 경우\n",
        "만약 모집단의 표준편차를 모르는 경우, 표본의 크기가 작은 경우에는 t분포를 사용하여 신뢰구간을 구합니다. 이 때, 신뢰수준과 자유도(degree of freedom)에 따라서 t값을 계산하여 신뢰구간을 구합니다. 자유도는 표본의 크기에서 1을 뺀 값입니다.\n",
        "\n",
        "예를 들어, 표본의 크기가 10인 경우, t분포를 사용하여 신뢰구간을 계산하고, 표본의 크기가 30 이상인 경우에는 정규분포를 사용하여 신뢰구간을 계산하는 것이 일반적입니다."
      ]
    },
    {
      "cell_type": "code",
      "execution_count": null,
      "metadata": {
        "id": "DgH9ttLFOgCe",
        "outputId": "cf59ef4e-a617-478c-ecba-1e2d8c13172a"
      },
      "outputs": [
        {
          "name": "stdout",
          "output_type": "stream",
          "text": [
            "표본 평균: 50.14\n",
            "신뢰구간: 49.83 ~ 50.45\n"
          ]
        }
      ],
      "source": [
        "# 모집단의 표준편차를 알고 있는 경우\n",
        "import numpy as np\n",
        "from scipy.stats import norm, t\n",
        "\n",
        "# 표본 데이터 생성\n",
        "data = np.array([49.6, 51.3, 49.9, 50.2, 49.8, 50.5, 49.7, 50.1, 50.3, 50.0])\n",
        "\n",
        "# 표본의 크기\n",
        "n = len(data)\n",
        "\n",
        "# 표본 평균\n",
        "mean = np.mean(data)\n",
        "\n",
        "# 모집단의 표준편차\n",
        "pop_std = 0.5\n",
        "\n",
        "# 신뢰수준\n",
        "conf_level = 0.95\n",
        "\n",
        "# z값 계산\n",
        "# 정규분포에서 어떤 확률값(누적확률분포)에 해당하는 z-score(표준편차 단위의 값)를 계산\n",
        "z_val = norm.ppf((1 + conf_level) / 2) \n",
        "\n",
        "# 신뢰구간 계산\n",
        "conf_int = (mean - z_val * pop_std / np.sqrt(n), mean + z_val * pop_std / np.sqrt(n))\n",
        "\n",
        "# 결과 출력\n",
        "print(\"표본 평균: {:.2f}\".format(mean))\n",
        "print(\"신뢰구간: {:.2f} ~ {:.2f}\".format(conf_int[0], conf_int[1]))\n"
      ]
    },
    {
      "cell_type": "code",
      "execution_count": null,
      "metadata": {
        "id": "Kg1-AQ33OgCe",
        "outputId": "49bc8cbb-2412-4882-f58d-57ccca8a06a4"
      },
      "outputs": [
        {
          "name": "stdout",
          "output_type": "stream",
          "text": [
            "1.959963984540054\n"
          ]
        }
      ],
      "source": [
        "from scipy.stats import norm\n",
        "\n",
        "# 정규분포에서 95%의 구간을 구하기 위해 z-score를 계산합니다.\n",
        "z = norm.ppf(0.975)\n",
        "\n",
        "# z-score 출력\n",
        "print(z)\n"
      ]
    },
    {
      "cell_type": "code",
      "execution_count": null,
      "metadata": {
        "id": "vrfUqILnOgCe",
        "outputId": "18886b23-de91-414c-a236-be96a950773f"
      },
      "outputs": [
        {
          "name": "stdout",
          "output_type": "stream",
          "text": [
            "표본 평균: 50.14\n",
            "표본 표준편차: 0.49\n",
            "신뢰구간: 49.79 ~ 50.49\n"
          ]
        }
      ],
      "source": [
        "# 모집단의 표준편차를 모르는 경우\n",
        "import numpy as np\n",
        "from scipy.stats import t\n",
        "\n",
        "# 표본 데이터 생성\n",
        "data = np.array([49.6, 51.3, 49.9, 50.2, 49.8, 50.5, 49.7, 50.1, 50.3, 50.0])\n",
        "\n",
        "# 표본의 크기\n",
        "n = len(data)\n",
        "\n",
        "# 표본 평균\n",
        "mean = np.mean(data)\n",
        "\n",
        "# 표본 표준편차\n",
        "std = np.std(data, ddof=1)\n",
        "\n",
        "# 신뢰수준\n",
        "conf_level = 0.95\n",
        "\n",
        "# 자유도\n",
        "df = n - 1\n",
        "\n",
        "# t값 계산\n",
        "# t-분포에서 어떤 확률값(누적확률분포)에 해당하는 t-score(표준편차 단위의 값)를 계산\n",
        "t_val = t.ppf((1 + conf_level) / 2, df)\n",
        "\n",
        "# 신뢰구간 계산\n",
        "conf_int = (mean - t_val * std / np.sqrt(n), mean + t_val * std / np.sqrt(n))\n",
        "\n",
        "# 결과 출력\n",
        "print(\"표본 평균: {:.2f}\".format(mean))\n",
        "print(\"표본 표준편차: {:.2f}\".format(std))\n",
        "print(\"신뢰구간: {:.2f} ~ {:.2f}\".format(conf_int[0], conf_int[1]))\n"
      ]
    },
    {
      "cell_type": "code",
      "execution_count": null,
      "metadata": {
        "id": "J8L-lGStOgCe",
        "outputId": "752c5d50-1de5-4fb7-f1e9-24109c5106bd"
      },
      "outputs": [
        {
          "name": "stdout",
          "output_type": "stream",
          "text": [
            "2.2621571627409915\n"
          ]
        }
      ],
      "source": [
        "from scipy.stats import t\n",
        "\n",
        "# t-분포에서 95%의 구간을 구하기 위해 t-score를 계산합니다.\n",
        "t_score = t.ppf(0.975, 9)\n",
        "\n",
        "# t-score 출력\n",
        "print(t_score)\n"
      ]
    }
  ],
  "metadata": {
    "kernelspec": {
      "display_name": "Python 3",
      "language": "python",
      "name": "python3"
    },
    "language_info": {
      "codemirror_mode": {
        "name": "ipython",
        "version": 3
      },
      "file_extension": ".py",
      "mimetype": "text/x-python",
      "name": "python",
      "nbconvert_exporter": "python",
      "pygments_lexer": "ipython3",
      "version": "3.8.3"
    },
    "colab": {
      "provenance": [],
      "toc_visible": true
    }
  },
  "nbformat": 4,
  "nbformat_minor": 0
}