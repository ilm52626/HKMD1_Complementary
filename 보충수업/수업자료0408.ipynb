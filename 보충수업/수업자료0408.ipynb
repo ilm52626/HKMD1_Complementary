{
  "nbformat": 4,
  "nbformat_minor": 0,
  "metadata": {
    "colab": {
      "provenance": [],
      "authorship_tag": "ABX9TyPrwDXag7ZcRGyFbqvoL2Qz"
    },
    "kernelspec": {
      "name": "python3",
      "display_name": "Python 3"
    },
    "language_info": {
      "name": "python"
    }
  },
  "cells": [
    {
      "cell_type": "markdown",
      "source": [
        "## 1. box plot에 대한 개념\n",
        "\n",
        "Box plot은 데이터 분포를 시각화하는 방법 중 하나로, 데이터의 중앙값, 분포 범위, 이상치를 한눈에 파악할 수 있음\n",
        "\n",
        "- 제1사분위수 (Q1) : 데이터를 크기순으로 정렬했을 때, 1/4 지점에 해당하는 값\n",
        "- 중앙값 (median) : 데이터를 크기순으로 정렬했을 때, 가운데에 위치하는 값\n",
        "- 제3사분위수 (Q3) : 데이터를 크기순으로 정렬했을 때, 3/4 지점에 해당하는 값\n",
        "- IQR (Interquartile Range) : 데이터의 중간값을 기준으로 1사분위수(Q1)와 3사분위수(Q3) 사이의 범위\n",
        "- lower whisker : 1사분위수(Q1)에서 1.5*IQR만큼 떨어진 지점 중 가장 작은 값\n",
        "- upper whisker : 3사분위수(Q3)에서 1.5*IQR만큼 떨어진 지점 중 가장 큰 값\n",
        "- 이상치 : lower whisker보다 작거나, upper whisker보다 큰 값\n",
        "\n",
        "이러한 정보를 바탕으로 box plot은 데이터의 분포 형태를 파악\n",
        "\n"
      ],
      "metadata": {
        "id": "MJUwJ0_mGjYE"
      }
    },
    {
      "cell_type": "code",
      "execution_count": null,
      "metadata": {
        "colab": {
          "base_uri": "https://localhost:8080/",
          "height": 449
        },
        "id": "9_bdgwXxGbO8",
        "outputId": "86a28c57-27bd-417f-bfb9-7c77860f8472"
      },
      "outputs": [
        {
          "output_type": "display_data",
          "data": {
            "text/plain": [
              "<Figure size 640x480 with 1 Axes>"
            ],
            "image/png": "[encoded data removed]"
          },
          "metadata": {}
        }
      ],
      "source": [
        "import seaborn as sns\n",
        "import matplotlib.pyplot as plt\n",
        "\n",
        "# 예시 데이터\n",
        "tips = sns.load_dataset(\"tips\")\n",
        "\n",
        "# box plot 생성\n",
        "sns.boxplot(x=\"day\", y=\"total_bill\", data=tips)\n",
        "\n",
        "# 그래프 출력\n",
        "plt.show()\n"
      ]
    },
    {
      "cell_type": "markdown",
      "source": [
        "## 2. 시각화 라이브러리의 차이점( sns / plt / pandas 용도)\n",
        "\n",
        "- matplotlib.pyplot (plt) : 파이썬에서 가장 기본적으로 사용되는 시각화\n",
        "- seaborn (sns) : 통계적 그래프에 최적\n",
        "- pandas : 데이터프레임 자체적시각화 기능 지원"
      ],
      "metadata": {
        "id": "lnopXrW2G8Tb"
      }
    },
    {
      "cell_type": "markdown",
      "source": [
        "# <AI 학습>\n",
        "## 데이터 전처리 -> 알고리즘에서 어떤 식으로 학습하는지에 대한 논리적 설명(코드X)\n",
        "\n",
        "\n",
        "- 데이터 전처리는 모델이 데이터를 잘 이해하고, 예측하는 데 중요한 역할을 하여 모델의 정확도를 높임. 예를 들어, 성별이나 나이 같은 변수는 모델에서 중요한 역할을 하므로, 해당 변수를 전처리하여 더 정확한 예측을 할 수 있음.\n",
        "- 데이터 전처리는 데이터를 분석 가능한 형태로 가공하는 것을 의미함. 이 과정에서는 결측치 처리, 이상치 처리, 범주화, 인코딩 등의 과정을 거치게 됨."
      ],
      "metadata": {
        "id": "9TX7h0aWHTEz"
      }
    },
    {
      "cell_type": "markdown",
      "source": [
        "**fair가 높을수록 생존률이 높고, sex가 female의 생존률이 높은데, 이 둘을 합쳐 파생 변수를 추가로 전달해 주면 학습에 효과가 더 좋은가?**\n",
        "\n",
        "-> 파생 변수를 추가해주는 것은 모델의 학습에 도움이 될 수 있음. fair와 sex 두 변수를 합쳐 새로운 변수를 생성하여 두 변수 간의 상관관계를 더 잘 반영할 수 있음. 파생변수의 효과는 모델 성능평가 결과로 판단.\n",
        "\n"
      ],
      "metadata": {
        "id": "rDnx-ZzqINbh"
      }
    },
    {
      "cell_type": "markdown",
      "source": [
        "**name 컬럼에서 정보를 뽑았는데, captain 1명이 나왔다. 1명이 학습에 의미가 있는가?**\n",
        "\n",
        "-> 의미 없으므로 컬럼 제거 필요"
      ],
      "metadata": {
        "id": "O2BXDsdwJOZE"
      }
    },
    {
      "cell_type": "markdown",
      "source": [
        "**rev, 목사가 8명이었는데 전원 사망 -> 희생정신? -> 8명이지만 학습에 의미가 있는가?**\n",
        "\n",
        "-> 데이터의 8행은 너무 적은 양의 데이터이므로 학습에 의미가 크게 없으나 전체 학습데이터에 따라 모델이 판단할 것임."
      ],
      "metadata": {
        "id": "GOUCainOJOhV"
      }
    },
    {
      "cell_type": "markdown",
      "source": [
        "# 범주화\n",
        "## 1.범주화가 왜 AI 학습에 좋은가?\n",
        "- 머신러닝 알고리즘은 연속적인 값보다는 범주형 데이터를 다루는 것이 더욱 적합하고 성능이 좋음. \n",
        "- 범주화를 통해 연속적인 값을 몇 개의 범주로 나눌 수 있고 범주형 데이터로 변환되면 머신러닝 모델이 데이터를 더 잘 이해함."
      ],
      "metadata": {
        "id": "IwGvMnzNdRDR"
      }
    },
    {
      "cell_type": "markdown",
      "source": [
        "##2.범주화 tip"
      ],
      "metadata": {
        "id": "QKvb7xe1eEEK"
      }
    },
    {
      "cell_type": "code",
      "source": [
        "# 컬럼끼리 합치는 것 sibsp + parch\n",
        "\n",
        "/# df['family_size'] = df['sibsp'] + df['parch']"
      ],
      "metadata": {
        "id": "-t8pVoOSeKC5"
      },
      "execution_count": null,
      "outputs": []
    },
    {
      "cell_type": "code",
      "source": [
        "# 컬럼 하나를 카테고리화 하는 것 age -> age_cat\n",
        "\n",
        "# 나이(age)를 기준으로 카테고리화하여 age_cat 컬럼 생성\n",
        "# bins = [0, 10, 20, 30, 40, 50, 60, 70, 80, 90, 100]\n",
        "# labels = ['0-10', '10-20', '20-30', '30-40', '40-50', '50-60', '60-70', '70-80', '80-90', '90-100']\n",
        "# df['age_cat'] = pd.cut(df['age'], bins=bins, labels=labels)\n"
      ],
      "metadata": {
        "id": "h4UXY_tRelL8"
      },
      "execution_count": null,
      "outputs": []
    },
    {
      "cell_type": "markdown",
      "source": [
        "범주화 자료들은 타입을 다 category로 바꿔 주어야 하나?\n",
        "나중에 인코딩할 컬럼들의 타입을 먼저 카테고리로 무조건 바꿔 주어야 하나?\n",
        "\n",
        "\n",
        "\n",
        " -> 데이터 타입을 category로 변환하는 것이 메모리를 효율적으로 사용할 수 있음"
      ],
      "metadata": {
        "id": "32qVValNep9K"
      }
    },
    {
      "cell_type": "markdown",
      "source": [
        "##3.레이블 인코딩과 원핫인코딩의 차이, 선택 기준\n",
        "\n",
        "- 레이블 인코딩(Label Encoding) : 카테고리 값을 각각의 고유한 숫자로 변환. ex) 남성을 0, 여성을 1로 인코딩.\n",
        "\n",
        "- 원핫 인코딩(One-Hot Encoding) : 카테고리 값을 이진 벡터로 변환하는 것. ex) 성별을 남성[1,0], 여성[0,1]과 같이 이진 벡터로 변환.\n",
        "\n",
        "- 선택 기준 : 카테고리 값의 개수가 많지 않은 경우에는 레이블 인코딩을 사용하는 것이 효율적. 반면에 카테고리 값의 개수가 많은 경우에는 원핫 인코딩을 사용."
      ],
      "metadata": {
        "id": "86V0-B4WRupa"
      }
    },
    {
      "cell_type": "code",
      "source": [
        "from sklearn.preprocessing import LabelEncoder\n",
        "\n",
        "# 예시 데이터\n",
        "data = ['apple', 'banana', 'cherry']\n",
        "\n",
        "# 레이블 인코딩\n",
        "le = LabelEncoder()\n",
        "le.fit(data)\n",
        "encoded_data = le.transform(data)\n",
        "print(encoded_data)  # [0 1 2]\n"
      ],
      "metadata": {
        "colab": {
          "base_uri": "https://localhost:8080/"
        },
        "id": "U0O6Xri0HUZQ",
        "outputId": "cfd089e0-1c9b-459b-cdc0-fbc16cbaa5c6"
      },
      "execution_count": null,
      "outputs": [
        {
          "output_type": "stream",
          "name": "stdout",
          "text": [
            "[0 1 2]\n"
          ]
        }
      ]
    },
    {
      "cell_type": "code",
      "source": [
        "from sklearn.preprocessing import OneHotEncoder\n",
        "import numpy as np\n",
        "\n",
        "# 예시 데이터\n",
        "data = ['apple', 'banana', 'cherry']\n",
        "\n",
        "# 원핫 인코딩\n",
        "ohe = OneHotEncoder()\n",
        "ohe.fit(np.array(data).reshape(-1, 1))\n",
        "encoded_data = ohe.transform(np.array(data).reshape(-1, 1)).toarray()\n",
        "print(encoded_data)\n"
      ],
      "metadata": {
        "colab": {
          "base_uri": "https://localhost:8080/"
        },
        "id": "wt4S6eLqSLCd",
        "outputId": "aeebdaa0-b02b-45aa-8230-336f44ca23fb"
      },
      "execution_count": null,
      "outputs": [
        {
          "output_type": "stream",
          "name": "stdout",
          "text": [
            "[[1. 0. 0.]\n",
            " [0. 1. 0.]\n",
            " [0. 0. 1.]]\n"
          ]
        }
      ]
    }
  ]
}