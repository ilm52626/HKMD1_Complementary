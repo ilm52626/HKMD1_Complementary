{
  "nbformat": 4,
  "nbformat_minor": 0,
  "metadata": {
    "colab": {
      "provenance": [],
      "toc_visible": true,
      "authorship_tag": "ABX9TyNhGJOWKiqRWs2zF0lQgLtc"
    },
    "kernelspec": {
      "name": "python3",
      "display_name": "Python 3"
    },
    "language_info": {
      "name": "python"
    }
  },
  "cells": [
    {
      "cell_type": "code",
      "source": [
        "import matplotlib as mpl\n",
        "import matplotlib.pylab as plt\n",
        "import numpy as np\n",
        "import scipy as sp\n",
        "import pandas as pd\n",
        "import statsmodels.api as sm\n",
        "import sklearn as sk\n",
        "\n",
        "\n",
        "# 경고 메시지 무시\n",
        "import warnings\n",
        "warnings.filterwarnings('ignore')\n",
        "\n",
        "# 한글폰트 사용 in colab\n",
        "!sudo apt-get install -y fonts-nanum\n",
        "!sudo fc-cache -fv\n",
        "!rm ~/.cache/matplotlib -rf\n",
        "plt.rc('font', family=\"NanumBarunGothic\")\n"
      ],
      "metadata": {
        "colab": {
          "base_uri": "https://localhost:8080/"
        },
        "id": "9_Bh-wsSFH6k",
        "outputId": "a5430fa6-4750-441b-e579-a0f38e705dd8"
      },
      "execution_count": null,
      "outputs": [
        {
          "output_type": "stream",
          "name": "stdout",
          "text": [
            "Reading package lists... Done\n",
            "Building dependency tree       \n",
            "Reading state information... Done\n",
            "fonts-nanum is already the newest version (20180306-3).\n",
            "0 upgraded, 0 newly installed, 0 to remove and 24 not upgraded.\n",
            "/usr/share/fonts: caching, new cache contents: 0 fonts, 1 dirs\n",
            "/usr/share/fonts/truetype: caching, new cache contents: 0 fonts, 3 dirs\n",
            "/usr/share/fonts/truetype/humor-sans: caching, new cache contents: 1 fonts, 0 dirs\n",
            "/usr/share/fonts/truetype/liberation: caching, new cache contents: 16 fonts, 0 dirs\n",
            "/usr/share/fonts/truetype/nanum: caching, new cache contents: 10 fonts, 0 dirs\n",
            "/usr/local/share/fonts: caching, new cache contents: 0 fonts, 0 dirs\n",
            "/root/.local/share/fonts: skipping, no such directory\n",
            "/root/.fonts: skipping, no such directory\n",
            "/usr/share/fonts/truetype: skipping, looped directory detected\n",
            "/usr/share/fonts/truetype/humor-sans: skipping, looped directory detected\n",
            "/usr/share/fonts/truetype/liberation: skipping, looped directory detected\n",
            "/usr/share/fonts/truetype/nanum: skipping, looped directory detected\n",
            "/var/cache/fontconfig: cleaning cache directory\n",
            "/root/.cache/fontconfig: not cleaning non-existent cache directory\n",
            "/root/.fontconfig: not cleaning non-existent cache directory\n",
            "fc-cache: succeeded\n"
          ]
        }
      ]
    },
    {
      "cell_type": "markdown",
      "source": [
        "#선형대수"
      ],
      "metadata": {
        "id": "ciW149hk5sZw"
      }
    },
    {
      "cell_type": "markdown",
      "source": [
        "##내적\n",
        "\n",
        "선형대수에서 내적은 매우 중요한 개념 중 하나입니다. 내적은 두 개의 벡터를 곱하는 연산으로, 두 벡터가 이루는 각도와 크기를 이용하여 값을 계산합니다.\n",
        "\n",
        "어느 날 친구가 나에게 두 개의 화살을 보여주며 \"이 화살들의 유사도가 얼마나 되나요?\"라고 물었습니다. 그러면 나는 두 화살을 살펴보았습니다. 두 화살 모두 길이가 같고, 방향이 약간씩 다르긴 했습니다. 그래서 두 화살을 겹쳐봤습니다. 그런데 두 화살의 방향이 일치하는 부분이 있고, 그렇지 않은 부분이 있었습니다. 이를 벡터로 나타내면, 두 벡터의 크기는 같으며 방향이 약간씩 다른 것입니다.\n",
        "\n",
        "그래서 나는 두 화살 사이의 각도를 측정하기로 했습니다. 그리고 그 각도가 작을수록 두 화살의 유사도가 높다는 결론을 내렸습니다. 이 때 내적을 사용하여 두 화살의 각도를 구할 수 있습니다. 내적은 두 벡터의 크기를 곱한 뒤, 두 벡터가 이루는 각도의 코사인 값으로 나누어 구합니다. 이를 수식으로 나타내면 다음과 같습니다.\n",
        "\n",
        "a · b = ||a|| ||b|| cos(θ)\n",
        "\n",
        "\n",
        "\n",
        "여기서 a와 b는 두 벡터를 나타내며, θ는 두 벡터가 이루는 각도입니다. 이렇게 구한 내적 값은 두 벡터의 유사도를 나타내며, 두 벡터가 평행하면 최대값을 가지고, 수직하면 0을 가지게 됩니다.\n",
        "\n",
        "파이썬 코드로는 다음과 같이 구현할 수 있습니다."
      ],
      "metadata": {
        "id": "746kul8Q5uUW"
      }
    },
    {
      "cell_type": "code",
      "source": [
        "import numpy as np\n",
        "\n",
        "a = [1, 2, 3]\n",
        "b = [4, 5, 6]\n",
        "\n",
        "np.dot(a,b) # 결과: 32\n"
      ],
      "metadata": {
        "colab": {
          "base_uri": "https://localhost:8080/"
        },
        "id": "-VgtQ35V5qtf",
        "outputId": "9204fe5b-8b19-4faa-d201-817d0199ce58"
      },
      "execution_count": null,
      "outputs": [
        {
          "output_type": "execute_result",
          "data": {
            "text/plain": [
              "32"
            ]
          },
          "metadata": {},
          "execution_count": 2
        }
      ]
    },
    {
      "cell_type": "markdown",
      "source": [
        "## 벡터 놈(Norm)\n",
        "\n",
        "네, 선형대수에서 벡터 놈은 매우 중요한 개념 중 하나입니다. 벡터 놈은 벡터의 크기를 나타내는 값으로, 일반적으로 유클리드 놈(Euclidean norm)이라고도 불립니다.\n",
        "\n",
        "어느 날 나는 과자 가게에서 두 가지 종류의 과자를 살펴보았습니다. 첫 번째 과자는 5개의 초콜릿이 들어있는 박스에 들어있었고, 두 번째 과자는 10개의 초콜릿이 들어있는 박스에 들어있었습니다. 그래서 나는 두 가지 과자의 크기를 비교하기 위해, 초콜릿의 개수를 세어 보았습니다. 그리고 첫 번째 과자는 5개, 두 번째 과자는 10개였습니다.\n",
        "\n",
        "그런데, 초콜릿의 개수만으로는 두 과자의 크기를 정확하게 비교하기가 어려웠습니다. 그래서 나는 과자의 크기를 숫자로 나타내는 또 다른 방법을 찾기로 했습니다. 그리고 그 방법이 바로 벡터 놈입니다. 벡터 놈은 벡터의 각 원소들의 제곱합의 제곱근으로 구할 수 있습니다. 이를 수식으로 나타내면 다음과 같습니다.\n",
        "\n",
        "||v|| = √(v₁² + v₂² + ... + vn²)\n",
        "\n",
        "여기서 v는 벡터를 나타내며, v₁, v₂, ..., vn은 각각 벡터 v의 원소입니다. 이렇게 구한 벡터 놈의 값은 벡터의 크기를 나타내며, 원소의 개수와 값의 크기에 상관없이 항상 양의 실수값을 가지게 됩니다.\n"
      ],
      "metadata": {
        "id": "QCHYDOwY_t4_"
      }
    },
    {
      "cell_type": "code",
      "execution_count": null,
      "metadata": {
        "colab": {
          "base_uri": "https://localhost:8080/"
        },
        "id": "dRwnj7FU2bPX",
        "outputId": "7aaa482e-fa9e-43c4-a111-8a40aa12bde6"
      },
      "outputs": [
        {
          "output_type": "stream",
          "name": "stdout",
          "text": [
            "a의 놈:  3.7416573867739413\n",
            "b의 놈:  8.774964387392123\n"
          ]
        }
      ],
      "source": [
        "import numpy as np\n",
        "\n",
        "a = [1, 2, 3]\n",
        "b = [4, 5, 6]\n",
        "\n",
        "a_norm = np.linalg.norm(a)\n",
        "b_norm = np.linalg.norm(b)\n",
        "\n",
        "print(\"a의 놈: \", a_norm)\n",
        "print(\"b의 놈: \", b_norm)\n"
      ]
    },
    {
      "cell_type": "code",
      "source": [
        "# 벡터 a와 b는 각각 두 가지 과자의 크기를 나타내는 벡터입니다.\n",
        "# 각 원소는 초콜릿의 개수를 나타냅니다.\n",
        "a = [5]\n",
        "b = [10]\n",
        "\n",
        "# 벡터 놈을 계산합니다.\n",
        "norm_a = (a[0]**2)**0.5\n",
        "norm_b = (b[0]**2)**0.5\n",
        "\n",
        "# 두 벡터의 크기를 비교합니다.\n",
        "if norm_a > norm_b:\n",
        "    print(\"첫 번째 과자가 더 큽니다.\")\n",
        "elif norm_a < norm_b:\n",
        "    print(\"두 번째 과자가 더 큽니다.\")\n",
        "else:\n",
        "    print(\"두 과자의 크기가 같습니다.\")\n"
      ],
      "metadata": {
        "colab": {
          "base_uri": "https://localhost:8080/"
        },
        "id": "t7exzeyhAd2z",
        "outputId": "66816835-5d60-444d-edbc-da22672ac3bb"
      },
      "execution_count": null,
      "outputs": [
        {
          "output_type": "stream",
          "name": "stdout",
          "text": [
            "두 번째 과자가 더 큽니다.\n"
          ]
        }
      ]
    },
    {
      "cell_type": "markdown",
      "source": [
        "## 행렬식의 스케일과 회전\n",
        "\n",
        "행렬은 크게 스케일(scale)과 회전(rotation) 두 가지 변환을 수행할 수 있습니다. 스케일은 크기를 변환하는 것이고, 회전은 방향을 변환하는 것입니다.\n",
        "\n",
        "스케일 변환은 행렬의 대각성분(diagonal entries)에 따라 크기가 결정됩니다. 예를 들어, 2차원 벡터 [x, y]에 대한 스케일 변환 행렬 S는 다음과 같이 표현됩니다.\n",
        "\n",
        "우선, 행렬식은 행렬의 크기와 회전을 나타내는 값입니다. 행렬식의 값이 양수인 경우, 해당 변환이 양의 방향으로 진행된다는 것을 의미하며, 값이 음수인 경우 해당 변환이 음의 방향으로 진행된다는 것을 의미합니다. 이는 2차원 평면 상에서 물체의 회전 방향을 나타내거나, 3차원 공간에서의 부피가 양의 방향인지 음의 방향인지 등을 판단할 때 사용됩니다.\n",
        "\n",
        "스케일 변환은 객체의 크기를 확대하거나 축소하는 것을 의미합니다. 이때, 스케일 변환은 행렬의 대각선 요소인 스케일링 요소를 사용하여 나타낼 수 있습니다. 예를 들어, 2차원 평면 상의 객체를 x축 방향으로 2배, y축 방향으로 3배로 확대하는 스케일 변환을 수행한다면, 다음과 같은 행렬을 사용합니다.\n",
        "\n",
        "|2 0|\n",
        "\n",
        "|0 3|\n",
        "\n",
        "이때, 이 행렬의 행렬식은 2*3=6이 됩니다. 따라서 스케일 변환 후의 객체는 원래 객체의 부피가 6배가 되는 것입니다.\n",
        "\n",
        "회전 변환은 객체를 회전시키는 변환입니다. 2차원 평면 상에서의 회전 변환은 다음과 같은 행렬을 사용합니다.\n",
        "\n",
        "|cosθ -sinθ|\n",
        "\n",
        "|sinθ cosθ|\n",
        "\n",
        "이때, θ는 회전 각도를 나타내며, cos와 sin은 삼각함수의 값입니다. 예를 들어, 30도만큼 시계방향으로 회전하는 변환을 수행하는 경우, 다음과 같은 행렬을 사용합니다.\n",
        "\n",
        "|cos30 -sin30|\n",
        "\n",
        "|sin30 cos30|\n",
        "\n",
        "이 행렬의 행렬식은 1입니다. 따라서 회전 변환은 객체의 부피를 유지합니다.\n",
        "\n",
        "이러한 스케일 변환과 회전 변환의 개념을 파이썬 코드로 구현해보겠습니다. 아래 코드는 numpy 라이브러리를 사용하여 x축 방향으로 2배, y축 방향으로 3배로 스케일 변환한 뒤 30도만큼 시계방향으로 회전한 결과를 시각화하는 코드입니다."
      ],
      "metadata": {
        "id": "UHam02THRz-d"
      }
    },
    {
      "cell_type": "code",
      "source": [
        "import numpy as np\n",
        "import matplotlib.pyplot as plt\n",
        "\n",
        "# 기준이 되는 정사각형\n",
        "square = np.array([[0, 0], [1, 0], [1, 1], [0, 1], [0, 0]])\n",
        "\n",
        "# 스케일 변환 행렬과 회전 변환 행렬 생성\n",
        "scale_mat = np.array([[2, 0], [0, 3]])  # x축 방향으로 2배, y축 방향으로 3배\n",
        "theta = np.radians(30)  # 30도 회전\n",
        "rotate_mat = np.array([[np.cos(theta), -np.sin(theta)],\n",
        "                       [np.sin(theta), np.cos(theta)]])\n",
        "\n",
        "# 변환된 정사각형 계산\n",
        "transformed_square = square @ scale_mat @ rotate_mat\n",
        "\n",
        "# 그래프 그리기\n",
        "fig, ax = plt.subplots()\n",
        "ax.plot(square[:, 0], square[:, 1], label='original')\n",
        "ax.plot(transformed_square[:, 0], transformed_square[:, 1], label='transformed')\n",
        "ax.set_aspect('equal')\n",
        "ax.legend()\n",
        "plt.show()\n"
      ],
      "metadata": {
        "colab": {
          "base_uri": "https://localhost:8080/",
          "height": 430
        },
        "id": "K9MIvpP1Qbjp",
        "outputId": "25f82e39-b8c4-40a9-9583-add9d853362b"
      },
      "execution_count": null,
      "outputs": [
        {
          "output_type": "display_data",
          "data": {
            "text/plain": [
              "<Figure size 640x480 with 1 Axes>"
            ],
            "image/png": "[encoded data removed]"
          },
          "metadata": {}
        }
      ]
    },
    {
      "cell_type": "markdown",
      "source": [
        "#미적분\n",
        "\n",
        "미적분은 변화의 양을 계산하는 학문으로, 물리학, 공학, 경제학 등에서 매우 중요한 개념 중 하나입니다. 미적분은 크게 미분과 적분으로 나뉘며, 미분은 어떤 함수의 변화량을 구하는 것이고, 적분은 함수의 면적을 구하는 것입니다.\n",
        "\n",
        "어느 날 학교에서 다른 학생과 경주를 하기로 했습니다. 경주 시작 전, 나는 경주로를 살펴보았습니다. 경주로는 길이가 100m이며, 경주 시작 신호가 울리면 나와 상대방은 동시에 출발합니다.\n",
        "\n",
        "나는 경주를 시작하기 전에 먼저 내가 1초 동안 달릴 수 있는 거리를 계산해봤습니다. 나의 속도는 10m/s이므로 1초 동안 달릴 수 있는 거리는 10m입니다. 이렇게 계산된 나의 속도를 미분이라고 합니다.\n",
        "\n",
        "경주를 시작하자마자 나는 최대 속도로 달렸습니다. 10m를 달리는 데는 1초가 걸리므로, 10m를 뛰는 데에는 1초 동안 소요됩니다. 그러면 1m를 뛰는 데는 1/10초가 소요되는 것이죠. 이때 1m를 뛰는 데에 소요되는 시간을 미분한 것을 시간의 변화율이라고 합니다.\n",
        "\n",
        "경주를 마치고 나는 내가 달린 거리를 측정하고자 했습니다. 경주로의 길이는 100m이므로, 내가 달린 거리를 구하려면 경주 시작부터 마침까지 지나온 거리를 모두 더해야 합니다. 이것이 적분이라고 합니다. 경주 시작부터 마침까지 내가 달린 거리를 모두 더하면 경주로의 길이인 100m가 됩니다.\n",
        "\n",
        "미적분은 이처럼 변화의 양을 계산하는데 사용됩니다. 미분은 변화율, 적분은 변화량을 계산하며, 이를 통해 우리는 물리학, 공학, 경제학 등에서 다양한 문제를 해결할 수 있습니다.\n",
        "\n"
      ],
      "metadata": {
        "id": "MMwYH3hIA2FT"
      }
    },
    {
      "cell_type": "code",
      "source": [
        "import sympy\n",
        "\n",
        "x = sympy.Symbol('x')\n",
        "y = x ** 2\n",
        "\n",
        "# 미분\n",
        "dy_dx = sympy.diff(y, x)\n",
        "print(\"y = x^2의 미분 결과: \", dy_dx)\n",
        "\n",
        "# 적분\n",
        "int_y = sympy.integrate(y, (x, 0, 1))\n",
        "print(\"y = x^2의 적분 결과: \", int_y)\n"
      ],
      "metadata": {
        "colab": {
          "base_uri": "https://localhost:8080/"
        },
        "id": "DTvxmSvc_62H",
        "outputId": "9a7f78af-e4e7-41f0-e94b-3b70d3b94e61"
      },
      "execution_count": null,
      "outputs": [
        {
          "output_type": "stream",
          "name": "stdout",
          "text": [
            "y = x^2의 미분 결과:  2*x\n",
            "y = x^2의 적분 결과:  1/3\n"
          ]
        }
      ]
    },
    {
      "cell_type": "code",
      "source": [
        "speed = 10 # 속도 (m/s)\n",
        "time = 1 # 시간 (s)\n",
        "\n",
        "# 미분: 속도를 계산\n",
        "distance = speed * time # 이동거리 (m)\n",
        "print(f\"나는 {distance} 미터를 {time} 초에 뛸 수 있음\")\n",
        "\n",
        "# 미분: 1m를 뛰는 데 걸리는 시간 계산\n",
        "time_per_meter = time / distance # 1m를 뛰는 데 걸리는 시간 (s/m)\n",
        "print(f\"1미터를 뛰는 데 {time_per_meter:.1f} 초가 걸림\")\n",
        "\n",
        "race_distance = 100 # 경주로 길이 (m)\n",
        "time_to_finish = race_distance / speed # 레이스를 마치는 데 걸리는 시간 (s)\n",
        "print(f\"레이스를 끝낼 때까지 {time_to_finish} 초가 걸림\")\n",
        "\n",
        "distance_traveled = 0 # 적분: 이동한 거리 계산\n",
        "for t in range(0, int(time_to_finish)):\n",
        "  distance_traveled += speed * time\n",
        "print(f\"나는 레이스에서 총 {distance_traveled} 미터를 뜀\")\n"
      ],
      "metadata": {
        "colab": {
          "base_uri": "https://localhost:8080/"
        },
        "id": "oSIhKNJKF25c",
        "outputId": "75ed0e39-f84c-41e8-99ce-49b93fb0e4f3"
      },
      "execution_count": null,
      "outputs": [
        {
          "output_type": "stream",
          "name": "stdout",
          "text": [
            "나는 10 미터를 1 초에 뛸 수 있음\n",
            "1미터를 뛰는 데 0.1 초가 걸림\n",
            "레이스를 끝낼 때까지 10.0 초가 걸림\n",
            "나는 레이스에서 총 100 미터를 뜀\n"
          ]
        }
      ]
    },
    {
      "cell_type": "markdown",
      "source": [
        "##순간변화율\n",
        "\n",
        "순간변화율은 미적분의 기본 개념 중 하나입니다.\n",
        "\n",
        "어느 날 친구와 함께 놀이공원에 왔습니다. 놀이공원에는 다양한 놀이기구가 있었는데, 그 중에서도 저희가 탑승한 롤러코스터는 굉장히 빠르게 움직이는 것이 인상적이었습니다.\n",
        "\n",
        "롤러코스터를 타면서, 친구는 \"이 놀이기구에서 내가 가장 빠르게 움직이는 구간은 어디일까?\"라는 질문을 던졌습니다. 이때, 순간변화율이라는 개념을 사용하여, 그 구간을 파악할 수 있습니다.\n",
        "\n",
        "우선, 롤러코스터를 타면서 시간에 따라 움직이는 거리를 시계열 데이터로 기록해보았습니다. 그리고 이를 그래프로 나타내어 보았습니다. 그래프에서는 시간에 따른 거리의 변화를 한 눈에 파악할 수 있습니다.\n",
        "\n",
        "그러면 이제 순간변화율을 계산해봅시다. 순간변화율은, 어떤 값의 변화량을 시간의 변화량으로 나눈 것입니다. 롤러코스터를 타면서 움직이는 거리의 순간변화율은, 각 시간별 거리의 변화량을 그 시간의 길이로 나누면 계산할 수 있습니다.\n",
        "\n",
        "롤러코스터를 타면서 가장 빠르게 움직이는 구간은, 순간변화율이 가장 높은 구간입니다. 이를 그래프로 표현해보면, 가파른 기울기를 가지는 지점이 가장 빠른 구간입니다.\n",
        "\n",
        "순간변화율은 이처럼 변화하는 양을 정확하게 파악할 수 있는 개념입니다. 이를 통해 우리는 다양한 문제를 해결할 수 있습니다. 예를 들어, 함수의 극대값, 극소값 등을 찾거나, 함수의 기울기가 어떤 패턴으로 변하는지 등을 분석할 수 있습니다.\n",
        "\n",
        "파이썬 코드 및 그래프 예시는 아래와 같습니다.\n"
      ],
      "metadata": {
        "id": "H6cQctu1CpbS"
      }
    },
    {
      "cell_type": "code",
      "source": [
        "# 롤러코스터 움직임의 순간변화율 계산\n",
        "\n",
        "# 시간에 따른 거리 데이터\n",
        "time = [0, 1, 2, 3, 4, 5]\n",
        "distance = [0, 2, 10, 15, 20, 24]\n",
        "\n",
        "# 속도 계산 함수\n",
        "def calculate_velocity(x1, x2, y1, y2):\n",
        "    return (y2 - y1) / (x2 - x1)\n",
        "\n",
        "# 각 시간별 속도 계산\n",
        "velocities = []\n",
        "for i in range(len(time)-1):\n",
        "    velocity = calculate_velocity(time[i], time[i+1], distance[i], distance[i+1])\n",
        "    velocities.append(velocity)\n",
        "\n",
        "# 속도 변화율 그래프 그리기\n",
        "import matplotlib.pyplot as plt\n",
        "plt.plot(time[:-1], velocities)\n",
        "plt.title(\"롤러코스터 속도의 순간 변화율\")\n",
        "plt.xlabel(\"시간 (s)\")\n",
        "plt.ylabel(\"순간 변화율 (m/s)\")\n",
        "plt.show()\n",
        "\n"
      ],
      "metadata": {
        "colab": {
          "base_uri": "https://localhost:8080/",
          "height": 471
        },
        "id": "oCDN88C0_8Q5",
        "outputId": "17e68877-8038-43b5-9269-07252987d5bd"
      },
      "execution_count": null,
      "outputs": [
        {
          "output_type": "display_data",
          "data": {
            "text/plain": [
              "<Figure size 640x480 with 1 Axes>"
            ],
            "image/png": "[encoded data removed]"
          },
          "metadata": {}
        }
      ]
    },
    {
      "cell_type": "code",
      "source": [
        "speed = 10 # 속도 (m/s)\n",
        "time = 1 # 시간 (s)\n",
        "\n",
        "# 미분: 속도를 계산\n",
        "distance = speed * time # 이동거리 (m)\n",
        "print(f\"나는 {distance} 미터를 {time} 초에 뛸 수 있음\")\n",
        "\n",
        "# 미분: 1m를 뛰는 데 걸리는 시간 계산\n",
        "time_per_meter = time / distance # 1m를 뛰는 데 걸리는 시간 (s/m)\n",
        "print(f\"1미터를 뛰는 데 {time_per_meter:.2f} 초가 걸림\")\n",
        "\n",
        "race_distance = 100 # 경주로 길이 (m)\n",
        "time_to_finish = race_distance / speed # 레이스를 마치는 데 걸리는 시간 (s)\n",
        "print(f\"레이스를 끝낼 때까지 {time_to_finish} 초가 걸림\")\n",
        "\n",
        "# 순간 변화율: 현재 속도 계산\n",
        "current_speed = speed # 현재 속도 (m/s)\n",
        "print(f\"현재 속도는 {current_speed} m/s입니다.\")\n",
        "\n",
        "\n",
        "# 출력: 이동한 거리와 순간 변화율\n",
        "print(f\"나는 레이스에서 총 {distance_traveled} 미터를 뜀\")\n",
        "print(f\"현재 순간 변화율은 {current_speed} m/s입니다.\")\n"
      ],
      "metadata": {
        "colab": {
          "base_uri": "https://localhost:8080/"
        },
        "id": "njVmdQ1GNN_n",
        "outputId": "4c9933c1-6d43-40fb-f6f6-0c30d650e1cd"
      },
      "execution_count": null,
      "outputs": [
        {
          "output_type": "stream",
          "name": "stdout",
          "text": [
            "나는 10 미터를 1 초에 뛸 수 있음\n",
            "1미터를 뛰는 데 0.10 초가 걸림\n",
            "레이스를 끝낼 때까지 10.0 초가 걸림\n",
            "현재 속도는 10 m/s입니다.\n",
            "나는 레이스에서 총 100 미터를 뜀\n",
            "현재 순간 변화율은 10 m/s입니다.\n"
          ]
        }
      ]
    },
    {
      "cell_type": "markdown",
      "source": [
        "##접선의 방정식\n",
        "\n",
        "접선은 어떤 함수의 한 점에서 그래프와 접하는 선을 말합니다. 이때, 접선의 방정식을 구하는 것은 그래프와 접하는 선을 수학적으로 표현하는 것을 의미합니다.\n",
        "\n",
        "그렇다면 어떻게 접선의 방정식을 구할 수 있을까요? 이를 구하는 가장 기본적인 방법은 미분을 사용하는 것입니다. 미분은 함수가 어떤 점에서 기울기를 가지는지를 나타내는 것인데, 이 기울기가 바로 접선의 기울기와 일치합니다.\n",
        "\n",
        "그러면 이제 미분을 사용하여 접선의 방정식을 구하는 방법을 알아보겠습니다. 예를 들어, 함수 y = x^2 에서 x = 2에서의 접선의 방정식을 구하고 싶다고 해봅시다.\n",
        "\n",
        "먼저, x = 2에서의 함수 y = x^2의 기울기를 구하기 위해 미분을 사용합니다. 함수 y = x^2를 미분하면 y' = 2x가 됩니다. 따라서 x = 2에서의 기울기는 y' = 2(2) = 4가 됩니다.\n",
        "\n",
        "이제, 접선의 방정식을 구하기 위해 다음과 같은 식을 사용합니다: y - y1 = m(x - x1). 이때, (x1, y1)은 접선이 지나는 한 점의 좌표이고, m은 그 점에서의 기울기입니다.\n",
        "\n",
        "따라서, x = 2에서의 접선의 방정식을 구하기 위해 다음과 같이 계산합니다:\n",
        "\n",
        "(x1, y1) = (2, 4)\n",
        "m = 4 (위에서 구한 기울기)\n",
        "y - 4 = 4(x - 2)\n",
        "이렇게 구한 식 y - 4 = 4(x - 2)이 바로 x = 2에서의 접선의 방정식입니다.\n"
      ],
      "metadata": {
        "id": "OtSu9G7DNwd_"
      }
    },
    {
      "cell_type": "code",
      "source": [
        "import numpy as np\n",
        "import matplotlib.pyplot as plt\n",
        "\n",
        "# 함수 정의\n",
        "def f(x):\n",
        "    return x**2\n",
        "\n",
        "# x 값과 x = 2에서의 접선을 그리기 위한 x 범위 정의\n",
        "x = np.linspace(-5, 5, 100)\n",
        "x_tan = np.linspace(1.5, 2.5, 100)\n",
        "\n",
        "# 함수 그래프 그리기\n",
        "plt.plot(x, f(x), label='y = x^2')\n",
        "\n",
        "# x = 2에서의 접선 그리기\n",
        "plt.plot(x_tan, 4*(x_tan-2) + 4, linestyle='--', label='tangent')\n",
        "\n",
        "# 그래프 꾸미기\n",
        "plt.xlabel('x')\n",
        "plt.ylabel('y')\n",
        "plt.legend()\n",
        "\n",
        "# 그래프 보여주기\n",
        "plt.show()\n",
        "\n",
        "# 그래프에서는 x = 2에서 함수의 그래프와 접선이 서로 접하는 것을 확인할 수 있습니다.\n",
        "# 이때, 접선의 방정식은 y - 4 = 4(x - 2)로 표현됩니다."
      ],
      "metadata": {
        "id": "c5F0nmkf_8ME",
        "colab": {
          "base_uri": "https://localhost:8080/",
          "height": 449
        },
        "outputId": "ab31e4d1-5e39-4ee2-adc5-17a7d6e7e175"
      },
      "execution_count": null,
      "outputs": [
        {
          "output_type": "display_data",
          "data": {
            "text/plain": [
              "<Figure size 640x480 with 1 Axes>"
            ],
            "image/png": "[encoded data removed]"
          },
          "metadata": {}
        }
      ]
    },
    {
      "cell_type": "markdown",
      "source": [
        "##편미분\n",
        "\n",
        "우리가 일반적으로 배우는 미분은 하나의 변수에 대한 변화량을 나타내는 것입니다. 그러나 함수가 여러 개의 변수로 이루어져 있는 경우, 이 변수들 중 하나에 대한 변화량을 나타내는 것이 아니라 다른 변수들은 상수로 취급하고 하나의 변수에 대해서만 미분을 수행하는 것이 필요합니다. 이를 편미분이라고 합니다.\n",
        "\n",
        "우리가 자동차를 운전하면서 주행 거리와 시간 사이의 관계를 생각할 수 있습니다. 예를 들어, 우리가 자동차를 1시간 운전했을 때 주행 거리가 60km이라고 하면, 우리는 이를 \"시간에 대한 거리의 변화율\"로 생각할 수 있습니다.\n",
        "\n",
        "하지만 실제로는, 자동차의 주행 거리는 운전하는 동안 여러 가지 요인에 따라 변할 수 있습니다. 예를 들어, 운전 중간에 속도를 바꾸거나 멈춰서 기름을 넣는 경우 등이 있습니다. 이런 경우에는 주행 거리와 시간 사이의 관계를 더 세부적으로 분석해야 합니다.\n",
        "\n",
        "여기서 편미분이 등장합니다. 운전 중간에 속도를 바꾸거나 멈춰서 기름을 넣는 경우, 이전까지의 주행 거리와 시간 사이의 변화율과 달라집니다. 따라서 우리는 특정 시간 동안의 주행 거리 변화율을 계산하려면, 이전까지의 변화율과 다른 부분만 따로 계산해야 합니다. 이 때 사용되는 것이 편미분입니다.\n",
        "\n",
        "\n"
      ],
      "metadata": {
        "id": "nuLZuRORO8dv"
      }
    },
    {
      "cell_type": "code",
      "source": [
        "# 시간에 따른 주행 거리 데이터\n",
        "time = [0, 1, 2, 3, 4, 5] # 시간 (시)\n",
        "distance = [0, 60, 90, 110, 130, 150] # 주행 거리 (km)\n",
        "\n",
        "# 각 시간별 주행 거리 변화율 계산 함수\n",
        "def calculate_change_rate(x1, x2, y1, y2):\n",
        "    return (y2 - y1) / (x2 - x1)\n",
        "\n",
        "# 각 시간별 주행 거리 변화율 계산\n",
        "change_rates = []\n",
        "for i in range(len(time)-1):\n",
        "    change_rate = calculate_change_rate(time[i], time[i+1], distance[i], distance[i+1])\n",
        "    change_rates.append(change_rate)\n",
        "\n",
        "# 시간에 따른 주행 거리 변화율 그래프 그리기\n",
        "import matplotlib.pyplot as plt\n",
        "plt.plot(time[:-1], change_rates, label=\"주행 거리의 변화율\")\n",
        "\n",
        "# 각 시간별 주행 거리의 편미분 계산\n",
        "partial_derivatives = []\n",
        "for i in range(len(time)):\n",
        "    if i == 0:\n",
        "        partial_derivative = (distance[i+1] - distance[i]) / (time[i+1] - time[i])\n",
        "    elif i == len(time)-1:\n",
        "        partial_derivative = (distance[i] - distance[i-1]) / (time[i] - time[i-1])\n",
        "    else:\n",
        "        partial_derivative = (distance[i+1] - distance[i-1]) / (time[i+1] - time[i-1])\n",
        "    partial_derivatives.append(partial_derivative)\n",
        "\n",
        "# 시간에 따른 주행 거리의 편미분 그래프 그리기\n",
        "plt.plot(time, partial_derivatives, label=\"주행 거리의 편미분\")\n",
        "\n",
        "# 그래프 설정\n",
        "plt.title(\"주행 거리와 시간의 관계\")\n",
        "plt.xlabel(\"시간 (시)\")\n",
        "plt.legend()\n",
        "plt.show()\n"
      ],
      "metadata": {
        "colab": {
          "base_uri": "https://localhost:8080/",
          "height": 471
        },
        "id": "fJAttokoTERq",
        "outputId": "ba4e0831-c9a1-4ea7-9d55-60de31889db5"
      },
      "execution_count": null,
      "outputs": [
        {
          "output_type": "display_data",
          "data": {
            "text/plain": [
              "<Figure size 640x480 with 1 Axes>"
            ],
            "image/png": "[encoded data removed]"
          },
          "metadata": {}
        }
      ]
    },
    {
      "cell_type": "code",
      "source": [
        "import sympy as sp\n",
        "\n",
        "# 변수와 함수 정의\n",
        "x, y = sp.symbols('x y')\n",
        "z = x**2 + 2*x*y + y**2\n",
        "\n",
        "# x에 대한 편미분 계산\n",
        "dz_dx = sp.diff(z, x)\n",
        "\n",
        "# 결과 출력\n",
        "print(dz_dx)\n",
        "\n",
        "# 결과로 2x + 2y가 출력\n",
        "# 이는 함수 z = x^2 + 2xy + y^2를 x에 대해 편미분한 결과가 2x + 2y임을 나타냄"
      ],
      "metadata": {
        "id": "PSTMcqLl_8Jt",
        "colab": {
          "base_uri": "https://localhost:8080/"
        },
        "outputId": "61903d71-c118-47a4-d458-7921e7b500d5"
      },
      "execution_count": null,
      "outputs": [
        {
          "output_type": "stream",
          "name": "stdout",
          "text": [
            "2*x + 2*y\n"
          ]
        }
      ]
    },
    {
      "cell_type": "code",
      "source": [
        "# y에 대한 편미분 계산\n",
        "dz_dy = sp.diff(z, y)\n",
        "\n",
        "# 결과 출력\n",
        "print(dz_dy)\n",
        "\n",
        "# 결과로 2x + 2y가 출력\n",
        "# 이는 함수 z = x^2 + 2xy + y^2를 y에 대해 편미분한 결과가 2x + 2y임을 나타냄"
      ],
      "metadata": {
        "id": "tjVtIpoj_8HR",
        "colab": {
          "base_uri": "https://localhost:8080/"
        },
        "outputId": "798f47b6-b688-4869-ebbe-878261f10a7e"
      },
      "execution_count": null,
      "outputs": [
        {
          "output_type": "stream",
          "name": "stdout",
          "text": [
            "2*x + 2*y\n"
          ]
        }
      ]
    },
    {
      "cell_type": "code",
      "source": [],
      "metadata": {
        "id": "RYj0oBDu_8E3"
      },
      "execution_count": null,
      "outputs": []
    },
    {
      "cell_type": "code",
      "source": [
        "import sympy\n",
        "\n",
        "# 변수 설정\n",
        "T, P = sympy.symbols('T P')\n",
        "\n",
        "# 함수 설정\n",
        "f = sympy.sin(T) + 2 * P**2\n",
        "\n",
        "# 온도에 대한 편미분\n",
        "dfdT = sympy.diff(f, T)\n",
        "\n",
        "# 압력에 대한 편미분\n",
        "dfdP = sympy.diff(f, P)\n",
        "\n",
        "print(\"온도에 대한 편미분 결과: \", dfdT)\n",
        "print(\"압력에 대한 편미분 결과: \", dfdP)\n"
      ],
      "metadata": {
        "colab": {
          "base_uri": "https://localhost:8080/"
        },
        "id": "OayrYX_3X3zx",
        "outputId": "bb1f1bce-002e-44ed-d48f-ea863ee1334e"
      },
      "execution_count": null,
      "outputs": [
        {
          "output_type": "stream",
          "name": "stdout",
          "text": [
            "온도에 대한 편미분 결과:  cos(T)\n",
            "압력에 대한 편미분 결과:  4*P\n"
          ]
        }
      ]
    }
  ]
}