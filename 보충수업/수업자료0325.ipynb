{
  "nbformat": 4,
  "nbformat_minor": 0,
  "metadata": {
    "colab": {
      "provenance": [],
      "authorship_tag": "ABX9TyNh/2xBZE1E1Og+UX0lITkW",
      "include_colab_link": true
    },
    "kernelspec": {
      "name": "python3",
      "display_name": "Python 3"
    },
    "language_info": {
      "name": "python"
    }
  },
  "cells": [
    {
      "cell_type": "markdown",
      "metadata": {
        "id": "view-in-github",
        "colab_type": "text"
      },
      "source": [
        "<a href=\"https://colab.research.google.com/github/ilm52626/HKMD1_Complementary/blob/main/%EB%B3%B4%EC%B6%A9%EC%88%98%EC%97%85/%EC%88%98%EC%97%85%EC%9E%90%EB%A3%8C0325.ipynb\" target=\"_parent\"><img src=\"https://colab.research.google.com/assets/colab-badge.svg\" alt=\"Open In Colab\"/></a>"
      ]
    },
    {
      "cell_type": "markdown",
      "source": [
        "**클래스 생성자 개념 및 사용법:**\n",
        "*   클래스 생성자란, 객체를 생성할 때 자동으로 호출되어 객체의 초기 상태를 설정하는 메소드. \n",
        "*   생성자는 클래스 내부에 init() 함수로 구현됨. \n",
        "*   생성자는 객체를 생성할 때 인스턴스 변수를 초기화하거나 객체를 생성할 때 필요한 값들을 입력받는 역할을 함."
      ],
      "metadata": {
        "id": "VxRKpCtmn2Or"
      }
    },
    {
      "cell_type": "code",
      "source": [
        "class Car:\n",
        "    def __init__(self, make, model, year):\n",
        "        self.make = make\n",
        "        self.model = model\n",
        "        self.year = year\n",
        "\n",
        "my_car = Car('Hyundai', 'Sonata', 2020)\n",
        "print(my_car.make) # 'Hyundai'\n",
        "print(my_car.model) # 'Sonata'\n",
        "print(my_car.year) # 2020\n"
      ],
      "metadata": {
        "id": "qchUzekYsJI8",
        "colab": {
          "base_uri": "https://localhost:8080/"
        },
        "outputId": "ce6bbe33-b142-4626-aaed-deaf7f4b8d0c"
      },
      "execution_count": null,
      "outputs": [
        {
          "output_type": "stream",
          "name": "stdout",
          "text": [
            "Hyundai\n",
            "Sonata\n",
            "2020\n"
          ]
        }
      ]
    },
    {
      "cell_type": "markdown",
      "source": [
        "\n",
        "**함수 입력값 결괏값 사용이유:**\n",
        "*   함수는 입력값을 받아 처리하고 그 결과를 반환함. \n",
        "*   함수의 입력값과 결괏값은 프로그램의 유연성과 모듈화를 제공함. \\\n",
        "*   함수를 사용하면 코드를 간결하고 가독성이 높아지며 코드 재사용성이 향상됨.\n"
      ],
      "metadata": {
        "id": "5eRnatdKoRAW"
      }
    },
    {
      "cell_type": "code",
      "source": [
        "def add_numbers(x, y):\n",
        "    return x + y\n",
        "\n",
        "result = add_numbers(10, 5)\n",
        "print(result) # 15\n"
      ],
      "metadata": {
        "id": "P82donjMsJfI",
        "colab": {
          "base_uri": "https://localhost:8080/"
        },
        "outputId": "892c934e-e6c1-440a-9842-4bb4b386c74b"
      },
      "execution_count": null,
      "outputs": [
        {
          "output_type": "stream",
          "name": "stdout",
          "text": [
            "15\n"
          ]
        }
      ]
    },
    {
      "cell_type": "markdown",
      "source": [
        "\n",
        "**프로그램 실행시간의 의미:**\n",
        "*   프로그램이 시작되어 종료될 때까지 소요된 시간을 의미함. \n",
        "*   프로그램 실행시간을 측정하는 것은 프로그램의 성능을 평가하고 최적화하는 데 사용.\n"
      ],
      "metadata": {
        "id": "nR0CBwBJoS8x"
      }
    },
    {
      "cell_type": "code",
      "source": [
        "import time\n",
        "\n",
        "start_time = time.time()\n",
        "\n",
        "# 실행시간을 측정하고자 하는 코드\n",
        "\n",
        "end_time = time.time()\n",
        "\n",
        "print('실행시간:', end_time - start_time)\n"
      ],
      "metadata": {
        "id": "bLzwWJWLsJ5N",
        "colab": {
          "base_uri": "https://localhost:8080/"
        },
        "outputId": "9b793d9d-80d1-4e9e-dc13-c7ad1e0c84b1"
      },
      "execution_count": null,
      "outputs": [
        {
          "output_type": "stream",
          "name": "stdout",
          "text": [
            "실행시간: 3.0994415283203125e-05\n"
          ]
        }
      ]
    },
    {
      "cell_type": "markdown",
      "source": [
        "\n",
        "**enumerate함수 사용법:**\n",
        "*   enumerate 함수는 순서가 있는 자료형(list, tuple, string)을 입력으로 받아 인덱스와 값을 포함하는 enumerate 객체를 반환함. \n",
        "*   enumerate 함수는 for문과 함께 자주 사용되며 반복문에서 인덱스를 사용해야 하는 경우 특히 유용함.\n"
      ],
      "metadata": {
        "id": "H_hK35yBoTT6"
      }
    },
    {
      "cell_type": "code",
      "source": [
        "fruits = ['apple', 'banana', 'cherry']\n",
        "\n",
        "for i, fruit in enumerate(fruits):\n",
        "    print(i, fruit)\n"
      ],
      "metadata": {
        "id": "92A_sWcJsLUM",
        "colab": {
          "base_uri": "https://localhost:8080/"
        },
        "outputId": "2d53a1b3-86e6-4fa3-bfdf-d44d338c1959"
      },
      "execution_count": null,
      "outputs": [
        {
          "output_type": "stream",
          "name": "stdout",
          "text": [
            "0 apple\n",
            "1 banana\n",
            "2 cherry\n"
          ]
        }
      ]
    },
    {
      "cell_type": "markdown",
      "source": [
        "\n",
        "**객체(object)의 개념:**\n",
        "*   객체는 속성(맴버)과 메소드를 포함하는 데이터 구조를 가지며 클래스를 기반으로 생성됨. \n",
        "*   각 객체는 고유한 상태를 가지며 상태에 따라 다른 동작을 수행함. \n",
        "*   객체는 데이터 캡슐화와 추상화를 통해 프로그램의 유연성을 높여주며 객체지향 프로그래밍에서 중요한 개념 중 하나임.\n",
        "*   파이썬에서 정수, 실수, 문자열, 리스트, 딕셔너리, 모든 데이터 타입, 함수, 모듈, 패키지 등 모든 것은 객체이므로 객체를 복사하거나 전달하는 작업이 쉬움.\n",
        "\n",
        "\n",
        "\n"
      ],
      "metadata": {
        "id": "GTsSsW1woTR9"
      }
    },
    {
      "cell_type": "code",
      "source": [
        "class Person:\n",
        "    def __init__(self, name, age):\n",
        "        self.name = name\n",
        "        self.age = age\n",
        "    \n",
        "    def say_hello(self):\n",
        "        print('Hello, my name is {} and I am {} years old.'.format(self.name, self.age))\n",
        "\n",
        "person = Person('Alice', 25)\n",
        "person.say_hello() # 'Hello, my name is Alice and I am 25 years old.'\n"
      ],
      "metadata": {
        "id": "2oGoljZ9s8Ab",
        "colab": {
          "base_uri": "https://localhost:8080/"
        },
        "outputId": "eda3a3bd-89cf-46ee-afaa-ce1e20a5eac6"
      },
      "execution_count": null,
      "outputs": [
        {
          "output_type": "stream",
          "name": "stdout",
          "text": [
            "Hello, my name is Alice and I am 25 years old.\n"
          ]
        }
      ]
    },
    {
      "cell_type": "markdown",
      "source": [
        "\n",
        "**지역변수 전역변수:**\n",
        "*   지역변수는 함수 내에서만 사용 가능한 변수이며 함수가 종료될 때 함께 소멸함. \n",
        "*   전역변수는 함수 외부에서 선언된 변수이고 프로그램 전체에서 사용할 수 있음.\n"
      ],
      "metadata": {
        "id": "6leSy0mEoTQC"
      }
    },
    {
      "cell_type": "code",
      "source": [
        "# 전역변수 예시\n",
        "x = 10 # 전역변수 x 선언\n",
        "\n",
        "def foo():\n",
        "    print(x) # 전역변수 x 사용\n",
        "\n",
        "foo() # 출력: 10\n",
        "\n",
        "# 지역변수 예시\n",
        "def foo():\n",
        "    x = 10 # 지역변수 x 선언\n",
        "    print(x) # 지역변수 x 사용\n",
        "\n",
        "foo() # 출력: 10\n",
        "print(x) # 오류 발생 (전역변수 x를 사용할 수 없음)"
      ],
      "metadata": {
        "id": "ja8CBmayuKHb",
        "colab": {
          "base_uri": "https://localhost:8080/"
        },
        "outputId": "4b4663bd-99fb-4ca7-9f12-357c4addf991"
      },
      "execution_count": null,
      "outputs": [
        {
          "output_type": "stream",
          "name": "stdout",
          "text": [
            "10\n",
            "10\n",
            "10\n"
          ]
        }
      ]
    },
    {
      "cell_type": "markdown",
      "source": [
        "\n",
        "**에러처리 try except 사용:**\n",
        "*   예외처리를 사용하면 프로그램이 예외 상황에서 비정상 종료하는 것을 방지하고 안정적인 프로그램을 구현할 수 있음.\n",
        "\n"
      ],
      "metadata": {
        "id": "LQJhdo20oTN5"
      }
    },
    {
      "cell_type": "code",
      "source": [
        "# 예외처리를 사용하지 않은 예시\n",
        "x = 0\n",
        "y = 10\n",
        "\n",
        "# result = y / x # ZeroDivisionError 발생 (0으로 나눌 수 없음)\n",
        "\n",
        "print(result) # 실행되지 않음\n",
        "\n",
        "# 예외처리를 사용한 예시\n",
        "x = 0\n",
        "y = 10\n",
        "\n",
        "try:\n",
        "    result = y / x\n",
        "except ZeroDivisionError:\n",
        "    print(\"0으로 나눌 수 없습니다.\")\n",
        "    result = None\n",
        "\n",
        "print(result) # 출력: None"
      ],
      "metadata": {
        "id": "7x2Ng0LJoO4K",
        "colab": {
          "base_uri": "https://localhost:8080/"
        },
        "outputId": "ccfadbc9-fc91-4873-c26f-b0199e1db17c"
      },
      "execution_count": null,
      "outputs": [
        {
          "output_type": "stream",
          "name": "stdout",
          "text": [
            "15\n",
            "0으로 나눌 수 없습니다.\n",
            "None\n"
          ]
        }
      ]
    },
    {
      "cell_type": "markdown",
      "source": [
        "**map함수 개념 및 사용법 (filter와의 차이):**\n",
        "*   map 함수는 리스트나 튜플과 같은 iterable 객체를 인자로 받아 각 요소에 대해 지정한 함수를 적용하여 새로운 iterable 객체를 반환함. \n",
        "*   filter 함수와는 달리 조건식이 아닌 함수를 인자로 받는다는 점에서 차이가 있음."
      ],
      "metadata": {
        "id": "yA6I49REuO1y"
      }
    },
    {
      "cell_type": "code",
      "source": [
        "# 1부터 5까지 각 숫자를 2배로 만드는 함수를 정의\n",
        "def double(x):\n",
        "    return x * 2\n",
        "\n",
        "# 리스트의 각 요소에 double 함수를 적용한 결과를 출력\n",
        "lst = [1, 2, 3, 4, 5]\n",
        "result = map(double, lst)\n",
        "print(list(result))  # [2, 4, 6, 8, 10]\n"
      ],
      "metadata": {
        "id": "wdqU6jKsvb2W",
        "colab": {
          "base_uri": "https://localhost:8080/"
        },
        "outputId": "8248bc51-db36-4bcc-ebdb-616601ea1f70"
      },
      "execution_count": null,
      "outputs": [
        {
          "output_type": "stream",
          "name": "stdout",
          "text": [
            "[2, 4, 6, 8, 10]\n"
          ]
        }
      ]
    },
    {
      "cell_type": "markdown",
      "source": [
        "**library 개념:**\n",
        "*  라이브러리는 이미 작성된 함수나 모듈의 집합으로 프로그램에서 자주 사용하는 기능을 제공하는 라이브러리를 활용하여 빠르고 효율적인 개발이 가능.\n",
        "*   파이썬에서는 대표적으로 numpy, pandas, matplotlib, requests 등 다양한 라이브러리 제공."
      ],
      "metadata": {
        "id": "kiYGMWkRuOzA"
      }
    },
    {
      "cell_type": "markdown",
      "source": [
        "**format 개념 및 사용법:**\n",
        "*  format 함수는 문자열을 포맷팅하는 함수로 문자열 안에 {}를 사용하여 값을 삽입할 수 있음\n",
        "*  {} 안에 인덱스나 변수를 지정하여 문자열의 위치에 값을 삽입할 수 있음."
      ],
      "metadata": {
        "id": "2o3E7ygwuOwc"
      }
    },
    {
      "cell_type": "code",
      "source": [
        "# 문자열에 값을 삽입하는 방법\n",
        "name = \"John\"\n",
        "age = 30\n",
        "print(\"My name is {} and I'm {} years old\".format(name, age))\n",
        "\n",
        "# 인덱스를 지정하는 방법\n",
        "print(\"My name is {0} and I'm {1} years old. {0} is my first name.\".format(name, age))\n"
      ],
      "metadata": {
        "id": "uZwEFdzQucjZ",
        "colab": {
          "base_uri": "https://localhost:8080/"
        },
        "outputId": "fc7765b0-4c3a-4c15-cf59-85b024de0ebd"
      },
      "execution_count": null,
      "outputs": [
        {
          "output_type": "stream",
          "name": "stdout",
          "text": [
            "My name is John and I'm 30 years old\n",
            "My name is John and I'm 30 years old. John is my first name.\n"
          ]
        }
      ]
    },
    {
      "cell_type": "markdown",
      "source": [
        "**tuple 개념 및 사용법:**\n",
        "*  튜플은 리스트와 유사한 자료형으로 리스트와 달리 값을 변경할 수 없음. \n",
        "*  소괄호를 사용하여 표현하며 여러개의 값이 소괄호 안에 쉼표(,)로 구분되어 있음."
      ],
      "metadata": {
        "id": "ETPYczBUuOuL"
      }
    },
    {
      "cell_type": "code",
      "source": [
        "# 튜플 선언하는 방법\n",
        "t = (1, 2, 3, 4, 5)\n",
        "print(t[0])  # 1\n"
      ],
      "metadata": {
        "id": "7XLnCUIkoO1k",
        "colab": {
          "base_uri": "https://localhost:8080/"
        },
        "outputId": "d1944235-1a28-460a-d078-5ab690b7a486"
      },
      "execution_count": null,
      "outputs": [
        {
          "output_type": "stream",
          "name": "stdout",
          "text": [
            "1\n"
          ]
        }
      ]
    },
    {
      "cell_type": "markdown",
      "source": [
        "**import re 사용이유 (라이브러리 import 이유):**\n",
        "*  re는 파이썬의 정규 표현식 모듈. 정규 표현식은 문자열에서 특정한 패턴을 찾거나 바꾸거나 추출하는 등의 작업을 수행할 때 매우 유용함. \n",
        "*   re 모듈을 import하여 정규 표현식을 사용할 수 있음."
      ],
      "metadata": {
        "id": "Iq01RejlxJxA"
      }
    },
    {
      "cell_type": "code",
      "source": [
        "import re\n",
        "\n",
        "email = \"example@gmail.com\"\n",
        "domain = re.search(\"@[\\w.]+\", email).group()[1:]\n",
        "print(domain) # gmail.com\n"
      ],
      "metadata": {
        "colab": {
          "base_uri": "https://localhost:8080/"
        },
        "id": "UNai9lmAxJxB",
        "outputId": "75cebcae-4968-4700-b108-4102acf86076"
      },
      "execution_count": null,
      "outputs": [
        {
          "output_type": "stream",
          "name": "stdout",
          "text": [
            "gmail.com\n"
          ]
        }
      ]
    },
    {
      "cell_type": "markdown",
      "source": [
        "**리스트 슬라이싱 개념과 방법:**\n",
        "*  리스트 슬라이싱은 리스트에서 일부분을 잘라내는 기능으로 슬라이싱을 사용하면 리스트의 일부분을 쉽게 추출하거나 수정할 수 있음"
      ],
      "metadata": {
        "id": "9bnqYrLfxJ5E"
      }
    },
    {
      "cell_type": "code",
      "source": [
        "a = [1, 2, 3, 4, 5]\n",
        "b = a[1:3] # 인덱스 1부터 3전까지 추출\n",
        "print(b) # [2, 3]\n"
      ],
      "metadata": {
        "id": "Peu87KwvxJ5E",
        "colab": {
          "base_uri": "https://localhost:8080/"
        },
        "outputId": "7a386e27-3eea-47d8-c16a-b2e43437a46f"
      },
      "execution_count": null,
      "outputs": [
        {
          "output_type": "stream",
          "name": "stdout",
          "text": [
            "[2, 3]\n"
          ]
        }
      ]
    },
    {
      "cell_type": "code",
      "source": [],
      "metadata": {
        "id": "z88qyX5hxC2T"
      },
      "execution_count": null,
      "outputs": []
    },
    {
      "cell_type": "code",
      "source": [],
      "metadata": {
        "id": "BJx5eYlLoOzy"
      },
      "execution_count": null,
      "outputs": []
    },
    {
      "cell_type": "code",
      "source": [],
      "metadata": {
        "id": "krjKHoAMsOFq"
      },
      "execution_count": null,
      "outputs": []
    },
    {
      "cell_type": "code",
      "source": [],
      "metadata": {
        "id": "mcKmLQQioOxp"
      },
      "execution_count": null,
      "outputs": []
    },
    {
      "cell_type": "code",
      "source": [],
      "metadata": {
        "id": "D35lOgAmoOvn"
      },
      "execution_count": null,
      "outputs": []
    },
    {
      "cell_type": "code",
      "source": [],
      "metadata": {
        "id": "PAfwe7XUoOta"
      },
      "execution_count": null,
      "outputs": []
    }
  ]
}